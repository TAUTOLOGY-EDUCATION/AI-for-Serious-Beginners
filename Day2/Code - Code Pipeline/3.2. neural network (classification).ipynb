{
 "cells": [
  {
   "cell_type": "markdown",
   "id": "57654bb6",
   "metadata": {},
   "source": [
    "# 1. Import Libraries"
   ]
  },
  {
   "cell_type": "code",
   "execution_count": 1,
   "id": "2f51eef5",
   "metadata": {},
   "outputs": [],
   "source": [
    "import numpy as np\n",
    "import pandas as pd\n",
    "import matplotlib.pyplot as plt\n",
    "\n",
    "from sklearn.model_selection import train_test_split\n",
    "from sklearn.preprocessing import OrdinalEncoder, OneHotEncoder\n",
    "from sklearn.preprocessing import (\n",
    "    OrdinalEncoder, \n",
    "    OneHotEncoder, \n",
    "    StandardScaler, \n",
    "    MinMaxScaler\n",
    ")\n",
    "from sklearn.neural_network import MLPClassifier\n",
    "from sklearn.metrics import plot_confusion_matrix, classification_report\n",
    "\n",
    "import warnings\n",
    "warnings.filterwarnings('ignore')\n",
    "\n",
    "np.random.seed(12345)"
   ]
  },
  {
   "cell_type": "markdown",
   "id": "6707b8de",
   "metadata": {},
   "source": [
    "# 2. Read Data"
   ]
  },
  {
   "cell_type": "code",
   "execution_count": 2,
   "id": "89c2e441",
   "metadata": {
    "scrolled": true
   },
   "outputs": [
    {
     "data": {
      "text/html": [
       "<div>\n",
       "<style scoped>\n",
       "    .dataframe tbody tr th:only-of-type {\n",
       "        vertical-align: middle;\n",
       "    }\n",
       "\n",
       "    .dataframe tbody tr th {\n",
       "        vertical-align: top;\n",
       "    }\n",
       "\n",
       "    .dataframe thead th {\n",
       "        text-align: right;\n",
       "    }\n",
       "</style>\n",
       "<table border=\"1\" class=\"dataframe\">\n",
       "  <thead>\n",
       "    <tr style=\"text-align: right;\">\n",
       "      <th></th>\n",
       "      <th>age</th>\n",
       "      <th>experience</th>\n",
       "      <th>gpa</th>\n",
       "      <th>degree</th>\n",
       "      <th>position</th>\n",
       "      <th>expected_salary</th>\n",
       "      <th>result</th>\n",
       "    </tr>\n",
       "  </thead>\n",
       "  <tbody>\n",
       "    <tr>\n",
       "      <th>0</th>\n",
       "      <td>29.0</td>\n",
       "      <td>7</td>\n",
       "      <td>2.71</td>\n",
       "      <td>bachelor</td>\n",
       "      <td>secretary</td>\n",
       "      <td>19500</td>\n",
       "      <td>accept</td>\n",
       "    </tr>\n",
       "    <tr>\n",
       "      <th>1</th>\n",
       "      <td>29.0</td>\n",
       "      <td>4</td>\n",
       "      <td>NaN</td>\n",
       "      <td>bachelor</td>\n",
       "      <td>secretary</td>\n",
       "      <td>20500</td>\n",
       "      <td>accept</td>\n",
       "    </tr>\n",
       "    <tr>\n",
       "      <th>2</th>\n",
       "      <td>27.0</td>\n",
       "      <td>2</td>\n",
       "      <td>3.40</td>\n",
       "      <td>doctorate</td>\n",
       "      <td>accountant</td>\n",
       "      <td>43000</td>\n",
       "      <td>reject</td>\n",
       "    </tr>\n",
       "    <tr>\n",
       "      <th>3</th>\n",
       "      <td>33.0</td>\n",
       "      <td>11</td>\n",
       "      <td>3.25</td>\n",
       "      <td>bachelor</td>\n",
       "      <td>NaN</td>\n",
       "      <td>39000</td>\n",
       "      <td>reject</td>\n",
       "    </tr>\n",
       "    <tr>\n",
       "      <th>4</th>\n",
       "      <td>34.0</td>\n",
       "      <td>9</td>\n",
       "      <td>3.22</td>\n",
       "      <td>master</td>\n",
       "      <td>engineer</td>\n",
       "      <td>46500</td>\n",
       "      <td>reject</td>\n",
       "    </tr>\n",
       "    <tr>\n",
       "      <th>...</th>\n",
       "      <td>...</td>\n",
       "      <td>...</td>\n",
       "      <td>...</td>\n",
       "      <td>...</td>\n",
       "      <td>...</td>\n",
       "      <td>...</td>\n",
       "      <td>...</td>\n",
       "    </tr>\n",
       "    <tr>\n",
       "      <th>85</th>\n",
       "      <td>30.0</td>\n",
       "      <td>9</td>\n",
       "      <td>2.95</td>\n",
       "      <td>doctorate</td>\n",
       "      <td>accountant</td>\n",
       "      <td>48500</td>\n",
       "      <td>accept</td>\n",
       "    </tr>\n",
       "    <tr>\n",
       "      <th>86</th>\n",
       "      <td>28.0</td>\n",
       "      <td>6</td>\n",
       "      <td>3.31</td>\n",
       "      <td>master</td>\n",
       "      <td>engineer</td>\n",
       "      <td>45500</td>\n",
       "      <td>NaN</td>\n",
       "    </tr>\n",
       "    <tr>\n",
       "      <th>87</th>\n",
       "      <td>24.0</td>\n",
       "      <td>1</td>\n",
       "      <td>3.48</td>\n",
       "      <td>master</td>\n",
       "      <td>secretary</td>\n",
       "      <td>21500</td>\n",
       "      <td>accept</td>\n",
       "    </tr>\n",
       "    <tr>\n",
       "      <th>88</th>\n",
       "      <td>NaN</td>\n",
       "      <td>2</td>\n",
       "      <td>3.88</td>\n",
       "      <td>bachelor</td>\n",
       "      <td>accountant</td>\n",
       "      <td>32000</td>\n",
       "      <td>reject</td>\n",
       "    </tr>\n",
       "    <tr>\n",
       "      <th>89</th>\n",
       "      <td>33.0</td>\n",
       "      <td>10</td>\n",
       "      <td>3.99</td>\n",
       "      <td>master</td>\n",
       "      <td>engineer</td>\n",
       "      <td>54500</td>\n",
       "      <td>reject</td>\n",
       "    </tr>\n",
       "  </tbody>\n",
       "</table>\n",
       "<p>90 rows × 7 columns</p>\n",
       "</div>"
      ],
      "text/plain": [
       "     age  experience   gpa     degree    position  expected_salary  result\n",
       "0   29.0           7  2.71   bachelor   secretary            19500  accept\n",
       "1   29.0           4   NaN   bachelor   secretary            20500  accept\n",
       "2   27.0           2  3.40  doctorate  accountant            43000  reject\n",
       "3   33.0          11  3.25   bachelor         NaN            39000  reject\n",
       "4   34.0           9  3.22     master    engineer            46500  reject\n",
       "..   ...         ...   ...        ...         ...              ...     ...\n",
       "85  30.0           9  2.95  doctorate  accountant            48500  accept\n",
       "86  28.0           6  3.31     master    engineer            45500     NaN\n",
       "87  24.0           1  3.48     master   secretary            21500  accept\n",
       "88   NaN           2  3.88   bachelor  accountant            32000  reject\n",
       "89  33.0          10  3.99     master    engineer            54500  reject\n",
       "\n",
       "[90 rows x 7 columns]"
      ]
     },
     "execution_count": 2,
     "metadata": {},
     "output_type": "execute_result"
    }
   ],
   "source": [
    "data = pd.read_csv('job_acceptance_dataset.csv')\n",
    "\n",
    "data"
   ]
  },
  {
   "cell_type": "markdown",
   "id": "aa424a64",
   "metadata": {},
   "source": [
    "# 3. Clean Data"
   ]
  },
  {
   "cell_type": "markdown",
   "id": "bc4f7a96",
   "metadata": {},
   "source": [
    "## 3.1. Handle Missing Values"
   ]
  },
  {
   "cell_type": "markdown",
   "id": "2b59944e",
   "metadata": {},
   "source": [
    "### 3.1.1. Check Missing Values"
   ]
  },
  {
   "cell_type": "code",
   "execution_count": 3,
   "id": "8a02b878",
   "metadata": {},
   "outputs": [
    {
     "name": "stdout",
     "output_type": "stream",
     "text": [
      "<class 'pandas.core.frame.DataFrame'>\n",
      "RangeIndex: 90 entries, 0 to 89\n",
      "Data columns (total 7 columns):\n",
      " #   Column           Non-Null Count  Dtype  \n",
      "---  ------           --------------  -----  \n",
      " 0   age              89 non-null     float64\n",
      " 1   experience       90 non-null     int64  \n",
      " 2   gpa              89 non-null     float64\n",
      " 3   degree           90 non-null     object \n",
      " 4   position         89 non-null     object \n",
      " 5   expected_salary  90 non-null     int64  \n",
      " 6   result           89 non-null     object \n",
      "dtypes: float64(2), int64(2), object(3)\n",
      "memory usage: 5.0+ KB\n"
     ]
    }
   ],
   "source": [
    "data.info()"
   ]
  },
  {
   "cell_type": "markdown",
   "id": "44279ff4",
   "metadata": {},
   "source": [
    "### 3.1.2. Remove Missing Values (Listwise Deletion)"
   ]
  },
  {
   "cell_type": "code",
   "execution_count": 4,
   "id": "7a3da168",
   "metadata": {},
   "outputs": [],
   "source": [
    "data.dropna(axis=0, inplace=True)"
   ]
  },
  {
   "cell_type": "markdown",
   "id": "5fed6619",
   "metadata": {},
   "source": [
    "## 3.2. Handle Outliers"
   ]
  },
  {
   "cell_type": "markdown",
   "id": "89eb99fe",
   "metadata": {},
   "source": [
    "### 3.2.1. Check Outliers"
   ]
  },
  {
   "cell_type": "code",
   "execution_count": 5,
   "id": "8400e390",
   "metadata": {},
   "outputs": [
    {
     "data": {
      "text/html": [
       "<div>\n",
       "<style scoped>\n",
       "    .dataframe tbody tr th:only-of-type {\n",
       "        vertical-align: middle;\n",
       "    }\n",
       "\n",
       "    .dataframe tbody tr th {\n",
       "        vertical-align: top;\n",
       "    }\n",
       "\n",
       "    .dataframe thead th {\n",
       "        text-align: right;\n",
       "    }\n",
       "</style>\n",
       "<table border=\"1\" class=\"dataframe\">\n",
       "  <thead>\n",
       "    <tr style=\"text-align: right;\">\n",
       "      <th></th>\n",
       "      <th>age</th>\n",
       "      <th>experience</th>\n",
       "      <th>gpa</th>\n",
       "      <th>expected_salary</th>\n",
       "    </tr>\n",
       "  </thead>\n",
       "  <tbody>\n",
       "    <tr>\n",
       "      <th>count</th>\n",
       "      <td>86.000000</td>\n",
       "      <td>86.000000</td>\n",
       "      <td>86.000000</td>\n",
       "      <td>86.000000</td>\n",
       "    </tr>\n",
       "    <tr>\n",
       "      <th>mean</th>\n",
       "      <td>27.872093</td>\n",
       "      <td>3.186047</td>\n",
       "      <td>3.280581</td>\n",
       "      <td>32209.302326</td>\n",
       "    </tr>\n",
       "    <tr>\n",
       "      <th>std</th>\n",
       "      <td>4.375860</td>\n",
       "      <td>3.197468</td>\n",
       "      <td>0.511957</td>\n",
       "      <td>9194.456487</td>\n",
       "    </tr>\n",
       "    <tr>\n",
       "      <th>min</th>\n",
       "      <td>21.000000</td>\n",
       "      <td>0.000000</td>\n",
       "      <td>2.520000</td>\n",
       "      <td>15000.000000</td>\n",
       "    </tr>\n",
       "    <tr>\n",
       "      <th>25%</th>\n",
       "      <td>24.000000</td>\n",
       "      <td>0.250000</td>\n",
       "      <td>2.890000</td>\n",
       "      <td>25500.000000</td>\n",
       "    </tr>\n",
       "    <tr>\n",
       "      <th>50%</th>\n",
       "      <td>28.000000</td>\n",
       "      <td>2.000000</td>\n",
       "      <td>3.280000</td>\n",
       "      <td>32000.000000</td>\n",
       "    </tr>\n",
       "    <tr>\n",
       "      <th>75%</th>\n",
       "      <td>31.750000</td>\n",
       "      <td>5.000000</td>\n",
       "      <td>3.567500</td>\n",
       "      <td>38500.000000</td>\n",
       "    </tr>\n",
       "    <tr>\n",
       "      <th>max</th>\n",
       "      <td>35.000000</td>\n",
       "      <td>13.000000</td>\n",
       "      <td>6.000000</td>\n",
       "      <td>54500.000000</td>\n",
       "    </tr>\n",
       "  </tbody>\n",
       "</table>\n",
       "</div>"
      ],
      "text/plain": [
       "             age  experience        gpa  expected_salary\n",
       "count  86.000000   86.000000  86.000000        86.000000\n",
       "mean   27.872093    3.186047   3.280581     32209.302326\n",
       "std     4.375860    3.197468   0.511957      9194.456487\n",
       "min    21.000000    0.000000   2.520000     15000.000000\n",
       "25%    24.000000    0.250000   2.890000     25500.000000\n",
       "50%    28.000000    2.000000   3.280000     32000.000000\n",
       "75%    31.750000    5.000000   3.567500     38500.000000\n",
       "max    35.000000   13.000000   6.000000     54500.000000"
      ]
     },
     "execution_count": 5,
     "metadata": {},
     "output_type": "execute_result"
    }
   ],
   "source": [
    "data.describe()"
   ]
  },
  {
   "cell_type": "markdown",
   "id": "62561b7e",
   "metadata": {},
   "source": [
    "### 3.2.2. Remove Outliers"
   ]
  },
  {
   "cell_type": "code",
   "execution_count": 6,
   "id": "f3524d5d",
   "metadata": {},
   "outputs": [],
   "source": [
    "_filter = data['gpa'] <= 4.00\n",
    "data = data[_filter]"
   ]
  },
  {
   "cell_type": "markdown",
   "id": "50cdff68",
   "metadata": {},
   "source": [
    "# 4. Split Dataset into Training & Test Sets"
   ]
  },
  {
   "cell_type": "code",
   "execution_count": 7,
   "id": "d3ef93cc",
   "metadata": {},
   "outputs": [],
   "source": [
    "target_name = 'result'\n",
    "feature_name = list(data.columns.drop(target_name))"
   ]
  },
  {
   "cell_type": "code",
   "execution_count": 8,
   "id": "610f9450",
   "metadata": {},
   "outputs": [],
   "source": [
    "X = data[feature_name]\n",
    "y = data[target_name]"
   ]
  },
  {
   "cell_type": "code",
   "execution_count": 9,
   "id": "13cae49d",
   "metadata": {},
   "outputs": [],
   "source": [
    "X_train, X_test, y_train, y_test = train_test_split(X, y, test_size=0.20, shuffle=True)"
   ]
  },
  {
   "cell_type": "markdown",
   "id": "ed13b65f",
   "metadata": {},
   "source": [
    "# 5. Data Preparation"
   ]
  },
  {
   "cell_type": "code",
   "execution_count": 10,
   "id": "e79223a4",
   "metadata": {},
   "outputs": [],
   "source": [
    "numerical_feature = ['age', 'experience', 'gpa', 'expected_salary']\n",
    "categorical_feature = ['degree', 'position']"
   ]
  },
  {
   "cell_type": "code",
   "execution_count": 11,
   "id": "c0a9d590",
   "metadata": {},
   "outputs": [
    {
     "name": "stdout",
     "output_type": "stream",
     "text": [
      "degree : ['bachelor' 'doctorate' 'master']\n",
      "position : ['accountant' 'engineer' 'secretary']\n"
     ]
    }
   ],
   "source": [
    "for feature in categorical_feature:\n",
    "    print(feature, ':', np.unique(X_train[feature]))"
   ]
  },
  {
   "cell_type": "code",
   "execution_count": 12,
   "id": "a6d3ef1d",
   "metadata": {},
   "outputs": [],
   "source": [
    "ordinal_feature = ['degree']\n",
    "nominal_feature = ['position']"
   ]
  },
  {
   "cell_type": "markdown",
   "id": "7e7af4f1",
   "metadata": {},
   "source": [
    "## 5.1. Ordinal Encoding"
   ]
  },
  {
   "cell_type": "markdown",
   "id": "c6f1f29d",
   "metadata": {},
   "source": [
    "### 5.1.1. Training Set"
   ]
  },
  {
   "cell_type": "code",
   "execution_count": 13,
   "id": "be787c66",
   "metadata": {},
   "outputs": [],
   "source": [
    "categories = [\n",
    "    np.array(['bachelor', 'master', 'doctorate'], dtype=object),\n",
    "]"
   ]
  },
  {
   "cell_type": "code",
   "execution_count": 14,
   "id": "f9029dd4",
   "metadata": {},
   "outputs": [],
   "source": [
    "ordinal_encoder = OrdinalEncoder(categories=categories)\n",
    "X_train[ordinal_feature] = ordinal_encoder.fit_transform(X_train[ordinal_feature])"
   ]
  },
  {
   "cell_type": "markdown",
   "id": "e62bdad9",
   "metadata": {},
   "source": [
    "### 5.1.2. Test Set"
   ]
  },
  {
   "cell_type": "code",
   "execution_count": 15,
   "id": "dfb4172e",
   "metadata": {},
   "outputs": [],
   "source": [
    "X_test[ordinal_feature] = ordinal_encoder.transform(X_test[ordinal_feature])"
   ]
  },
  {
   "cell_type": "markdown",
   "id": "a25e32e6",
   "metadata": {},
   "source": [
    "## 5.2. One Hot Encoding"
   ]
  },
  {
   "cell_type": "markdown",
   "id": "61908c07",
   "metadata": {},
   "source": [
    "### 5.2.1. Training Set"
   ]
  },
  {
   "cell_type": "code",
   "execution_count": 16,
   "id": "43f39bae",
   "metadata": {},
   "outputs": [
    {
     "data": {
      "text/plain": [
       "OneHotEncoder(handle_unknown='ignore', sparse=False)"
      ]
     },
     "execution_count": 16,
     "metadata": {},
     "output_type": "execute_result"
    }
   ],
   "source": [
    "one_hot_encoder = OneHotEncoder(sparse=False, handle_unknown='ignore')\n",
    "one_hot_encoder.fit(X_train[nominal_feature])"
   ]
  },
  {
   "cell_type": "code",
   "execution_count": 17,
   "id": "5a7027a3",
   "metadata": {},
   "outputs": [],
   "source": [
    "one_hot_feature = []\n",
    "for i, feature in enumerate(nominal_feature):\n",
    "    for cate in one_hot_encoder.categories_[i]:\n",
    "        one_hot_feature_name = str(feature) + '_' + str(cate)\n",
    "        one_hot_feature.append(one_hot_feature_name)"
   ]
  },
  {
   "cell_type": "code",
   "execution_count": 18,
   "id": "45fb96f7",
   "metadata": {},
   "outputs": [],
   "source": [
    "X_train[one_hot_feature] = one_hot_encoder.transform(X_train[nominal_feature])\n",
    "X_train.drop(nominal_feature, axis=1, inplace=True)"
   ]
  },
  {
   "cell_type": "markdown",
   "id": "fabc334d",
   "metadata": {},
   "source": [
    "### 5.2.2. Test Set"
   ]
  },
  {
   "cell_type": "code",
   "execution_count": 19,
   "id": "e8d26cae",
   "metadata": {},
   "outputs": [],
   "source": [
    "X_test[one_hot_feature] = one_hot_encoder.transform(X_test[nominal_feature])\n",
    "X_test.drop(nominal_feature, axis=1, inplace=True)"
   ]
  },
  {
   "cell_type": "markdown",
   "id": "6aeaeb0a",
   "metadata": {},
   "source": [
    "## 5.3. Feature Scaling"
   ]
  },
  {
   "cell_type": "markdown",
   "id": "6bd90e8d",
   "metadata": {},
   "source": [
    "### 5.3.1. Training Set"
   ]
  },
  {
   "cell_type": "code",
   "execution_count": 20,
   "id": "bd4efdd2",
   "metadata": {},
   "outputs": [],
   "source": [
    "scaler = StandardScaler()\n",
    "X_train_scaled = scaler.fit_transform(X_train)"
   ]
  },
  {
   "cell_type": "markdown",
   "id": "f370ec47",
   "metadata": {},
   "source": [
    "### 5.3.2. Test Set"
   ]
  },
  {
   "cell_type": "code",
   "execution_count": 21,
   "id": "72df8ec8",
   "metadata": {},
   "outputs": [],
   "source": [
    "X_test_scaled = scaler.transform(X_test)"
   ]
  },
  {
   "cell_type": "markdown",
   "id": "f77fb5ee",
   "metadata": {},
   "source": [
    "# 6. Model Creation"
   ]
  },
  {
   "cell_type": "markdown",
   "id": "e81df55a",
   "metadata": {},
   "source": [
    "## 6.1. Setting Parameters"
   ]
  },
  {
   "cell_type": "code",
   "execution_count": 22,
   "id": "fd1486a3",
   "metadata": {},
   "outputs": [],
   "source": [
    "clf = MLPClassifier(\n",
    "    hidden_layer_sizes=(10),\n",
    "    activation='relu',\n",
    "    learning_rate_init=0.1,\n",
    "    max_iter=1000,\n",
    "    alpha=0,\n",
    "    solver='sgd',\n",
    "    momentum=0\n",
    ")"
   ]
  },
  {
   "cell_type": "markdown",
   "id": "4cb08aa4",
   "metadata": {},
   "source": [
    "## 6.2. Train Model"
   ]
  },
  {
   "cell_type": "code",
   "execution_count": 23,
   "id": "8aa8df52",
   "metadata": {},
   "outputs": [
    {
     "data": {
      "text/plain": [
       "MLPClassifier(alpha=0, hidden_layer_sizes=10, learning_rate_init=0.1,\n",
       "              max_iter=1000, momentum=0, solver='sgd')"
      ]
     },
     "execution_count": 23,
     "metadata": {},
     "output_type": "execute_result"
    }
   ],
   "source": [
    "clf.fit(X_train_scaled, y_train)"
   ]
  },
  {
   "cell_type": "markdown",
   "id": "7f33bb7b",
   "metadata": {},
   "source": [
    "## 6.3. Model's Weight & Bias"
   ]
  },
  {
   "cell_type": "code",
   "execution_count": 24,
   "id": "ff6657d5",
   "metadata": {},
   "outputs": [
    {
     "data": {
      "text/plain": [
       "[array([[ 0.86323832, -0.39915206, -0.1748897 , -0.27806031, -0.46031751,\n",
       "          0.16477339,  0.09341396, -0.10473373, -0.02584275,  1.21033155],\n",
       "        [ 0.55652475,  0.44859843, -0.64661808,  0.12903028,  0.52409954,\n",
       "          0.75876711, -0.31077792, -0.09189426, -0.55210957,  0.8761384 ],\n",
       "        [ 0.51945011,  1.07273883,  0.15297803, -0.26668716,  0.94114413,\n",
       "         -0.30178049,  0.16346194, -0.04560434, -0.29068199,  0.06855805],\n",
       "        [-0.25930997, -0.04710425,  0.59247248,  0.40692168,  1.43077389,\n",
       "         -0.13921365, -0.26535566, -1.00412798, -0.339995  ,  1.18392364],\n",
       "        [-1.43397122,  0.12741427, -0.75607866, -0.44169076, -1.19429708,\n",
       "         -1.13105085,  0.80162606,  1.28541584,  1.52997363, -0.91388178],\n",
       "        [-0.34393976,  0.58094342, -0.43912164,  0.79103892, -0.44054784,\n",
       "         -0.22291356,  0.40160371,  0.01457783,  0.03908286,  0.0292902 ],\n",
       "        [ 0.38660761,  0.17141508,  0.12220148, -0.67940392,  0.1797121 ,\n",
       "          0.16824925,  0.49442   ,  0.18419062, -1.05586282, -0.19111804],\n",
       "        [ 0.01457902, -0.05001301, -0.49584893,  0.08472172,  0.52047441,\n",
       "         -0.10131241,  0.04603387, -0.68670278,  1.24913093,  0.23576203]]),\n",
       " array([[-1.67831454],\n",
       "        [ 1.21279263],\n",
       "        [-1.17571463],\n",
       "        [-0.94762138],\n",
       "        [-2.18391709],\n",
       "        [-1.10993955],\n",
       "        [ 0.81869592],\n",
       "        [ 1.63004544],\n",
       "        [ 2.31557479],\n",
       "        [-2.05176983]])]"
      ]
     },
     "execution_count": 24,
     "metadata": {},
     "output_type": "execute_result"
    }
   ],
   "source": [
    "clf.coefs_"
   ]
  },
  {
   "cell_type": "code",
   "execution_count": 25,
   "id": "3890d9b6",
   "metadata": {
    "scrolled": false
   },
   "outputs": [
    {
     "data": {
      "text/plain": [
       "[array([ 0.21936373, -0.55577519,  0.23391551,  0.0945281 ,  0.03570589,\n",
       "        -0.27552807,  0.3421946 ,  0.00110796,  0.40755989,  0.39528374]),\n",
       " array([-0.44749309])]"
      ]
     },
     "execution_count": 25,
     "metadata": {},
     "output_type": "execute_result"
    }
   ],
   "source": [
    "clf.intercepts_"
   ]
  },
  {
   "cell_type": "markdown",
   "id": "982f5065",
   "metadata": {},
   "source": [
    "# 7. Prediction"
   ]
  },
  {
   "cell_type": "markdown",
   "id": "3371e2e7",
   "metadata": {},
   "source": [
    "## 7.1. Training Set"
   ]
  },
  {
   "cell_type": "code",
   "execution_count": 26,
   "id": "1fcaad0d",
   "metadata": {},
   "outputs": [],
   "source": [
    "y_pred_train = clf.predict(X_train_scaled)"
   ]
  },
  {
   "cell_type": "markdown",
   "id": "95a112f5",
   "metadata": {},
   "source": [
    "## 7.2. Test Set"
   ]
  },
  {
   "cell_type": "code",
   "execution_count": 27,
   "id": "7158701f",
   "metadata": {},
   "outputs": [],
   "source": [
    "y_pred_test = clf.predict(X_test_scaled)"
   ]
  },
  {
   "cell_type": "markdown",
   "id": "72a16acb",
   "metadata": {},
   "source": [
    "# 8. Model Evaluation"
   ]
  },
  {
   "cell_type": "markdown",
   "id": "7f9d943a",
   "metadata": {},
   "source": [
    "## 8.1. Training Set"
   ]
  },
  {
   "cell_type": "markdown",
   "id": "55f96f40",
   "metadata": {},
   "source": [
    "### 8.1.1. Confusion Matrix"
   ]
  },
  {
   "cell_type": "code",
   "execution_count": 28,
   "id": "8eb5f70b",
   "metadata": {},
   "outputs": [
    {
     "data": {
      "image/png": "[encoded data removed]",
      "text/plain": [
       "<Figure size 432x432 with 2 Axes>"
      ]
     },
     "metadata": {
      "needs_background": "light"
     },
     "output_type": "display_data"
    }
   ],
   "source": [
    "fig, ax = plt.subplots(figsize=(6, 6))\n",
    "plot_confusion_matrix(clf, X_train_scaled, y_train, ax=ax)\n",
    "plt.xticks(rotation=90)\n",
    "plt.show()"
   ]
  },
  {
   "cell_type": "markdown",
   "id": "6fb54b57",
   "metadata": {},
   "source": [
    "### 8.1.2. Scoring"
   ]
  },
  {
   "cell_type": "code",
   "execution_count": 29,
   "id": "527a7b37",
   "metadata": {},
   "outputs": [],
   "source": [
    "report = classification_report(y_train, y_pred_train, output_dict=True)"
   ]
  },
  {
   "cell_type": "code",
   "execution_count": 30,
   "id": "dfa3133a",
   "metadata": {},
   "outputs": [
    {
     "name": "stdout",
     "output_type": "stream",
     "text": [
      "accuracy = 0.9705882352941176\n"
     ]
    }
   ],
   "source": [
    "print('accuracy =', report['accuracy'])"
   ]
  },
  {
   "cell_type": "code",
   "execution_count": 31,
   "id": "042c261e",
   "metadata": {},
   "outputs": [
    {
     "data": {
      "text/html": [
       "<div>\n",
       "<style scoped>\n",
       "    .dataframe tbody tr th:only-of-type {\n",
       "        vertical-align: middle;\n",
       "    }\n",
       "\n",
       "    .dataframe tbody tr th {\n",
       "        vertical-align: top;\n",
       "    }\n",
       "\n",
       "    .dataframe thead th {\n",
       "        text-align: right;\n",
       "    }\n",
       "</style>\n",
       "<table border=\"1\" class=\"dataframe\">\n",
       "  <thead>\n",
       "    <tr style=\"text-align: right;\">\n",
       "      <th></th>\n",
       "      <th>precision</th>\n",
       "      <th>recall</th>\n",
       "      <th>f1-score</th>\n",
       "      <th>support</th>\n",
       "    </tr>\n",
       "  </thead>\n",
       "  <tbody>\n",
       "    <tr>\n",
       "      <th>accept</th>\n",
       "      <td>0.958333</td>\n",
       "      <td>1.000000</td>\n",
       "      <td>0.978723</td>\n",
       "      <td>46.000000</td>\n",
       "    </tr>\n",
       "    <tr>\n",
       "      <th>reject</th>\n",
       "      <td>1.000000</td>\n",
       "      <td>0.909091</td>\n",
       "      <td>0.952381</td>\n",
       "      <td>22.000000</td>\n",
       "    </tr>\n",
       "    <tr>\n",
       "      <th>accuracy</th>\n",
       "      <td>0.970588</td>\n",
       "      <td>0.970588</td>\n",
       "      <td>0.970588</td>\n",
       "      <td>0.970588</td>\n",
       "    </tr>\n",
       "    <tr>\n",
       "      <th>macro avg</th>\n",
       "      <td>0.979167</td>\n",
       "      <td>0.954545</td>\n",
       "      <td>0.965552</td>\n",
       "      <td>68.000000</td>\n",
       "    </tr>\n",
       "    <tr>\n",
       "      <th>weighted avg</th>\n",
       "      <td>0.971814</td>\n",
       "      <td>0.970588</td>\n",
       "      <td>0.970201</td>\n",
       "      <td>68.000000</td>\n",
       "    </tr>\n",
       "  </tbody>\n",
       "</table>\n",
       "</div>"
      ],
      "text/plain": [
       "              precision    recall  f1-score    support\n",
       "accept         0.958333  1.000000  0.978723  46.000000\n",
       "reject         1.000000  0.909091  0.952381  22.000000\n",
       "accuracy       0.970588  0.970588  0.970588   0.970588\n",
       "macro avg      0.979167  0.954545  0.965552  68.000000\n",
       "weighted avg   0.971814  0.970588  0.970201  68.000000"
      ]
     },
     "execution_count": 31,
     "metadata": {},
     "output_type": "execute_result"
    }
   ],
   "source": [
    "pd.DataFrame.from_dict(report).T"
   ]
  },
  {
   "cell_type": "markdown",
   "id": "9533f763",
   "metadata": {},
   "source": [
    "## 8.2. Test Set"
   ]
  },
  {
   "cell_type": "markdown",
   "id": "ef10b301",
   "metadata": {},
   "source": [
    "### 8.2.1. Confusion Matrix"
   ]
  },
  {
   "cell_type": "code",
   "execution_count": 32,
   "id": "aa27890a",
   "metadata": {},
   "outputs": [
    {
     "data": {
      "image/png": "[encoded data removed]",
      "text/plain": [
       "<Figure size 432x432 with 2 Axes>"
      ]
     },
     "metadata": {
      "needs_background": "light"
     },
     "output_type": "display_data"
    }
   ],
   "source": [
    "fig, ax = plt.subplots(figsize=(6, 6))\n",
    "plot_confusion_matrix(clf, X_test_scaled, y_test, ax=ax)\n",
    "plt.xticks(rotation=90)\n",
    "plt.show()"
   ]
  },
  {
   "cell_type": "markdown",
   "id": "cefece92",
   "metadata": {},
   "source": [
    "### 8.2.2. Scoring"
   ]
  },
  {
   "cell_type": "code",
   "execution_count": 33,
   "id": "9f72a11f",
   "metadata": {},
   "outputs": [],
   "source": [
    "report = classification_report(y_test, y_pred_test, output_dict=True)"
   ]
  },
  {
   "cell_type": "code",
   "execution_count": 34,
   "id": "d11d9541",
   "metadata": {},
   "outputs": [
    {
     "name": "stdout",
     "output_type": "stream",
     "text": [
      "accuracy = 0.7058823529411765\n"
     ]
    }
   ],
   "source": [
    "print('accuracy =', report['accuracy'])"
   ]
  },
  {
   "cell_type": "code",
   "execution_count": 35,
   "id": "a60bb854",
   "metadata": {},
   "outputs": [
    {
     "data": {
      "text/html": [
       "<div>\n",
       "<style scoped>\n",
       "    .dataframe tbody tr th:only-of-type {\n",
       "        vertical-align: middle;\n",
       "    }\n",
       "\n",
       "    .dataframe tbody tr th {\n",
       "        vertical-align: top;\n",
       "    }\n",
       "\n",
       "    .dataframe thead th {\n",
       "        text-align: right;\n",
       "    }\n",
       "</style>\n",
       "<table border=\"1\" class=\"dataframe\">\n",
       "  <thead>\n",
       "    <tr style=\"text-align: right;\">\n",
       "      <th></th>\n",
       "      <th>precision</th>\n",
       "      <th>recall</th>\n",
       "      <th>f1-score</th>\n",
       "      <th>support</th>\n",
       "    </tr>\n",
       "  </thead>\n",
       "  <tbody>\n",
       "    <tr>\n",
       "      <th>accept</th>\n",
       "      <td>0.636364</td>\n",
       "      <td>0.875000</td>\n",
       "      <td>0.736842</td>\n",
       "      <td>8.000000</td>\n",
       "    </tr>\n",
       "    <tr>\n",
       "      <th>reject</th>\n",
       "      <td>0.833333</td>\n",
       "      <td>0.555556</td>\n",
       "      <td>0.666667</td>\n",
       "      <td>9.000000</td>\n",
       "    </tr>\n",
       "    <tr>\n",
       "      <th>accuracy</th>\n",
       "      <td>0.705882</td>\n",
       "      <td>0.705882</td>\n",
       "      <td>0.705882</td>\n",
       "      <td>0.705882</td>\n",
       "    </tr>\n",
       "    <tr>\n",
       "      <th>macro avg</th>\n",
       "      <td>0.734848</td>\n",
       "      <td>0.715278</td>\n",
       "      <td>0.701754</td>\n",
       "      <td>17.000000</td>\n",
       "    </tr>\n",
       "    <tr>\n",
       "      <th>weighted avg</th>\n",
       "      <td>0.740642</td>\n",
       "      <td>0.705882</td>\n",
       "      <td>0.699690</td>\n",
       "      <td>17.000000</td>\n",
       "    </tr>\n",
       "  </tbody>\n",
       "</table>\n",
       "</div>"
      ],
      "text/plain": [
       "              precision    recall  f1-score    support\n",
       "accept         0.636364  0.875000  0.736842   8.000000\n",
       "reject         0.833333  0.555556  0.666667   9.000000\n",
       "accuracy       0.705882  0.705882  0.705882   0.705882\n",
       "macro avg      0.734848  0.715278  0.701754  17.000000\n",
       "weighted avg   0.740642  0.705882  0.699690  17.000000"
      ]
     },
     "execution_count": 35,
     "metadata": {},
     "output_type": "execute_result"
    }
   ],
   "source": [
    "pd.DataFrame.from_dict(report).T"
   ]
  },
  {
   "cell_type": "markdown",
   "id": "6b1cb541",
   "metadata": {},
   "source": [
    "# 9. Save Model"
   ]
  },
  {
   "cell_type": "code",
   "execution_count": 36,
   "id": "0291e4e9",
   "metadata": {},
   "outputs": [],
   "source": [
    "import pickle"
   ]
  },
  {
   "cell_type": "code",
   "execution_count": 37,
   "id": "2bf44e70",
   "metadata": {},
   "outputs": [],
   "source": [
    "pickle.dump((clf, \n",
    "             ordinal_encoder, \n",
    "             one_hot_encoder, \n",
    "             feature_name, \n",
    "             numerical_feature, \n",
    "             ordinal_feature, \n",
    "             nominal_feature),  open('neural_network_classification_model.pickle', 'wb'))"
   ]
  },
  {
   "cell_type": "code",
   "execution_count": null,
   "id": "a088c2b0",
   "metadata": {},
   "outputs": [],
   "source": []
  }
 ],
 "metadata": {
  "kernelspec": {
   "display_name": "Python 3",
   "language": "python",
   "name": "python3"
  },
  "language_info": {
   "codemirror_mode": {
    "name": "ipython",
    "version": 3
   },
   "file_extension": ".py",
   "mimetype": "text/x-python",
   "name": "python",
   "nbconvert_exporter": "python",
   "pygments_lexer": "ipython3",
   "version": "3.8.8"
  }
 },
 "nbformat": 4,
 "nbformat_minor": 5
}
