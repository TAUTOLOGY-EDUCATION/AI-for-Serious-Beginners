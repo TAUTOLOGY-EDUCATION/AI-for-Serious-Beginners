{
 "cells": [
  {
   "cell_type": "markdown",
   "id": "57654bb6",
   "metadata": {},
   "source": [
    "# 1. Import Libraries"
   ]
  },
  {
   "cell_type": "code",
   "execution_count": 1,
   "id": "2f51eef5",
   "metadata": {},
   "outputs": [],
   "source": [
    "import numpy as np\n",
    "import pandas as pd\n",
    "import matplotlib.pyplot as plt\n",
    "\n",
    "from sklearn.model_selection import train_test_split\n",
    "from sklearn.preprocessing import OrdinalEncoder, OneHotEncoder\n",
    "from sklearn.linear_model import LinearRegression\n",
    "from sklearn.metrics import (\n",
    "    r2_score, \n",
    "    mean_squared_error, \n",
    "    mean_absolute_error, \n",
    "    mean_absolute_percentage_error\n",
    ")\n",
    "\n",
    "import warnings\n",
    "warnings.filterwarnings('ignore')\n",
    "\n",
    "np.random.seed(12345)"
   ]
  },
  {
   "cell_type": "markdown",
   "id": "6707b8de",
   "metadata": {},
   "source": [
    "# 2. Read Data"
   ]
  },
  {
   "cell_type": "code",
   "execution_count": 2,
   "id": "89c2e441",
   "metadata": {
    "scrolled": true
   },
   "outputs": [
    {
     "data": {
      "text/html": [
       "<div>\n",
       "<style scoped>\n",
       "    .dataframe tbody tr th:only-of-type {\n",
       "        vertical-align: middle;\n",
       "    }\n",
       "\n",
       "    .dataframe tbody tr th {\n",
       "        vertical-align: top;\n",
       "    }\n",
       "\n",
       "    .dataframe thead th {\n",
       "        text-align: right;\n",
       "    }\n",
       "</style>\n",
       "<table border=\"1\" class=\"dataframe\">\n",
       "  <thead>\n",
       "    <tr style=\"text-align: right;\">\n",
       "      <th></th>\n",
       "      <th>age</th>\n",
       "      <th>experience</th>\n",
       "      <th>gpa</th>\n",
       "      <th>degree</th>\n",
       "      <th>position</th>\n",
       "      <th>salary</th>\n",
       "    </tr>\n",
       "  </thead>\n",
       "  <tbody>\n",
       "    <tr>\n",
       "      <th>0</th>\n",
       "      <td>30.0</td>\n",
       "      <td>7.0</td>\n",
       "      <td>3.94</td>\n",
       "      <td>bachelor</td>\n",
       "      <td>engineer</td>\n",
       "      <td>32500.0</td>\n",
       "    </tr>\n",
       "    <tr>\n",
       "      <th>1</th>\n",
       "      <td>26.0</td>\n",
       "      <td>2.0</td>\n",
       "      <td>2.86</td>\n",
       "      <td>bachelor</td>\n",
       "      <td>NaN</td>\n",
       "      <td>22500.0</td>\n",
       "    </tr>\n",
       "    <tr>\n",
       "      <th>2</th>\n",
       "      <td>27.0</td>\n",
       "      <td>0.0</td>\n",
       "      <td>3.13</td>\n",
       "      <td>doctorate</td>\n",
       "      <td>secretary</td>\n",
       "      <td>37000.0</td>\n",
       "    </tr>\n",
       "    <tr>\n",
       "      <th>3</th>\n",
       "      <td>32.0</td>\n",
       "      <td>NaN</td>\n",
       "      <td>3.10</td>\n",
       "      <td>bachelor</td>\n",
       "      <td>engineer</td>\n",
       "      <td>24500.0</td>\n",
       "    </tr>\n",
       "    <tr>\n",
       "      <th>4</th>\n",
       "      <td>24.0</td>\n",
       "      <td>1.0</td>\n",
       "      <td>3.81</td>\n",
       "      <td>bachelor</td>\n",
       "      <td>accountant</td>\n",
       "      <td>23500.0</td>\n",
       "    </tr>\n",
       "    <tr>\n",
       "      <th>...</th>\n",
       "      <td>...</td>\n",
       "      <td>...</td>\n",
       "      <td>...</td>\n",
       "      <td>...</td>\n",
       "      <td>...</td>\n",
       "      <td>...</td>\n",
       "    </tr>\n",
       "    <tr>\n",
       "      <th>85</th>\n",
       "      <td>31.0</td>\n",
       "      <td>1.0</td>\n",
       "      <td>2.79</td>\n",
       "      <td>master</td>\n",
       "      <td>engineer</td>\n",
       "      <td>34000.0</td>\n",
       "    </tr>\n",
       "    <tr>\n",
       "      <th>86</th>\n",
       "      <td>NaN</td>\n",
       "      <td>5.0</td>\n",
       "      <td>3.27</td>\n",
       "      <td>doctorate</td>\n",
       "      <td>secretary</td>\n",
       "      <td>36000.0</td>\n",
       "    </tr>\n",
       "    <tr>\n",
       "      <th>87</th>\n",
       "      <td>28.0</td>\n",
       "      <td>7.0</td>\n",
       "      <td>2.64</td>\n",
       "      <td>doctorate</td>\n",
       "      <td>secretary</td>\n",
       "      <td>38000.0</td>\n",
       "    </tr>\n",
       "    <tr>\n",
       "      <th>88</th>\n",
       "      <td>26.0</td>\n",
       "      <td>1.0</td>\n",
       "      <td>2.52</td>\n",
       "      <td>bachelor</td>\n",
       "      <td>secretary</td>\n",
       "      <td>NaN</td>\n",
       "    </tr>\n",
       "    <tr>\n",
       "      <th>89</th>\n",
       "      <td>27.0</td>\n",
       "      <td>2.0</td>\n",
       "      <td>3.79</td>\n",
       "      <td>master</td>\n",
       "      <td>engineer</td>\n",
       "      <td>35000.0</td>\n",
       "    </tr>\n",
       "  </tbody>\n",
       "</table>\n",
       "<p>90 rows × 6 columns</p>\n",
       "</div>"
      ],
      "text/plain": [
       "     age  experience   gpa     degree    position   salary\n",
       "0   30.0         7.0  3.94   bachelor    engineer  32500.0\n",
       "1   26.0         2.0  2.86   bachelor         NaN  22500.0\n",
       "2   27.0         0.0  3.13  doctorate   secretary  37000.0\n",
       "3   32.0         NaN  3.10   bachelor    engineer  24500.0\n",
       "4   24.0         1.0  3.81   bachelor  accountant  23500.0\n",
       "..   ...         ...   ...        ...         ...      ...\n",
       "85  31.0         1.0  2.79     master    engineer  34000.0\n",
       "86   NaN         5.0  3.27  doctorate   secretary  36000.0\n",
       "87  28.0         7.0  2.64  doctorate   secretary  38000.0\n",
       "88  26.0         1.0  2.52   bachelor   secretary      NaN\n",
       "89  27.0         2.0  3.79     master    engineer  35000.0\n",
       "\n",
       "[90 rows x 6 columns]"
      ]
     },
     "execution_count": 2,
     "metadata": {},
     "output_type": "execute_result"
    }
   ],
   "source": [
    "data = pd.read_csv('salary_dataset.csv')\n",
    "\n",
    "data"
   ]
  },
  {
   "cell_type": "markdown",
   "id": "aa424a64",
   "metadata": {},
   "source": [
    "# 3. Clean Data"
   ]
  },
  {
   "cell_type": "markdown",
   "id": "bc4f7a96",
   "metadata": {},
   "source": [
    "## 3.1. Handle Missing Values"
   ]
  },
  {
   "cell_type": "markdown",
   "id": "2b59944e",
   "metadata": {},
   "source": [
    "### 3.1.1. Check Missing Values"
   ]
  },
  {
   "cell_type": "code",
   "execution_count": 3,
   "id": "8a02b878",
   "metadata": {},
   "outputs": [
    {
     "name": "stdout",
     "output_type": "stream",
     "text": [
      "<class 'pandas.core.frame.DataFrame'>\n",
      "RangeIndex: 90 entries, 0 to 89\n",
      "Data columns (total 6 columns):\n",
      " #   Column      Non-Null Count  Dtype  \n",
      "---  ------      --------------  -----  \n",
      " 0   age         89 non-null     float64\n",
      " 1   experience  89 non-null     float64\n",
      " 2   gpa         90 non-null     float64\n",
      " 3   degree      90 non-null     object \n",
      " 4   position    89 non-null     object \n",
      " 5   salary      89 non-null     float64\n",
      "dtypes: float64(4), object(2)\n",
      "memory usage: 4.3+ KB\n"
     ]
    }
   ],
   "source": [
    "data.info()"
   ]
  },
  {
   "cell_type": "markdown",
   "id": "44279ff4",
   "metadata": {},
   "source": [
    "### 3.1.2. Remove Missing Values (Listwise Deletion)"
   ]
  },
  {
   "cell_type": "code",
   "execution_count": 4,
   "id": "7a3da168",
   "metadata": {},
   "outputs": [],
   "source": [
    "data.dropna(axis=0, inplace=True)"
   ]
  },
  {
   "cell_type": "markdown",
   "id": "5fed6619",
   "metadata": {},
   "source": [
    "## 3.2. Handle Outliers"
   ]
  },
  {
   "cell_type": "markdown",
   "id": "89eb99fe",
   "metadata": {},
   "source": [
    "### 3.2.1. Check Outliers"
   ]
  },
  {
   "cell_type": "code",
   "execution_count": 5,
   "id": "8400e390",
   "metadata": {},
   "outputs": [
    {
     "data": {
      "text/html": [
       "<div>\n",
       "<style scoped>\n",
       "    .dataframe tbody tr th:only-of-type {\n",
       "        vertical-align: middle;\n",
       "    }\n",
       "\n",
       "    .dataframe tbody tr th {\n",
       "        vertical-align: top;\n",
       "    }\n",
       "\n",
       "    .dataframe thead th {\n",
       "        text-align: right;\n",
       "    }\n",
       "</style>\n",
       "<table border=\"1\" class=\"dataframe\">\n",
       "  <thead>\n",
       "    <tr style=\"text-align: right;\">\n",
       "      <th></th>\n",
       "      <th>age</th>\n",
       "      <th>experience</th>\n",
       "      <th>gpa</th>\n",
       "      <th>salary</th>\n",
       "    </tr>\n",
       "  </thead>\n",
       "  <tbody>\n",
       "    <tr>\n",
       "      <th>count</th>\n",
       "      <td>86.000000</td>\n",
       "      <td>86.000000</td>\n",
       "      <td>86.000000</td>\n",
       "      <td>86.000000</td>\n",
       "    </tr>\n",
       "    <tr>\n",
       "      <th>mean</th>\n",
       "      <td>28.023256</td>\n",
       "      <td>3.848837</td>\n",
       "      <td>3.278605</td>\n",
       "      <td>31348.837209</td>\n",
       "    </tr>\n",
       "    <tr>\n",
       "      <th>std</th>\n",
       "      <td>4.408486</td>\n",
       "      <td>3.702201</td>\n",
       "      <td>0.528937</td>\n",
       "      <td>9255.227384</td>\n",
       "    </tr>\n",
       "    <tr>\n",
       "      <th>min</th>\n",
       "      <td>21.000000</td>\n",
       "      <td>0.000000</td>\n",
       "      <td>2.540000</td>\n",
       "      <td>13000.000000</td>\n",
       "    </tr>\n",
       "    <tr>\n",
       "      <th>25%</th>\n",
       "      <td>24.000000</td>\n",
       "      <td>1.000000</td>\n",
       "      <td>2.820000</td>\n",
       "      <td>24500.000000</td>\n",
       "    </tr>\n",
       "    <tr>\n",
       "      <th>50%</th>\n",
       "      <td>28.000000</td>\n",
       "      <td>3.000000</td>\n",
       "      <td>3.260000</td>\n",
       "      <td>30500.000000</td>\n",
       "    </tr>\n",
       "    <tr>\n",
       "      <th>75%</th>\n",
       "      <td>32.000000</td>\n",
       "      <td>7.000000</td>\n",
       "      <td>3.640000</td>\n",
       "      <td>37375.000000</td>\n",
       "    </tr>\n",
       "    <tr>\n",
       "      <th>max</th>\n",
       "      <td>35.000000</td>\n",
       "      <td>13.000000</td>\n",
       "      <td>5.880000</td>\n",
       "      <td>54000.000000</td>\n",
       "    </tr>\n",
       "  </tbody>\n",
       "</table>\n",
       "</div>"
      ],
      "text/plain": [
       "             age  experience        gpa        salary\n",
       "count  86.000000   86.000000  86.000000     86.000000\n",
       "mean   28.023256    3.848837   3.278605  31348.837209\n",
       "std     4.408486    3.702201   0.528937   9255.227384\n",
       "min    21.000000    0.000000   2.540000  13000.000000\n",
       "25%    24.000000    1.000000   2.820000  24500.000000\n",
       "50%    28.000000    3.000000   3.260000  30500.000000\n",
       "75%    32.000000    7.000000   3.640000  37375.000000\n",
       "max    35.000000   13.000000   5.880000  54000.000000"
      ]
     },
     "execution_count": 5,
     "metadata": {},
     "output_type": "execute_result"
    }
   ],
   "source": [
    "data.describe()"
   ]
  },
  {
   "cell_type": "markdown",
   "id": "62561b7e",
   "metadata": {},
   "source": [
    "### 3.2.2. Remove Outliers"
   ]
  },
  {
   "cell_type": "code",
   "execution_count": 6,
   "id": "f3524d5d",
   "metadata": {},
   "outputs": [],
   "source": [
    "# no outlier to remove"
   ]
  },
  {
   "cell_type": "markdown",
   "id": "50cdff68",
   "metadata": {},
   "source": [
    "# 4. Split Dataset into Training & Test Sets"
   ]
  },
  {
   "cell_type": "code",
   "execution_count": 7,
   "id": "d3ef93cc",
   "metadata": {},
   "outputs": [],
   "source": [
    "target_name = 'salary'\n",
    "feature_name = list(data.columns.drop(target_name))"
   ]
  },
  {
   "cell_type": "code",
   "execution_count": 8,
   "id": "610f9450",
   "metadata": {},
   "outputs": [],
   "source": [
    "X = data[feature_name]\n",
    "y = data[target_name]"
   ]
  },
  {
   "cell_type": "code",
   "execution_count": 9,
   "id": "13cae49d",
   "metadata": {},
   "outputs": [],
   "source": [
    "X_train, X_test, y_train, y_test = train_test_split(X, y, test_size=0.20, shuffle=True)"
   ]
  },
  {
   "cell_type": "markdown",
   "id": "ed13b65f",
   "metadata": {},
   "source": [
    "# 5. Data Preparation"
   ]
  },
  {
   "cell_type": "code",
   "execution_count": 10,
   "id": "e79223a4",
   "metadata": {},
   "outputs": [],
   "source": [
    "numerical_feature = ['age', 'experience', 'gpa']\n",
    "categorical_feature = ['degree', 'position']"
   ]
  },
  {
   "cell_type": "code",
   "execution_count": 11,
   "id": "c0a9d590",
   "metadata": {},
   "outputs": [
    {
     "name": "stdout",
     "output_type": "stream",
     "text": [
      "degree : ['bachelor' 'doctorate' 'master']\n",
      "position : ['accountant' 'engineer' 'secretary']\n"
     ]
    }
   ],
   "source": [
    "for feature in categorical_feature:\n",
    "    print(feature, ':', np.unique(X_train[feature]))"
   ]
  },
  {
   "cell_type": "code",
   "execution_count": 12,
   "id": "a6d3ef1d",
   "metadata": {},
   "outputs": [],
   "source": [
    "ordinal_feature = ['degree']\n",
    "nominal_feature = ['position']"
   ]
  },
  {
   "cell_type": "markdown",
   "id": "7e7af4f1",
   "metadata": {},
   "source": [
    "## 5.1. Ordinal Encoding"
   ]
  },
  {
   "cell_type": "markdown",
   "id": "c6f1f29d",
   "metadata": {},
   "source": [
    "### 5.1.1. Training Set"
   ]
  },
  {
   "cell_type": "code",
   "execution_count": 13,
   "id": "be787c66",
   "metadata": {},
   "outputs": [],
   "source": [
    "categories = [\n",
    "    np.array(['bachelor', 'master', 'doctorate'], dtype=object),\n",
    "]"
   ]
  },
  {
   "cell_type": "code",
   "execution_count": 14,
   "id": "f9029dd4",
   "metadata": {},
   "outputs": [],
   "source": [
    "ordinal_encoder = OrdinalEncoder(categories=categories)\n",
    "X_train[ordinal_feature] = ordinal_encoder.fit_transform(X_train[ordinal_feature])"
   ]
  },
  {
   "cell_type": "markdown",
   "id": "e62bdad9",
   "metadata": {},
   "source": [
    "### 5.1.2. Test Set"
   ]
  },
  {
   "cell_type": "code",
   "execution_count": 15,
   "id": "dfb4172e",
   "metadata": {},
   "outputs": [],
   "source": [
    "X_test[ordinal_feature] = ordinal_encoder.transform(X_test[ordinal_feature])"
   ]
  },
  {
   "cell_type": "markdown",
   "id": "a25e32e6",
   "metadata": {},
   "source": [
    "## 5.2. One Hot Encoding"
   ]
  },
  {
   "cell_type": "markdown",
   "id": "61908c07",
   "metadata": {},
   "source": [
    "### 5.2.1. Training Set"
   ]
  },
  {
   "cell_type": "code",
   "execution_count": 16,
   "id": "43f39bae",
   "metadata": {},
   "outputs": [
    {
     "data": {
      "text/plain": [
       "OneHotEncoder(handle_unknown='ignore', sparse=False)"
      ]
     },
     "execution_count": 16,
     "metadata": {},
     "output_type": "execute_result"
    }
   ],
   "source": [
    "one_hot_encoder = OneHotEncoder(sparse=False, handle_unknown='ignore')\n",
    "one_hot_encoder.fit(X_train[nominal_feature])"
   ]
  },
  {
   "cell_type": "code",
   "execution_count": 17,
   "id": "5a7027a3",
   "metadata": {},
   "outputs": [],
   "source": [
    "one_hot_feature = []\n",
    "for i, feature in enumerate(nominal_feature):\n",
    "    for cate in one_hot_encoder.categories_[i]:\n",
    "        one_hot_feature_name = str(feature) + '_' + str(cate)\n",
    "        one_hot_feature.append(one_hot_feature_name)"
   ]
  },
  {
   "cell_type": "code",
   "execution_count": 18,
   "id": "45fb96f7",
   "metadata": {},
   "outputs": [],
   "source": [
    "X_train[one_hot_feature] = one_hot_encoder.transform(X_train[nominal_feature])\n",
    "X_train.drop(nominal_feature, axis=1, inplace=True)"
   ]
  },
  {
   "cell_type": "markdown",
   "id": "fabc334d",
   "metadata": {},
   "source": [
    "### 5.2.2. Test Set"
   ]
  },
  {
   "cell_type": "code",
   "execution_count": 19,
   "id": "e8d26cae",
   "metadata": {},
   "outputs": [],
   "source": [
    "X_test[one_hot_feature] = one_hot_encoder.transform(X_test[nominal_feature])\n",
    "X_test.drop(nominal_feature, axis=1, inplace=True)"
   ]
  },
  {
   "cell_type": "markdown",
   "id": "acd46533",
   "metadata": {},
   "source": [
    "## ### 5.3. Feature Scaling"
   ]
  },
  {
   "cell_type": "markdown",
   "id": "f77fb5ee",
   "metadata": {},
   "source": [
    "# 6. Model Creation"
   ]
  },
  {
   "cell_type": "markdown",
   "id": "e81df55a",
   "metadata": {},
   "source": [
    "## 6.1. Setting Parameters"
   ]
  },
  {
   "cell_type": "code",
   "execution_count": 20,
   "id": "fd1486a3",
   "metadata": {},
   "outputs": [],
   "source": [
    "reg = LinearRegression()"
   ]
  },
  {
   "cell_type": "markdown",
   "id": "4cb08aa4",
   "metadata": {},
   "source": [
    "## 6.2. Train Model"
   ]
  },
  {
   "cell_type": "code",
   "execution_count": 21,
   "id": "8aa8df52",
   "metadata": {},
   "outputs": [
    {
     "data": {
      "text/plain": [
       "LinearRegression()"
      ]
     },
     "execution_count": 21,
     "metadata": {},
     "output_type": "execute_result"
    }
   ],
   "source": [
    "reg.fit(X_train, y_train)"
   ]
  },
  {
   "cell_type": "markdown",
   "id": "7f33bb7b",
   "metadata": {},
   "source": [
    "## 6.3. Model's Weight & Bias"
   ]
  },
  {
   "cell_type": "code",
   "execution_count": 22,
   "id": "ff6657d5",
   "metadata": {},
   "outputs": [
    {
     "data": {
      "text/plain": [
       "array([  145.89133481,  1116.01333067,  1879.9773525 ,  7214.84841696,\n",
       "        -242.90928578,  3029.43836259, -2786.52907682])"
      ]
     },
     "execution_count": 22,
     "metadata": {},
     "output_type": "execute_result"
    }
   ],
   "source": [
    "reg.coef_"
   ]
  },
  {
   "cell_type": "code",
   "execution_count": 23,
   "id": "3890d9b6",
   "metadata": {
    "scrolled": false
   },
   "outputs": [
    {
     "data": {
      "text/plain": [
       "11076.72744495793"
      ]
     },
     "execution_count": 23,
     "metadata": {},
     "output_type": "execute_result"
    }
   ],
   "source": [
    "reg.intercept_"
   ]
  },
  {
   "cell_type": "markdown",
   "id": "fee5da68",
   "metadata": {},
   "source": [
    "# 7. Prediction"
   ]
  },
  {
   "cell_type": "markdown",
   "id": "1290eb30",
   "metadata": {},
   "source": [
    "## 7.1. Training Set"
   ]
  },
  {
   "cell_type": "code",
   "execution_count": 24,
   "id": "f6ae8331",
   "metadata": {},
   "outputs": [],
   "source": [
    "y_pred_train = reg.predict(X_train)"
   ]
  },
  {
   "cell_type": "code",
   "execution_count": 25,
   "id": "86df5129",
   "metadata": {},
   "outputs": [
    {
     "data": {
      "text/plain": [
       "array([39059.84951795, 23876.89613354, 51297.12823932, 26803.22185888,\n",
       "       23244.53052638, 32429.33880017, 31344.79411495, 18766.67753311,\n",
       "       37361.60341445, 33901.44121663, 24751.70329169, 22448.23544336,\n",
       "       17689.44007702, 21945.02631385, 39914.36973748, 39858.09328846,\n",
       "       23061.93410219, 35983.67232393, 33844.243363  , 38209.35285593,\n",
       "       43803.47410279, 17445.0430212 , 16806.6230813 , 20338.38952233,\n",
       "       45218.97465713, 24615.36651436, 36709.12888103, 40732.85134931,\n",
       "       26686.90363724, 29842.4390406 , 46049.79368426, 22437.80708243,\n",
       "       51670.93669573, 30082.19365838, 19972.18287801, 31423.939856  ,\n",
       "       21190.83763128, 31839.22863811, 36135.19061024, 31896.89356817,\n",
       "       42977.44103947, 30145.57866995, 29973.54420574, 43026.49623033,\n",
       "       33271.10362526, 33702.1099353 , 32204.79574768, 40672.25601291,\n",
       "       33460.64883986, 47010.76914813, 35247.25339947, 26424.26701433,\n",
       "       30415.72506355, 31222.28873537, 49526.57545886, 32222.0508013 ,\n",
       "       25634.13973349, 19496.53817473, 21758.16136289, 24740.36974561,\n",
       "       23317.40978118, 39580.08610195, 34617.22109163, 34844.85634336,\n",
       "       19763.06552994, 44722.86060325, 32543.29035519, 41789.34698706])"
      ]
     },
     "execution_count": 25,
     "metadata": {},
     "output_type": "execute_result"
    }
   ],
   "source": [
    "y_pred_train"
   ]
  },
  {
   "cell_type": "markdown",
   "id": "20275bcf",
   "metadata": {},
   "source": [
    "## 7.2. Test Set"
   ]
  },
  {
   "cell_type": "code",
   "execution_count": 26,
   "id": "50cd359b",
   "metadata": {},
   "outputs": [],
   "source": [
    "y_pred_test = reg.predict(X_test)"
   ]
  },
  {
   "cell_type": "code",
   "execution_count": 27,
   "id": "d2bb7adb",
   "metadata": {},
   "outputs": [
    {
     "data": {
      "text/plain": [
       "array([31991.94666561, 22559.61943036, 26363.36084036, 28672.9857634 ,\n",
       "       26621.51402353, 27416.76427885, 29626.49499983, 46704.28959081,\n",
       "       31452.15454445, 22613.93723825, 21078.81135008, 35697.95471454,\n",
       "       34389.93004476, 29414.08126704, 43040.82605104, 21840.58835782,\n",
       "       17459.33594133, 29069.63101085])"
      ]
     },
     "execution_count": 27,
     "metadata": {},
     "output_type": "execute_result"
    }
   ],
   "source": [
    "y_pred_test"
   ]
  },
  {
   "cell_type": "markdown",
   "id": "0ac9e2f7",
   "metadata": {},
   "source": [
    "# 8. Model Evaluation"
   ]
  },
  {
   "cell_type": "markdown",
   "id": "323267ce",
   "metadata": {},
   "source": [
    "## 8.1. Training Set"
   ]
  },
  {
   "cell_type": "markdown",
   "id": "f2a400c0",
   "metadata": {},
   "source": [
    "### 8.1.1. Scoring"
   ]
  },
  {
   "cell_type": "code",
   "execution_count": 28,
   "id": "77e55cfb",
   "metadata": {},
   "outputs": [
    {
     "name": "stdout",
     "output_type": "stream",
     "text": [
      "r2_score =\t\t\t 0.8741990417707302\n",
      "mean_squared_error =\t\t 11359059.316376839\n",
      "mean_absolute_error =\t\t 2887.790067813865\n",
      "mean_absolute_percentage_error = 0.10135679565377134\n"
     ]
    }
   ],
   "source": [
    "print('r2_score =\\t\\t\\t', r2_score(y_train, y_pred_train))\n",
    "print('mean_squared_error =\\t\\t', mean_squared_error(y_train, y_pred_train))\n",
    "print('mean_absolute_error =\\t\\t', mean_absolute_error(y_train, y_pred_train))\n",
    "print('mean_absolute_percentage_error =', mean_absolute_percentage_error(y_train, y_pred_train))"
   ]
  },
  {
   "cell_type": "markdown",
   "id": "b1c2a693",
   "metadata": {},
   "source": [
    "### 8.1.2. Scatter Plot between Predicted & Actual Values"
   ]
  },
  {
   "cell_type": "code",
   "execution_count": 29,
   "id": "bb81c4d9",
   "metadata": {},
   "outputs": [
    {
     "data": {
      "text/plain": [
       "Text(0, 0.5, 'Actual')"
      ]
     },
     "execution_count": 29,
     "metadata": {},
     "output_type": "execute_result"
    },
    {
     "data": {
      "image/png": "[encoded data removed]",
      "text/plain": [
       "<Figure size 432x288 with 1 Axes>"
      ]
     },
     "metadata": {
      "needs_background": "light"
     },
     "output_type": "display_data"
    }
   ],
   "source": [
    "plt.scatter(y_pred_train, y_train)\n",
    "\n",
    "plt.plot(y_pred_train, y_pred_train, color='red')\n",
    "\n",
    "plt.title('Scatter Plot between Predicted & Actual Values')\n",
    "plt.xlabel('Predicted')\n",
    "plt.ylabel('Actual')"
   ]
  },
  {
   "cell_type": "markdown",
   "id": "85d799bd",
   "metadata": {},
   "source": [
    "## 8.2. Test Set"
   ]
  },
  {
   "cell_type": "markdown",
   "id": "f519ade0",
   "metadata": {},
   "source": [
    "### 8.2.1. Scoring"
   ]
  },
  {
   "cell_type": "code",
   "execution_count": 30,
   "id": "75265c82",
   "metadata": {},
   "outputs": [
    {
     "name": "stdout",
     "output_type": "stream",
     "text": [
      "r2_score =\t\t\t 0.8566472339642186\n",
      "mean_squared_error =\t\t 8039258.515031318\n",
      "mean_absolute_error =\t\t 2243.178604587211\n",
      "mean_absolute_percentage_error = 0.08143661535643623\n"
     ]
    }
   ],
   "source": [
    "print('r2_score =\\t\\t\\t', r2_score(y_test, y_pred_test))\n",
    "print('mean_squared_error =\\t\\t', mean_squared_error(y_test, y_pred_test))\n",
    "print('mean_absolute_error =\\t\\t', mean_absolute_error(y_test, y_pred_test))\n",
    "print('mean_absolute_percentage_error =', mean_absolute_percentage_error(y_test, y_pred_test))"
   ]
  },
  {
   "cell_type": "markdown",
   "id": "9d43b931",
   "metadata": {},
   "source": [
    "### 8.2.2 Scatter Plot between Predicted & Actual Values"
   ]
  },
  {
   "cell_type": "code",
   "execution_count": 31,
   "id": "91bb4023",
   "metadata": {
    "scrolled": true
   },
   "outputs": [
    {
     "data": {
      "text/plain": [
       "Text(0, 0.5, 'Actual')"
      ]
     },
     "execution_count": 31,
     "metadata": {},
     "output_type": "execute_result"
    },
    {
     "data": {
      "image/png": "[encoded data removed]",
      "text/plain": [
       "<Figure size 432x288 with 1 Axes>"
      ]
     },
     "metadata": {
      "needs_background": "light"
     },
     "output_type": "display_data"
    }
   ],
   "source": [
    "plt.scatter(y_pred_test, y_test)\n",
    "\n",
    "plt.plot(y_pred_test, y_pred_test, color='red')\n",
    "\n",
    "plt.title('Scatter Plot between Predicted & Actual Values')\n",
    "plt.xlabel('Predicted')\n",
    "plt.ylabel('Actual')"
   ]
  },
  {
   "cell_type": "markdown",
   "id": "e38a8e37",
   "metadata": {},
   "source": [
    "# 9. Save Model"
   ]
  },
  {
   "cell_type": "code",
   "execution_count": 32,
   "id": "50763e5c",
   "metadata": {},
   "outputs": [],
   "source": [
    "import pickle"
   ]
  },
  {
   "cell_type": "code",
   "execution_count": 33,
   "id": "928506b7",
   "metadata": {},
   "outputs": [],
   "source": [
    "pickle.dump((reg, \n",
    "             ordinal_encoder, \n",
    "             one_hot_encoder, \n",
    "             feature_name, \n",
    "             numerical_feature, \n",
    "             ordinal_feature, \n",
    "             nominal_feature),  open('linear_regrssion_model.pickle', 'wb'))"
   ]
  },
  {
   "cell_type": "code",
   "execution_count": null,
   "id": "a088c2b0",
   "metadata": {},
   "outputs": [],
   "source": []
  }
 ],
 "metadata": {
  "kernelspec": {
   "display_name": "Python 3",
   "language": "python",
   "name": "python3"
  },
  "language_info": {
   "codemirror_mode": {
    "name": "ipython",
    "version": 3
   },
   "file_extension": ".py",
   "mimetype": "text/x-python",
   "name": "python",
   "nbconvert_exporter": "python",
   "pygments_lexer": "ipython3",
   "version": "3.8.8"
  }
 },
 "nbformat": 4,
 "nbformat_minor": 5
}
