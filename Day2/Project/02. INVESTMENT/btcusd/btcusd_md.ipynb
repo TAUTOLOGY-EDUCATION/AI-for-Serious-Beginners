{
 "cells": [
  {
   "cell_type": "code",
   "execution_count": 1,
   "id": "373c3455",
   "metadata": {},
   "outputs": [],
   "source": [
    "import numpy as np\n",
    "import pandas as pd\n",
    "import pickle"
   ]
  },
  {
   "cell_type": "code",
   "execution_count": 2,
   "id": "75fded13",
   "metadata": {},
   "outputs": [],
   "source": [
    "saved_model = pickle.load(open('btcusd_model.pickle', 'rb'))"
   ]
  },
  {
   "cell_type": "code",
   "execution_count": 3,
   "id": "63eda643",
   "metadata": {},
   "outputs": [],
   "source": [
    "reg = saved_model[0]\n",
    "feature_name = saved_model[1]"
   ]
  },
  {
   "cell_type": "code",
   "execution_count": 4,
   "id": "47c05d31",
   "metadata": {},
   "outputs": [
    {
     "data": {
      "text/plain": [
       "['Open_0', 'STD5_Open_0', 'RSI14_Open_0', 'ATR14_0']"
      ]
     },
     "execution_count": 4,
     "metadata": {},
     "output_type": "execute_result"
    }
   ],
   "source": [
    "feature_name"
   ]
  },
  {
   "cell_type": "code",
   "execution_count": 5,
   "id": "d1b8d200",
   "metadata": {},
   "outputs": [],
   "source": [
    "Open_0 = 55331.0\n",
    "STD5_Open_0 = 2792.307247\n",
    "RSI14_Open_0 = 70.544777\n",
    "ATR14_0 = 2720.061180"
   ]
  },
  {
   "cell_type": "code",
   "execution_count": 6,
   "id": "d46a90bf",
   "metadata": {},
   "outputs": [
    {
     "data": {
      "text/html": [
       "<div>\n",
       "<style scoped>\n",
       "    .dataframe tbody tr th:only-of-type {\n",
       "        vertical-align: middle;\n",
       "    }\n",
       "\n",
       "    .dataframe tbody tr th {\n",
       "        vertical-align: top;\n",
       "    }\n",
       "\n",
       "    .dataframe thead th {\n",
       "        text-align: right;\n",
       "    }\n",
       "</style>\n",
       "<table border=\"1\" class=\"dataframe\">\n",
       "  <thead>\n",
       "    <tr style=\"text-align: right;\">\n",
       "      <th></th>\n",
       "      <th>Open_0</th>\n",
       "      <th>STD5_Open_0</th>\n",
       "      <th>RSI14_Open_0</th>\n",
       "      <th>ATR14_0</th>\n",
       "    </tr>\n",
       "  </thead>\n",
       "  <tbody>\n",
       "    <tr>\n",
       "      <th>0</th>\n",
       "      <td>55331.0</td>\n",
       "      <td>2792.307247</td>\n",
       "      <td>70.544777</td>\n",
       "      <td>2720.06118</td>\n",
       "    </tr>\n",
       "  </tbody>\n",
       "</table>\n",
       "</div>"
      ],
      "text/plain": [
       "    Open_0  STD5_Open_0  RSI14_Open_0     ATR14_0\n",
       "0  55331.0  2792.307247     70.544777  2720.06118"
      ]
     },
     "execution_count": 6,
     "metadata": {},
     "output_type": "execute_result"
    }
   ],
   "source": [
    "incoming_data = pd.DataFrame(np.array([[Open_0, STD5_Open_0, RSI14_Open_0, ATR14_0]]), \n",
    "                             columns=feature_name)\n",
    "\n",
    "incoming_data"
   ]
  },
  {
   "cell_type": "markdown",
   "id": "937cb857",
   "metadata": {},
   "source": [
    "### Prediction"
   ]
  },
  {
   "cell_type": "code",
   "execution_count": 7,
   "id": "dc402f2e",
   "metadata": {},
   "outputs": [],
   "source": [
    "predicted_target = reg.predict(incoming_data)"
   ]
  },
  {
   "cell_type": "code",
   "execution_count": 8,
   "id": "6f199502",
   "metadata": {
    "scrolled": false
   },
   "outputs": [
    {
     "data": {
      "text/plain": [
       "array([57004.85472061])"
      ]
     },
     "execution_count": 8,
     "metadata": {},
     "output_type": "execute_result"
    }
   ],
   "source": [
    "predicted_target"
   ]
  }
 ],
 "metadata": {
  "kernelspec": {
   "display_name": "Python 3",
   "language": "python",
   "name": "python3"
  },
  "language_info": {
   "codemirror_mode": {
    "name": "ipython",
    "version": 3
   },
   "file_extension": ".py",
   "mimetype": "text/x-python",
   "name": "python",
   "nbconvert_exporter": "python",
   "pygments_lexer": "ipython3",
   "version": "3.8.8"
  }
 },
 "nbformat": 4,
 "nbformat_minor": 5
}
