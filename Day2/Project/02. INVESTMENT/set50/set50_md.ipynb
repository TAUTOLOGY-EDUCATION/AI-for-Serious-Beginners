{
 "cells": [
  {
   "cell_type": "code",
   "execution_count": 1,
   "id": "373c3455",
   "metadata": {},
   "outputs": [],
   "source": [
    "import numpy as np\n",
    "import pandas as pd\n",
    "import pickle"
   ]
  },
  {
   "cell_type": "code",
   "execution_count": 2,
   "id": "75fded13",
   "metadata": {},
   "outputs": [],
   "source": [
    "saved_model = pickle.load(open('set50_model.pickle', 'rb'))"
   ]
  },
  {
   "cell_type": "code",
   "execution_count": 3,
   "id": "b7dc6f5f",
   "metadata": {},
   "outputs": [],
   "source": [
    "reg = saved_model[0]\n",
    "feature_name = saved_model[1]"
   ]
  },
  {
   "cell_type": "code",
   "execution_count": 4,
   "id": "547ecee7",
   "metadata": {},
   "outputs": [
    {
     "data": {
      "text/plain": [
       "['Open_0', 'STD5_Open_0', 'RSI14_Open_0', 'ATR14_0']"
      ]
     },
     "execution_count": 4,
     "metadata": {},
     "output_type": "execute_result"
    }
   ],
   "source": [
    "feature_name"
   ]
  },
  {
   "cell_type": "code",
   "execution_count": 5,
   "id": "d1b8d200",
   "metadata": {},
   "outputs": [],
   "source": [
    "Open_0 = 1613.72\n",
    "STD5_Open_0 = 15.277493\n",
    "RSI14_Open_0 = 61.520575\n",
    "ATR14_0 = 19.932244"
   ]
  },
  {
   "cell_type": "code",
   "execution_count": 6,
   "id": "674964a8",
   "metadata": {},
   "outputs": [
    {
     "data": {
      "text/html": [
       "<div>\n",
       "<style scoped>\n",
       "    .dataframe tbody tr th:only-of-type {\n",
       "        vertical-align: middle;\n",
       "    }\n",
       "\n",
       "    .dataframe tbody tr th {\n",
       "        vertical-align: top;\n",
       "    }\n",
       "\n",
       "    .dataframe thead th {\n",
       "        text-align: right;\n",
       "    }\n",
       "</style>\n",
       "<table border=\"1\" class=\"dataframe\">\n",
       "  <thead>\n",
       "    <tr style=\"text-align: right;\">\n",
       "      <th></th>\n",
       "      <th>Open_0</th>\n",
       "      <th>STD5_Open_0</th>\n",
       "      <th>RSI14_Open_0</th>\n",
       "      <th>ATR14_0</th>\n",
       "    </tr>\n",
       "  </thead>\n",
       "  <tbody>\n",
       "    <tr>\n",
       "      <th>0</th>\n",
       "      <td>1613.72</td>\n",
       "      <td>15.277493</td>\n",
       "      <td>61.520575</td>\n",
       "      <td>19.932244</td>\n",
       "    </tr>\n",
       "  </tbody>\n",
       "</table>\n",
       "</div>"
      ],
      "text/plain": [
       "    Open_0  STD5_Open_0  RSI14_Open_0    ATR14_0\n",
       "0  1613.72    15.277493     61.520575  19.932244"
      ]
     },
     "execution_count": 6,
     "metadata": {},
     "output_type": "execute_result"
    }
   ],
   "source": [
    "incoming_data = pd.DataFrame(np.array([[Open_0, STD5_Open_0, RSI14_Open_0, ATR14_0]]), \n",
    "                             columns=feature_name)\n",
    "\n",
    "incoming_data"
   ]
  },
  {
   "cell_type": "markdown",
   "id": "f258377a",
   "metadata": {},
   "source": [
    "### Prediction"
   ]
  },
  {
   "cell_type": "code",
   "execution_count": 7,
   "id": "9be4a80a",
   "metadata": {},
   "outputs": [],
   "source": [
    "predicted_target = reg.predict(incoming_data)"
   ]
  },
  {
   "cell_type": "code",
   "execution_count": 8,
   "id": "e68c98ea",
   "metadata": {},
   "outputs": [
    {
     "data": {
      "text/plain": [
       "array([1621.18962878])"
      ]
     },
     "execution_count": 8,
     "metadata": {},
     "output_type": "execute_result"
    }
   ],
   "source": [
    "predicted_target"
   ]
  }
 ],
 "metadata": {
  "kernelspec": {
   "display_name": "Python 3",
   "language": "python",
   "name": "python3"
  },
  "language_info": {
   "codemirror_mode": {
    "name": "ipython",
    "version": 3
   },
   "file_extension": ".py",
   "mimetype": "text/x-python",
   "name": "python",
   "nbconvert_exporter": "python",
   "pygments_lexer": "ipython3",
   "version": "3.8.8"
  }
 },
 "nbformat": 4,
 "nbformat_minor": 5
}
