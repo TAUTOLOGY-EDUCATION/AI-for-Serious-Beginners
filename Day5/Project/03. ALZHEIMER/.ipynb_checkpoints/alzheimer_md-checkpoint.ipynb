{
 "cells": [
  {
   "cell_type": "code",
   "execution_count": 1,
   "id": "5a08019a",
   "metadata": {},
   "outputs": [],
   "source": [
    "import numpy as np\n",
    "import pandas as pd\n",
    "import pickle\n",
    "\n",
    "from glob import glob\n",
    "from PIL import Image\n",
    "import cv2"
   ]
  },
  {
   "cell_type": "code",
   "execution_count": 2,
   "id": "13d70121",
   "metadata": {},
   "outputs": [],
   "source": [
    "saved_model = pickle.load(open('skin_cancer_model.pickle', 'rb'))"
   ]
  },
  {
   "cell_type": "code",
   "execution_count": 3,
   "id": "c77578e2",
   "metadata": {},
   "outputs": [],
   "source": [
    "clf = saved_model[0]\n",
    "scaler = saved_model[1]"
   ]
  },
  {
   "cell_type": "code",
   "execution_count": 4,
   "id": "a091055f",
   "metadata": {},
   "outputs": [
    {
     "data": {
      "image/png": "[encoded data removed]",
      "text/plain": [
       "<PIL.JpegImagePlugin.JpegImageFile image mode=L size=176x208 at 0x124689910>"
      ]
     },
     "execution_count": 4,
     "metadata": {},
     "output_type": "execute_result"
    }
   ],
   "source": [
    "img_path = glob('../image_to_csv/dataset/MildDemented/*')[1]\n",
    "incoming_data = Image.open(img_path)\n",
    "\n",
    "incoming_data"
   ]
  },
  {
   "cell_type": "code",
   "execution_count": 5,
   "id": "ab3359a5",
   "metadata": {},
   "outputs": [
    {
     "data": {
      "text/plain": [
       "array([[0., 0., 0., ..., 0., 0., 0.]])"
      ]
     },
     "execution_count": 5,
     "metadata": {},
     "output_type": "execute_result"
    }
   ],
   "source": [
    "incoming_data = incoming_data.resize([176, 208])\n",
    "incoming_data = np.array(incoming_data)\n",
    "    \n",
    "incoming_data = incoming_data.reshape(1, -1)\n",
    "incoming_data_scaled = scaler.transform(incoming_data)\n",
    "\n",
    "incoming_data_scaled"
   ]
  },
  {
   "cell_type": "markdown",
   "id": "79a6b5b1",
   "metadata": {},
   "source": [
    "### Prediction"
   ]
  },
  {
   "cell_type": "code",
   "execution_count": 6,
   "id": "f39c3caf",
   "metadata": {},
   "outputs": [],
   "source": [
    "predicted_target = clf.predict(incoming_data_scaled)"
   ]
  },
  {
   "cell_type": "code",
   "execution_count": 7,
   "id": "f2f007f7",
   "metadata": {},
   "outputs": [
    {
     "data": {
      "text/plain": [
       "array([1.])"
      ]
     },
     "execution_count": 7,
     "metadata": {},
     "output_type": "execute_result"
    }
   ],
   "source": [
    "predicted_target"
   ]
  }
 ],
 "metadata": {
  "kernelspec": {
   "display_name": "Python 3",
   "language": "python",
   "name": "python3"
  },
  "language_info": {
   "codemirror_mode": {
    "name": "ipython",
    "version": 3
   },
   "file_extension": ".py",
   "mimetype": "text/x-python",
   "name": "python",
   "nbconvert_exporter": "python",
   "pygments_lexer": "ipython3",
   "version": "3.8.8"
  }
 },
 "nbformat": 4,
 "nbformat_minor": 5
}
