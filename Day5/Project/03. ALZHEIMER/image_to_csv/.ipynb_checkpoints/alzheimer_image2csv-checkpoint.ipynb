{
 "cells": [
  {
   "cell_type": "markdown",
   "id": "ea4f82fa",
   "metadata": {},
   "source": [
    "# 1. Import Libraries"
   ]
  },
  {
   "cell_type": "code",
   "execution_count": 1,
   "id": "e2ed8efe",
   "metadata": {},
   "outputs": [],
   "source": [
    "# !pip install opencv-python"
   ]
  },
  {
   "cell_type": "code",
   "execution_count": 2,
   "id": "efca3fc8",
   "metadata": {},
   "outputs": [],
   "source": [
    "import numpy as np\n",
    "import pandas as pd\n",
    "import matplotlib.pyplot as plt\n",
    "\n",
    "from glob import glob\n",
    "from PIL import Image\n",
    "import cv2\n",
    "from tqdm.auto import tqdm"
   ]
  },
  {
   "cell_type": "markdown",
   "id": "4b39797b",
   "metadata": {},
   "source": [
    "# 2. Read Data"
   ]
  },
  {
   "cell_type": "code",
   "execution_count": 3,
   "id": "c06ac5b0",
   "metadata": {},
   "outputs": [],
   "source": [
    "classes = ['MildDemented', 'ModerateDemented', 'NonDemented', 'VeryMildDemented']"
   ]
  },
  {
   "cell_type": "code",
   "execution_count": 4,
   "id": "6710416b",
   "metadata": {},
   "outputs": [
    {
     "data": {
      "application/vnd.jupyter.widget-view+json": {
       "model_id": "09e7823af8ca4a079b76c613c0645b0f",
       "version_major": 2,
       "version_minor": 0
      },
      "text/plain": [
       "  0%|          | 0/4 [00:00<?, ?it/s]"
      ]
     },
     "metadata": {},
     "output_type": "display_data"
    },
    {
     "data": {
      "application/vnd.jupyter.widget-view+json": {
       "model_id": "f4743d289202412aa473d308a666d8d3",
       "version_major": 2,
       "version_minor": 0
      },
      "text/plain": [
       "  0%|          | 0/717 [00:00<?, ?it/s]"
      ]
     },
     "metadata": {},
     "output_type": "display_data"
    },
    {
     "data": {
      "application/vnd.jupyter.widget-view+json": {
       "model_id": "124353b2ad044926b0c2a82005575e7d",
       "version_major": 2,
       "version_minor": 0
      },
      "text/plain": [
       "  0%|          | 0/52 [00:00<?, ?it/s]"
      ]
     },
     "metadata": {},
     "output_type": "display_data"
    },
    {
     "data": {
      "application/vnd.jupyter.widget-view+json": {
       "model_id": "4e43a26f99ed43339ae725f1e63720b9",
       "version_major": 2,
       "version_minor": 0
      },
      "text/plain": [
       "  0%|          | 0/2560 [00:00<?, ?it/s]"
      ]
     },
     "metadata": {},
     "output_type": "display_data"
    },
    {
     "data": {
      "application/vnd.jupyter.widget-view+json": {
       "model_id": "2c0f3719d1e94bfbb2f4ca2a12895053",
       "version_major": 2,
       "version_minor": 0
      },
      "text/plain": [
       "  0%|          | 0/1792 [00:00<?, ?it/s]"
      ]
     },
     "metadata": {},
     "output_type": "display_data"
    }
   ],
   "source": [
    "width = 176\n",
    "height = 208\n",
    "\n",
    "X = np.empty([0, width*height])\n",
    "y = np.empty([0, 1])\n",
    "\n",
    "for _class in tqdm(classes):\n",
    "    img_path = glob('dataset/' + _class + '/*')\n",
    "    for path in tqdm(img_path):\n",
    "        img = Image.open(path)\n",
    "        img = img.resize([width, height])\n",
    "        img = np.array(img)\n",
    "        img = img.reshape(1, -1)\n",
    "        X = np.vstack([X, img])\n",
    "        if _class == 'NonDemented':\n",
    "            y = np.vstack([y, False])\n",
    "        else:\n",
    "            y = np.vstack([y, True])"
   ]
  },
  {
   "cell_type": "markdown",
   "id": "a91585e6",
   "metadata": {},
   "source": [
    "# 3. Save to CSV"
   ]
  },
  {
   "cell_type": "code",
   "execution_count": 5,
   "id": "b0acbd81",
   "metadata": {},
   "outputs": [],
   "source": [
    "columns = [f'pixel_{i}' for i in range(width*height)]\n",
    "\n",
    "data = pd.DataFrame(X, columns=columns)\n",
    "data['label'] = y\n",
    "\n",
    "data.to_csv('alzheimer_dataset.csv', index=False)"
   ]
  },
  {
   "cell_type": "code",
   "execution_count": null,
   "id": "57475d41",
   "metadata": {},
   "outputs": [],
   "source": []
  }
 ],
 "metadata": {
  "kernelspec": {
   "display_name": "Python 3",
   "language": "python",
   "name": "python3"
  },
  "language_info": {
   "codemirror_mode": {
    "name": "ipython",
    "version": 3
   },
   "file_extension": ".py",
   "mimetype": "text/x-python",
   "name": "python",
   "nbconvert_exporter": "python",
   "pygments_lexer": "ipython3",
   "version": "3.8.8"
  }
 },
 "nbformat": 4,
 "nbformat_minor": 5
}
