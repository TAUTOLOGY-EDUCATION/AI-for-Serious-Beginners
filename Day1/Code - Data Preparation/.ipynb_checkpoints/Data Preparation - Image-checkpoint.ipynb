{
 "cells": [
  {
   "cell_type": "code",
   "execution_count": 1,
   "id": "0ac4d966",
   "metadata": {},
   "outputs": [],
   "source": [
    "# !pip install opencv-python"
   ]
  },
  {
   "cell_type": "code",
   "execution_count": 2,
   "id": "faa7fa2c",
   "metadata": {},
   "outputs": [],
   "source": [
    "import numpy as np\n",
    "import pandas as pd\n",
    "import matplotlib.pyplot as plt\n",
    "\n",
    "from glob import glob\n",
    "from PIL import Image\n",
    "import cv2\n",
    "from tqdm.auto import tqdm\n",
    "from sklearn.model_selection import train_test_split\n",
    "from sklearn.preprocessing import (\n",
    "    OrdinalEncoder, \n",
    "    OneHotEncoder, \n",
    "    StandardScaler, \n",
    "    MinMaxScaler\n",
    ")"
   ]
  },
  {
   "cell_type": "markdown",
   "id": "95971551",
   "metadata": {},
   "source": [
    "## ========== Count Vectorization =========="
   ]
  },
  {
   "cell_type": "code",
   "execution_count": 3,
   "id": "d0ccccc3",
   "metadata": {},
   "outputs": [],
   "source": [
    "classes = ['healthy', 'unhealthy']"
   ]
  },
  {
   "cell_type": "code",
   "execution_count": 4,
   "id": "c8d0d00a",
   "metadata": {},
   "outputs": [
    {
     "data": {
      "application/vnd.jupyter.widget-view+json": {
       "model_id": "5da6011522864851ac2c50b5e8f9b9af",
       "version_major": 2,
       "version_minor": 0
      },
      "text/plain": [
       "  0%|          | 0/2 [00:00<?, ?it/s]"
      ]
     },
     "metadata": {},
     "output_type": "display_data"
    },
    {
     "data": {
      "application/vnd.jupyter.widget-view+json": {
       "model_id": "7414ce202c0a4ea7bc95b9b17e35f582",
       "version_major": 2,
       "version_minor": 0
      },
      "text/plain": [
       "  0%|          | 0/9 [00:00<?, ?it/s]"
      ]
     },
     "metadata": {},
     "output_type": "display_data"
    },
    {
     "data": {
      "application/vnd.jupyter.widget-view+json": {
       "model_id": "7727a1b4267c4bfea69d04db3e633fa6",
       "version_major": 2,
       "version_minor": 0
      },
      "text/plain": [
       "  0%|          | 0/10 [00:00<?, ?it/s]"
      ]
     },
     "metadata": {},
     "output_type": "display_data"
    }
   ],
   "source": [
    "X = np.empty([0, 32*32*3])\n",
    "y = np.empty([0, 1])\n",
    "\n",
    "for _class in tqdm(classes):\n",
    "    img_path = glob('image_dataset/' + _class + '/*')\n",
    "    for path in tqdm(img_path):\n",
    "        img = Image.open(path)\n",
    "        img = img.resize([32, 32])\n",
    "        img = np.array(img)\n",
    "        if img.shape[2] == 4:\n",
    "            img = cv2.cvtColor(img, cv2.COLOR_BGRA2BGR)\n",
    "        img = img.reshape(1, -1)\n",
    "        X = np.vstack([X, img])\n",
    "        if _class == 'healthy':\n",
    "            y = np.vstack([y, 'healthy'])\n",
    "        else:\n",
    "            y = np.vstack([y, 'unhealthy'])"
   ]
  },
  {
   "cell_type": "code",
   "execution_count": 5,
   "id": "9028adee",
   "metadata": {},
   "outputs": [
    {
     "data": {
      "text/plain": [
       "array([[ 32.,  26.,   5., ..., 160., 128., 106.],\n",
       "       [ 42.,  28.,   6., ...,  69.,  45.,  32.],\n",
       "       [ 43.,  33.,  15., ...,  49.,  50.,  15.],\n",
       "       ...,\n",
       "       [ 84., 131.,  45., ..., 154., 129.,  95.],\n",
       "       [ 68.,  62.,  36., ...,  95.,  74.,  35.],\n",
       "       [ 73., 135.,  38., ..., 136., 209.,  99.]])"
      ]
     },
     "execution_count": 5,
     "metadata": {},
     "output_type": "execute_result"
    }
   ],
   "source": [
    "X"
   ]
  },
  {
   "cell_type": "code",
   "execution_count": 6,
   "id": "a4e85974",
   "metadata": {},
   "outputs": [
    {
     "data": {
      "text/plain": [
       "array([['healthy'],\n",
       "       ['healthy'],\n",
       "       ['healthy'],\n",
       "       ['healthy'],\n",
       "       ['healthy'],\n",
       "       ['healthy'],\n",
       "       ['healthy'],\n",
       "       ['healthy'],\n",
       "       ['healthy'],\n",
       "       ['unhealthy'],\n",
       "       ['unhealthy'],\n",
       "       ['unhealthy'],\n",
       "       ['unhealthy'],\n",
       "       ['unhealthy'],\n",
       "       ['unhealthy'],\n",
       "       ['unhealthy'],\n",
       "       ['unhealthy'],\n",
       "       ['unhealthy'],\n",
       "       ['unhealthy']], dtype='<U32')"
      ]
     },
     "execution_count": 6,
     "metadata": {},
     "output_type": "execute_result"
    }
   ],
   "source": [
    "y"
   ]
  }
 ],
 "metadata": {
  "kernelspec": {
   "display_name": "Python 3",
   "language": "python",
   "name": "python3"
  },
  "language_info": {
   "codemirror_mode": {
    "name": "ipython",
    "version": 3
   },
   "file_extension": ".py",
   "mimetype": "text/x-python",
   "name": "python",
   "nbconvert_exporter": "python",
   "pygments_lexer": "ipython3",
   "version": "3.8.8"
  }
 },
 "nbformat": 4,
 "nbformat_minor": 5
}
