{
 "cells": [
  {
   "cell_type": "code",
   "execution_count": 1,
   "id": "8fed3130",
   "metadata": {},
   "outputs": [],
   "source": [
    "# !pip install librosa\n",
    "# !pip install opencv-python"
   ]
  },
  {
   "cell_type": "code",
   "execution_count": 2,
   "id": "2f51eef5",
   "metadata": {},
   "outputs": [],
   "source": [
    "import numpy as np\n",
    "import pandas as pd\n",
    "import matplotlib.pyplot as plt\n",
    "\n",
    "from glob import glob\n",
    "import librosa\n",
    "import cv2\n",
    "from tqdm.auto import tqdm\n",
    "from sklearn.model_selection import train_test_split\n",
    "from sklearn.preprocessing import (\n",
    "    OrdinalEncoder, \n",
    "    OneHotEncoder, \n",
    "    StandardScaler, \n",
    "    MinMaxScaler\n",
    ")"
   ]
  },
  {
   "cell_type": "markdown",
   "id": "6707b8de",
   "metadata": {},
   "source": [
    "## ========== Sound =========="
   ]
  },
  {
   "cell_type": "code",
   "execution_count": 3,
   "id": "fdc8e1e6",
   "metadata": {},
   "outputs": [],
   "source": [
    "def get_img(voice_data, sampling_data, mode):\n",
    "    if mode == 'spec':\n",
    "        stft = np.abs(librosa.core.spectrum.stft(voice_data))\n",
    "        return librosa.amplitude_to_db(stft, ref=np.max)\n",
    "    elif mode == 'mel':\n",
    "        stft = np.abs(librosa.feature.melspectrogram(voice_data))\n",
    "        return librosa.amplitude_to_db(stft, ref=np.max)\n",
    "    elif mode == 'chrom':\n",
    "        stft = np.abs(librosa.core.spectrum.stft(voice_data))\n",
    "        return librosa.feature.chroma_stft(S=stft, sr=sampling_rate)"
   ]
  },
  {
   "cell_type": "code",
   "execution_count": 4,
   "id": "d0ccccc3",
   "metadata": {},
   "outputs": [],
   "source": [
    "classes = ['cat', 'dog']"
   ]
  },
  {
   "cell_type": "code",
   "execution_count": 5,
   "id": "c8d0d00a",
   "metadata": {},
   "outputs": [
    {
     "data": {
      "application/vnd.jupyter.widget-view+json": {
       "model_id": "9d58c4c25a44436c8864c5927095e855",
       "version_major": 2,
       "version_minor": 0
      },
      "text/plain": [
       "  0%|          | 0/2 [00:00<?, ?it/s]"
      ]
     },
     "metadata": {},
     "output_type": "display_data"
    },
    {
     "data": {
      "application/vnd.jupyter.widget-view+json": {
       "model_id": "a57b7d45afde4993ab6eb9c0631f6bae",
       "version_major": 2,
       "version_minor": 0
      },
      "text/plain": [
       "  0%|          | 0/10 [00:00<?, ?it/s]"
      ]
     },
     "metadata": {},
     "output_type": "display_data"
    },
    {
     "name": "stderr",
     "output_type": "stream",
     "text": [
      "<ipython-input-3-0ae533ac241a>:6: FutureWarning: Pass y=[-0.00658861 -0.00588877  0.0008091  ... -0.00334241 -0.00313598\n",
      " -0.00169399] as keyword args. From version 0.10 passing these as positional arguments will result in an error\n",
      "  stft = np.abs(librosa.feature.melspectrogram(voice_data))\n",
      "<ipython-input-3-0ae533ac241a>:6: FutureWarning: Pass y=[-0.00265953 -0.00155334 -0.00188707 ... -0.00293353 -0.00566241\n",
      "  0.        ] as keyword args. From version 0.10 passing these as positional arguments will result in an error\n",
      "  stft = np.abs(librosa.feature.melspectrogram(voice_data))\n",
      "<ipython-input-3-0ae533ac241a>:6: FutureWarning: Pass y=[-0.00025446 -0.00013214  0.00019071 ... -0.00150605 -0.00226552\n",
      "  0.        ] as keyword args. From version 0.10 passing these as positional arguments will result in an error\n",
      "  stft = np.abs(librosa.feature.melspectrogram(voice_data))\n",
      "<ipython-input-3-0ae533ac241a>:6: FutureWarning: Pass y=[ 0.02334104  0.02660546  0.02193814 ...  0.00239813  0.0010254\n",
      " -0.00019849] as keyword args. From version 0.10 passing these as positional arguments will result in an error\n",
      "  stft = np.abs(librosa.feature.melspectrogram(voice_data))\n",
      "<ipython-input-3-0ae533ac241a>:6: FutureWarning: Pass y=[-0.03053026 -0.03485088 -0.02975986 ...  0.00104051  0.00072088\n",
      " -0.00012315] as keyword args. From version 0.10 passing these as positional arguments will result in an error\n",
      "  stft = np.abs(librosa.feature.melspectrogram(voice_data))\n",
      "<ipython-input-3-0ae533ac241a>:6: FutureWarning: Pass y=[ 0.00381674  0.00407222  0.00156718 ... -0.0146927  -0.01779636\n",
      " -0.01206966] as keyword args. From version 0.10 passing these as positional arguments will result in an error\n",
      "  stft = np.abs(librosa.feature.melspectrogram(voice_data))\n",
      "<ipython-input-3-0ae533ac241a>:6: FutureWarning: Pass y=[0.         0.         0.         ... 0.00345637 0.00292024 0.00222418] as keyword args. From version 0.10 passing these as positional arguments will result in an error\n",
      "  stft = np.abs(librosa.feature.melspectrogram(voice_data))\n",
      "<ipython-input-3-0ae533ac241a>:6: FutureWarning: Pass y=[ 0.          0.          0.         ... -0.01139749 -0.00493222\n",
      "  0.        ] as keyword args. From version 0.10 passing these as positional arguments will result in an error\n",
      "  stft = np.abs(librosa.feature.melspectrogram(voice_data))\n",
      "<ipython-input-3-0ae533ac241a>:6: FutureWarning: Pass y=[ 0.00212174  0.00075649  0.00095759 ... -0.00418886 -0.00551631\n",
      " -0.00409421] as keyword args. From version 0.10 passing these as positional arguments will result in an error\n",
      "  stft = np.abs(librosa.feature.melspectrogram(voice_data))\n",
      "<ipython-input-3-0ae533ac241a>:6: FutureWarning: Pass y=[ 0.0034665   0.00330464  0.00140859 ... -0.01720963 -0.0216739\n",
      " -0.01452261] as keyword args. From version 0.10 passing these as positional arguments will result in an error\n",
      "  stft = np.abs(librosa.feature.melspectrogram(voice_data))\n"
     ]
    },
    {
     "data": {
      "application/vnd.jupyter.widget-view+json": {
       "model_id": "1a7fc382fee9454d9a97812f84bb4ff7",
       "version_major": 2,
       "version_minor": 0
      },
      "text/plain": [
       "  0%|          | 0/10 [00:00<?, ?it/s]"
      ]
     },
     "metadata": {},
     "output_type": "display_data"
    },
    {
     "name": "stderr",
     "output_type": "stream",
     "text": [
      "<ipython-input-3-0ae533ac241a>:6: FutureWarning: Pass y=[-0.00206765 -0.00233101 -0.00170548 ... -0.0312203  -0.01853225\n",
      "  0.        ] as keyword args. From version 0.10 passing these as positional arguments will result in an error\n",
      "  stft = np.abs(librosa.feature.melspectrogram(voice_data))\n",
      "<ipython-input-3-0ae533ac241a>:6: FutureWarning: Pass y=[-3.0163363e-05 -3.2525986e-05 -2.9285431e-05 ...  6.4739482e-03\n",
      "  5.1710312e-03  0.0000000e+00] as keyword args. From version 0.10 passing these as positional arguments will result in an error\n",
      "  stft = np.abs(librosa.feature.melspectrogram(voice_data))\n",
      "<ipython-input-3-0ae533ac241a>:6: FutureWarning: Pass y=[-0.00032529 -0.00639961 -0.01163953 ... -0.00895991 -0.00965244\n",
      "  0.        ] as keyword args. From version 0.10 passing these as positional arguments will result in an error\n",
      "  stft = np.abs(librosa.feature.melspectrogram(voice_data))\n",
      "<ipython-input-3-0ae533ac241a>:6: FutureWarning: Pass y=[ 0.00260881  0.00167369 -0.00055374 ... -0.01449521 -0.01685287\n",
      " -0.01079411] as keyword args. From version 0.10 passing these as positional arguments will result in an error\n",
      "  stft = np.abs(librosa.feature.melspectrogram(voice_data))\n",
      "<ipython-input-3-0ae533ac241a>:6: FutureWarning: Pass y=[-0.00332699 -0.0070627  -0.00959239 ...  0.013212    0.0151326\n",
      "  0.00950398] as keyword args. From version 0.10 passing these as positional arguments will result in an error\n",
      "  stft = np.abs(librosa.feature.melspectrogram(voice_data))\n",
      "<ipython-input-3-0ae533ac241a>:6: FutureWarning: Pass y=[0.001555   0.0021983  0.00165576 ... 0.00386922 0.00438025 0.00289547] as keyword args. From version 0.10 passing these as positional arguments will result in an error\n",
      "  stft = np.abs(librosa.feature.melspectrogram(voice_data))\n",
      "<ipython-input-3-0ae533ac241a>:6: FutureWarning: Pass y=[0.00218567 0.0045207  0.00347009 ... 0.00137388 0.000925   0.        ] as keyword args. From version 0.10 passing these as positional arguments will result in an error\n",
      "  stft = np.abs(librosa.feature.melspectrogram(voice_data))\n",
      "<ipython-input-3-0ae533ac241a>:6: FutureWarning: Pass y=[-0.00485915 -0.0058567  -0.00322179 ... -0.00577311 -0.00529164\n",
      "  0.        ] as keyword args. From version 0.10 passing these as positional arguments will result in an error\n",
      "  stft = np.abs(librosa.feature.melspectrogram(voice_data))\n",
      "<ipython-input-3-0ae533ac241a>:6: FutureWarning: Pass y=[-0.00053162 -0.00050666 -0.00020808 ...  0.01219516  0.01138602\n",
      "  0.        ] as keyword args. From version 0.10 passing these as positional arguments will result in an error\n",
      "  stft = np.abs(librosa.feature.melspectrogram(voice_data))\n",
      "<ipython-input-3-0ae533ac241a>:6: FutureWarning: Pass y=[-0.00452784 -0.00615972 -0.00650962 ...  0.006975    0.00671486\n",
      "  0.        ] as keyword args. From version 0.10 passing these as positional arguments will result in an error\n",
      "  stft = np.abs(librosa.feature.melspectrogram(voice_data))\n"
     ]
    }
   ],
   "source": [
    "mode = 'mel'\n",
    "\n",
    "width = 256\n",
    "height = 32\n",
    "\n",
    "X = np.empty([0, width*height])\n",
    "y = np.empty([0, 1])\n",
    "\n",
    "for _class in tqdm(classes):\n",
    "    sound_path = glob('sound_dataset/' + _class + '/*')\n",
    "    for path in tqdm(sound_path):\n",
    "        voice_data, sampling_rate = librosa.load(path)\n",
    "        img = get_img(voice_data, sampling_rate, mode)\n",
    "        img = cv2.resize(img, dsize=(width, height))\n",
    "        img = img.reshape(1, -1)\n",
    "        X = np.vstack([X, img])\n",
    "        y = np.vstack([y, _class])"
   ]
  },
  {
   "cell_type": "code",
   "execution_count": 6,
   "id": "a088c2b0",
   "metadata": {},
   "outputs": [
    {
     "data": {
      "text/plain": [
       "array([[-80.        , -80.        , -80.        , ..., -80.        ,\n",
       "        -80.        , -80.        ],\n",
       "       [-77.60639954, -77.60639954, -77.26318359, ..., -80.        ,\n",
       "        -80.        , -80.        ],\n",
       "       [-80.        , -80.        , -66.35562134, ..., -80.        ,\n",
       "        -80.        , -80.        ],\n",
       "       ...,\n",
       "       [-80.        , -80.        , -80.        , ..., -80.        ,\n",
       "        -80.        , -80.        ],\n",
       "       [-79.99999237, -79.99999237, -79.99999237, ..., -79.99999237,\n",
       "        -79.99999237, -79.99999237],\n",
       "       [-80.        , -80.        , -80.        , ..., -80.        ,\n",
       "        -80.        , -80.        ]])"
      ]
     },
     "execution_count": 6,
     "metadata": {},
     "output_type": "execute_result"
    }
   ],
   "source": [
    "X"
   ]
  },
  {
   "cell_type": "code",
   "execution_count": 7,
   "id": "1d225438",
   "metadata": {},
   "outputs": [
    {
     "data": {
      "text/plain": [
       "array([['cat'],\n",
       "       ['cat'],\n",
       "       ['cat'],\n",
       "       ['cat'],\n",
       "       ['cat'],\n",
       "       ['cat'],\n",
       "       ['cat'],\n",
       "       ['cat'],\n",
       "       ['cat'],\n",
       "       ['cat'],\n",
       "       ['dog'],\n",
       "       ['dog'],\n",
       "       ['dog'],\n",
       "       ['dog'],\n",
       "       ['dog'],\n",
       "       ['dog'],\n",
       "       ['dog'],\n",
       "       ['dog'],\n",
       "       ['dog'],\n",
       "       ['dog']], dtype='<U32')"
      ]
     },
     "execution_count": 7,
     "metadata": {},
     "output_type": "execute_result"
    }
   ],
   "source": [
    "y"
   ]
  }
 ],
 "metadata": {
  "kernelspec": {
   "display_name": "Python 3",
   "language": "python",
   "name": "python3"
  },
  "language_info": {
   "codemirror_mode": {
    "name": "ipython",
    "version": 3
   },
   "file_extension": ".py",
   "mimetype": "text/x-python",
   "name": "python",
   "nbconvert_exporter": "python",
   "pygments_lexer": "ipython3",
   "version": "3.8.8"
  }
 },
 "nbformat": 4,
 "nbformat_minor": 5
}
