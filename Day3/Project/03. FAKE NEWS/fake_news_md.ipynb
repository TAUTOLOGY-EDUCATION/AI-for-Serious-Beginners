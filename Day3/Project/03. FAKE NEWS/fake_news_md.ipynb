{
 "cells": [
  {
   "cell_type": "code",
   "execution_count": 1,
   "id": "452fe34c",
   "metadata": {},
   "outputs": [],
   "source": [
    "import numpy as np\n",
    "import pandas as pd\n",
    "import pickle"
   ]
  },
  {
   "cell_type": "code",
   "execution_count": 2,
   "id": "65544b2d",
   "metadata": {},
   "outputs": [],
   "source": [
    "saved_model = pickle.load(open('fake_news_model.pickle', 'rb'))"
   ]
  },
  {
   "cell_type": "code",
   "execution_count": 3,
   "id": "a3e6d367",
   "metadata": {},
   "outputs": [],
   "source": [
    "clf = saved_model[0]\n",
    "title_vectorizer = saved_model[1]\n",
    "text_vectorizer = saved_model[2]\n",
    "one_hot_encoder = saved_model[3]\n",
    "scaler = saved_model[4]\n",
    "feature_name = saved_model[5]\n",
    "numerical_feature = saved_model[6]\n",
    "ordinal_feature = saved_model[7]\n",
    "nominal_feature = saved_model[8]"
   ]
  },
  {
   "cell_type": "code",
   "execution_count": 4,
   "id": "a48b6ccd",
   "metadata": {},
   "outputs": [
    {
     "data": {
      "text/plain": [
       "['title', 'text', 'subject']"
      ]
     },
     "execution_count": 4,
     "metadata": {},
     "output_type": "execute_result"
    }
   ],
   "source": [
    "feature_name"
   ]
  },
  {
   "cell_type": "code",
   "execution_count": 5,
   "id": "46092ae7",
   "metadata": {},
   "outputs": [],
   "source": [
    "title = 'Billy Bush: It was Trump\\'s voice on \"Access Hollywood\" tape'\n",
    "text = 'WASHINGTON (Reuters) - Former NBC television host Billy Bush accused U.S. President Donald Trump of ‚Äúindulging in some revisionist history‚Äù for reportedly telling allies it was not his voice making lewd remarks as the men waited to film a segment for ‚ÄúAccess Hollywood‚Äù in 2005. ‚ÄúHe said it. ‚ÄòGrab ‚Äòem by the pussy,‚Äô‚Äù Bush wrote in an editorial published in the New York Times on Sunday.  The New York Times reported last month that Trump has been privately telling aides and allies, including at least one U.S. senator, that the voice on the recording was not his.  That would be a reversal from his immediate acknowledgement of responsibility after the tape surfaced weeks ahead of the 2016 presidential election. Trump said: ‚ÄúI said it, I was wrong, and I apologize.‚Äù Reuters has not been able to verify the Times report that he has been privately telling allies a different story. The White House did not immediately respond to a request for comment on  Bush‚Äôs remarks. But White House spokeswoman Sarah Sanders played down the Times report at a White House briefing on Nov. 27. ‚ÄúThe President hasn‚Äôt changed his position. I think if anything that the president questions, it‚Äôs the media‚Äôs reporting on that accuracy,‚Äù Sanders said. Bush laughed on the video as Trump spoke and he lost his job as a host of NBC‚Äôs flagship morning ‚ÄúToday‚Äù show after the tape was leaked to the media in October, upending Trump‚Äôs campaign to become president.'\n",
    "subject = 'politicsNews'"
   ]
  },
  {
   "cell_type": "code",
   "execution_count": 6,
   "id": "b99a2391",
   "metadata": {},
   "outputs": [
    {
     "data": {
      "text/html": [
       "<div>\n",
       "<style scoped>\n",
       "    .dataframe tbody tr th:only-of-type {\n",
       "        vertical-align: middle;\n",
       "    }\n",
       "\n",
       "    .dataframe tbody tr th {\n",
       "        vertical-align: top;\n",
       "    }\n",
       "\n",
       "    .dataframe thead th {\n",
       "        text-align: right;\n",
       "    }\n",
       "</style>\n",
       "<table border=\"1\" class=\"dataframe\">\n",
       "  <thead>\n",
       "    <tr style=\"text-align: right;\">\n",
       "      <th></th>\n",
       "      <th>title</th>\n",
       "      <th>text</th>\n",
       "      <th>subject</th>\n",
       "    </tr>\n",
       "  </thead>\n",
       "  <tbody>\n",
       "    <tr>\n",
       "      <th>0</th>\n",
       "      <td>Billy Bush: It was Trump's voice on \"Access Ho...</td>\n",
       "      <td>WASHINGTON (Reuters) - Former NBC television h...</td>\n",
       "      <td>politicsNews</td>\n",
       "    </tr>\n",
       "  </tbody>\n",
       "</table>\n",
       "</div>"
      ],
      "text/plain": [
       "                                               title  \\\n",
       "0  Billy Bush: It was Trump's voice on \"Access Ho...   \n",
       "\n",
       "                                                text       subject  \n",
       "0  WASHINGTON (Reuters) - Former NBC television h...  politicsNews  "
      ]
     },
     "execution_count": 6,
     "metadata": {},
     "output_type": "execute_result"
    }
   ],
   "source": [
    "incoming_data = pd.DataFrame(np.array([[title, text, subject]]), columns=feature_name)\n",
    "\n",
    "incoming_data"
   ]
  },
  {
   "cell_type": "markdown",
   "id": "885528bf",
   "metadata": {},
   "source": [
    "### title - Count Vectorization"
   ]
  },
  {
   "cell_type": "code",
   "execution_count": 7,
   "id": "08d264c2",
   "metadata": {},
   "outputs": [],
   "source": [
    "title_corpus_incoming = incoming_data['title'].tolist()\n",
    "title_cnt_vec_incoming = title_vectorizer.transform(title_corpus_incoming).toarray()"
   ]
  },
  {
   "cell_type": "code",
   "execution_count": 8,
   "id": "164ba1ff",
   "metadata": {},
   "outputs": [],
   "source": [
    "title_cnt_vec_feature_name = [\n",
    "    \"cnt_title_\" + feature for feature in title_vectorizer.get_feature_names()\n",
    "]"
   ]
  },
  {
   "cell_type": "code",
   "execution_count": 9,
   "id": "132d4610",
   "metadata": {},
   "outputs": [],
   "source": [
    "incoming_data[title_cnt_vec_feature_name] = title_cnt_vec_incoming\n",
    "incoming_data.drop('title', axis=1, inplace=True)"
   ]
  },
  {
   "cell_type": "markdown",
   "id": "bdde945f",
   "metadata": {},
   "source": [
    "### text - Count Vectorization"
   ]
  },
  {
   "cell_type": "code",
   "execution_count": 10,
   "id": "5e6febb0",
   "metadata": {},
   "outputs": [],
   "source": [
    "text_corpus_incoming = incoming_data['text'].tolist()\n",
    "text_cnt_vec_incoming = text_vectorizer.transform(text_corpus_incoming).toarray()"
   ]
  },
  {
   "cell_type": "code",
   "execution_count": 11,
   "id": "f967337e",
   "metadata": {},
   "outputs": [],
   "source": [
    "text_cnt_vec_feature_name = [\n",
    "    \"cnt_text_\" + feature for feature in text_vectorizer.get_feature_names()\n",
    "]"
   ]
  },
  {
   "cell_type": "code",
   "execution_count": 12,
   "id": "df3d75bd",
   "metadata": {},
   "outputs": [],
   "source": [
    "incoming_data[text_cnt_vec_feature_name] = text_cnt_vec_incoming\n",
    "incoming_data.drop('text', axis=1, inplace=True)"
   ]
  },
  {
   "cell_type": "markdown",
   "id": "0d5e1f2d",
   "metadata": {},
   "source": [
    "### ===== Ordinal Encoding & One Hot Encoding ====="
   ]
  },
  {
   "cell_type": "code",
   "execution_count": 13,
   "id": "9058fc35",
   "metadata": {},
   "outputs": [],
   "source": [
    "# print('numerical_feature :', numerical_feature)\n",
    "# print('ordinal_feature :', ordinal_feature)\n",
    "# print('nominal_feature :', nominal_feature)"
   ]
  },
  {
   "cell_type": "markdown",
   "id": "26268ee6",
   "metadata": {},
   "source": [
    "### ### Ordinal Encoding"
   ]
  },
  {
   "cell_type": "markdown",
   "id": "34c22a7d",
   "metadata": {},
   "source": [
    "### One Hot Encoding"
   ]
  },
  {
   "cell_type": "code",
   "execution_count": 14,
   "id": "b0bb5ceb",
   "metadata": {},
   "outputs": [],
   "source": [
    "one_hot_feature = []\n",
    "for i, feature in enumerate(nominal_feature):\n",
    "    for cate in one_hot_encoder.categories_[i]:\n",
    "        one_hot_feature_name = str(feature) + '_' + str(cate)\n",
    "        one_hot_feature.append(one_hot_feature_name)\n",
    "        \n",
    "incoming_data[one_hot_feature] = one_hot_encoder.transform(incoming_data[nominal_feature])\n",
    "incoming_data.drop(nominal_feature, axis=1, inplace=True)"
   ]
  },
  {
   "cell_type": "code",
   "execution_count": 15,
   "id": "b92d9f2a",
   "metadata": {},
   "outputs": [
    {
     "data": {
      "text/html": [
       "<div>\n",
       "<style scoped>\n",
       "    .dataframe tbody tr th:only-of-type {\n",
       "        vertical-align: middle;\n",
       "    }\n",
       "\n",
       "    .dataframe tbody tr th {\n",
       "        vertical-align: top;\n",
       "    }\n",
       "\n",
       "    .dataframe thead th {\n",
       "        text-align: right;\n",
       "    }\n",
       "</style>\n",
       "<table border=\"1\" class=\"dataframe\">\n",
       "  <thead>\n",
       "    <tr style=\"text-align: right;\">\n",
       "      <th></th>\n",
       "      <th>cnt_title_000</th>\n",
       "      <th>cnt_title_10</th>\n",
       "      <th>cnt_title_100</th>\n",
       "      <th>cnt_title_11</th>\n",
       "      <th>cnt_title_12</th>\n",
       "      <th>cnt_title_15</th>\n",
       "      <th>cnt_title_20</th>\n",
       "      <th>cnt_title_2016</th>\n",
       "      <th>cnt_title_2018</th>\n",
       "      <th>cnt_title_abortion</th>\n",
       "      <th>...</th>\n",
       "      <th>cnt_text_young</th>\n",
       "      <th>cnt_text_your</th>\n",
       "      <th>subject_Government News</th>\n",
       "      <th>subject_Middle-east</th>\n",
       "      <th>subject_News</th>\n",
       "      <th>subject_US_News</th>\n",
       "      <th>subject_left-news</th>\n",
       "      <th>subject_politics</th>\n",
       "      <th>subject_politicsNews</th>\n",
       "      <th>subject_worldnews</th>\n",
       "    </tr>\n",
       "  </thead>\n",
       "  <tbody>\n",
       "    <tr>\n",
       "      <th>0</th>\n",
       "      <td>0</td>\n",
       "      <td>0</td>\n",
       "      <td>0</td>\n",
       "      <td>0</td>\n",
       "      <td>0</td>\n",
       "      <td>0</td>\n",
       "      <td>0</td>\n",
       "      <td>0</td>\n",
       "      <td>0</td>\n",
       "      <td>0</td>\n",
       "      <td>...</td>\n",
       "      <td>0</td>\n",
       "      <td>0</td>\n",
       "      <td>0.0</td>\n",
       "      <td>0.0</td>\n",
       "      <td>0.0</td>\n",
       "      <td>0.0</td>\n",
       "      <td>0.0</td>\n",
       "      <td>0.0</td>\n",
       "      <td>1.0</td>\n",
       "      <td>0.0</td>\n",
       "    </tr>\n",
       "  </tbody>\n",
       "</table>\n",
       "<p>1 rows × 2008 columns</p>\n",
       "</div>"
      ],
      "text/plain": [
       "   cnt_title_000  cnt_title_10  cnt_title_100  cnt_title_11  cnt_title_12  \\\n",
       "0              0             0              0             0             0   \n",
       "\n",
       "   cnt_title_15  cnt_title_20  cnt_title_2016  cnt_title_2018  \\\n",
       "0             0             0               0               0   \n",
       "\n",
       "   cnt_title_abortion  ...  cnt_text_young  cnt_text_your  \\\n",
       "0                   0  ...               0              0   \n",
       "\n",
       "   subject_Government News  subject_Middle-east  subject_News  \\\n",
       "0                      0.0                  0.0           0.0   \n",
       "\n",
       "   subject_US_News  subject_left-news  subject_politics  subject_politicsNews  \\\n",
       "0              0.0                0.0               0.0                   1.0   \n",
       "\n",
       "   subject_worldnews  \n",
       "0                0.0  \n",
       "\n",
       "[1 rows x 2008 columns]"
      ]
     },
     "execution_count": 15,
     "metadata": {},
     "output_type": "execute_result"
    }
   ],
   "source": [
    "incoming_data"
   ]
  },
  {
   "cell_type": "markdown",
   "id": "51b86b73",
   "metadata": {},
   "source": [
    "### Feature Scaling"
   ]
  },
  {
   "cell_type": "code",
   "execution_count": 16,
   "id": "96fc88eb",
   "metadata": {},
   "outputs": [],
   "source": [
    "incoming_data_scaled = scaler.transform(incoming_data)"
   ]
  },
  {
   "cell_type": "markdown",
   "id": "8d270546",
   "metadata": {},
   "source": [
    "### Prediction"
   ]
  },
  {
   "cell_type": "code",
   "execution_count": 17,
   "id": "da873824",
   "metadata": {},
   "outputs": [],
   "source": [
    "predicted_target = clf.predict(incoming_data_scaled)"
   ]
  },
  {
   "cell_type": "code",
   "execution_count": 18,
   "id": "d9593b86",
   "metadata": {},
   "outputs": [
    {
     "data": {
      "text/plain": [
       "array(['true'], dtype=object)"
      ]
     },
     "execution_count": 18,
     "metadata": {},
     "output_type": "execute_result"
    }
   ],
   "source": [
    "predicted_target"
   ]
  },
  {
   "cell_type": "code",
   "execution_count": null,
   "id": "a1d74851",
   "metadata": {},
   "outputs": [],
   "source": []
  }
 ],
 "metadata": {
  "kernelspec": {
   "display_name": "Python 3",
   "language": "python",
   "name": "python3"
  },
  "language_info": {
   "codemirror_mode": {
    "name": "ipython",
    "version": 3
   },
   "file_extension": ".py",
   "mimetype": "text/x-python",
   "name": "python",
   "nbconvert_exporter": "python",
   "pygments_lexer": "ipython3",
   "version": "3.8.8"
  }
 },
 "nbformat": 4,
 "nbformat_minor": 5
}
