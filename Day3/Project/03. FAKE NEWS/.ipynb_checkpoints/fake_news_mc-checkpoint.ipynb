{
 "cells": [
  {
   "cell_type": "markdown",
   "id": "f6073482",
   "metadata": {},
   "source": [
    "# 1. Import Libraries"
   ]
  },
  {
   "cell_type": "code",
   "execution_count": 1,
   "id": "b7eea02a",
   "metadata": {},
   "outputs": [],
   "source": [
    "import numpy as np\n",
    "import pandas as pd\n",
    "import matplotlib.pyplot as plt\n",
    "\n",
    "from sklearn.model_selection import train_test_split\n",
    "from sklearn.feature_extraction.text import CountVectorizer\n",
    "from sklearn.preprocessing import (\n",
    "    OrdinalEncoder, \n",
    "    OneHotEncoder, \n",
    "    StandardScaler, \n",
    "    MinMaxScaler\n",
    ")\n",
    "from sklearn.linear_model import LogisticRegression, LogisticRegressionCV\n",
    "from sklearn.metrics import plot_confusion_matrix, classification_report\n",
    "\n",
    "import warnings\n",
    "warnings.filterwarnings('ignore')\n",
    "\n",
    "np.random.seed(12345)"
   ]
  },
  {
   "cell_type": "markdown",
   "id": "cc050a9b",
   "metadata": {},
   "source": [
    "# 2. Read Data"
   ]
  },
  {
   "cell_type": "code",
   "execution_count": 2,
   "id": "e7f7dbc0",
   "metadata": {},
   "outputs": [],
   "source": [
    "fake_news_data = pd.read_csv(\"dataset/Fake.csv\")\n",
    "true_news_data = pd.read_csv(\"dataset/True.csv\")"
   ]
  },
  {
   "cell_type": "code",
   "execution_count": 3,
   "id": "9cd21fdb",
   "metadata": {},
   "outputs": [],
   "source": [
    "fake_news_data[\"class\"] = \"fake\"\n",
    "true_news_data[\"class\"] = \"true\""
   ]
  },
  {
   "cell_type": "code",
   "execution_count": 4,
   "id": "98d707ac",
   "metadata": {},
   "outputs": [
    {
     "data": {
      "text/html": [
       "<div>\n",
       "<style scoped>\n",
       "    .dataframe tbody tr th:only-of-type {\n",
       "        vertical-align: middle;\n",
       "    }\n",
       "\n",
       "    .dataframe tbody tr th {\n",
       "        vertical-align: top;\n",
       "    }\n",
       "\n",
       "    .dataframe thead th {\n",
       "        text-align: right;\n",
       "    }\n",
       "</style>\n",
       "<table border=\"1\" class=\"dataframe\">\n",
       "  <thead>\n",
       "    <tr style=\"text-align: right;\">\n",
       "      <th></th>\n",
       "      <th>title</th>\n",
       "      <th>text</th>\n",
       "      <th>subject</th>\n",
       "      <th>class</th>\n",
       "    </tr>\n",
       "  </thead>\n",
       "  <tbody>\n",
       "    <tr>\n",
       "      <th>0</th>\n",
       "      <td>Donald Trump Sends Out Embarrassing New Year’...</td>\n",
       "      <td>Donald Trump just couldn t wish all Americans ...</td>\n",
       "      <td>News</td>\n",
       "      <td>fake</td>\n",
       "    </tr>\n",
       "    <tr>\n",
       "      <th>1</th>\n",
       "      <td>Drunk Bragging Trump Staffer Started Russian ...</td>\n",
       "      <td>House Intelligence Committee Chairman Devin Nu...</td>\n",
       "      <td>News</td>\n",
       "      <td>fake</td>\n",
       "    </tr>\n",
       "    <tr>\n",
       "      <th>2</th>\n",
       "      <td>Sheriff David Clarke Becomes An Internet Joke...</td>\n",
       "      <td>On Friday, it was revealed that former Milwauk...</td>\n",
       "      <td>News</td>\n",
       "      <td>fake</td>\n",
       "    </tr>\n",
       "    <tr>\n",
       "      <th>3</th>\n",
       "      <td>Trump Is So Obsessed He Even Has Obama’s Name...</td>\n",
       "      <td>On Christmas day, Donald Trump announced that ...</td>\n",
       "      <td>News</td>\n",
       "      <td>fake</td>\n",
       "    </tr>\n",
       "    <tr>\n",
       "      <th>4</th>\n",
       "      <td>Pope Francis Just Called Out Donald Trump Dur...</td>\n",
       "      <td>Pope Francis used his annual Christmas Day mes...</td>\n",
       "      <td>News</td>\n",
       "      <td>fake</td>\n",
       "    </tr>\n",
       "    <tr>\n",
       "      <th>...</th>\n",
       "      <td>...</td>\n",
       "      <td>...</td>\n",
       "      <td>...</td>\n",
       "      <td>...</td>\n",
       "    </tr>\n",
       "    <tr>\n",
       "      <th>21412</th>\n",
       "      <td>'Fully committed' NATO backs new U.S. approach...</td>\n",
       "      <td>BRUSSELS (Reuters) - NATO allies on Tuesday we...</td>\n",
       "      <td>worldnews</td>\n",
       "      <td>true</td>\n",
       "    </tr>\n",
       "    <tr>\n",
       "      <th>21413</th>\n",
       "      <td>LexisNexis withdrew two products from Chinese ...</td>\n",
       "      <td>LONDON (Reuters) - LexisNexis, a provider of l...</td>\n",
       "      <td>worldnews</td>\n",
       "      <td>true</td>\n",
       "    </tr>\n",
       "    <tr>\n",
       "      <th>21414</th>\n",
       "      <td>Minsk cultural hub becomes haven from authorities</td>\n",
       "      <td>MINSK (Reuters) - In the shadow of disused Sov...</td>\n",
       "      <td>worldnews</td>\n",
       "      <td>true</td>\n",
       "    </tr>\n",
       "    <tr>\n",
       "      <th>21415</th>\n",
       "      <td>Vatican upbeat on possibility of Pope Francis ...</td>\n",
       "      <td>MOSCOW (Reuters) - Vatican Secretary of State ...</td>\n",
       "      <td>worldnews</td>\n",
       "      <td>true</td>\n",
       "    </tr>\n",
       "    <tr>\n",
       "      <th>21416</th>\n",
       "      <td>Indonesia to buy $1.14 billion worth of Russia...</td>\n",
       "      <td>JAKARTA (Reuters) - Indonesia will buy 11 Sukh...</td>\n",
       "      <td>worldnews</td>\n",
       "      <td>true</td>\n",
       "    </tr>\n",
       "  </tbody>\n",
       "</table>\n",
       "<p>44898 rows × 4 columns</p>\n",
       "</div>"
      ],
      "text/plain": [
       "                                                   title  \\\n",
       "0       Donald Trump Sends Out Embarrassing New Year’...   \n",
       "1       Drunk Bragging Trump Staffer Started Russian ...   \n",
       "2       Sheriff David Clarke Becomes An Internet Joke...   \n",
       "3       Trump Is So Obsessed He Even Has Obama’s Name...   \n",
       "4       Pope Francis Just Called Out Donald Trump Dur...   \n",
       "...                                                  ...   \n",
       "21412  'Fully committed' NATO backs new U.S. approach...   \n",
       "21413  LexisNexis withdrew two products from Chinese ...   \n",
       "21414  Minsk cultural hub becomes haven from authorities   \n",
       "21415  Vatican upbeat on possibility of Pope Francis ...   \n",
       "21416  Indonesia to buy $1.14 billion worth of Russia...   \n",
       "\n",
       "                                                    text    subject class  \n",
       "0      Donald Trump just couldn t wish all Americans ...       News  fake  \n",
       "1      House Intelligence Committee Chairman Devin Nu...       News  fake  \n",
       "2      On Friday, it was revealed that former Milwauk...       News  fake  \n",
       "3      On Christmas day, Donald Trump announced that ...       News  fake  \n",
       "4      Pope Francis used his annual Christmas Day mes...       News  fake  \n",
       "...                                                  ...        ...   ...  \n",
       "21412  BRUSSELS (Reuters) - NATO allies on Tuesday we...  worldnews  true  \n",
       "21413  LONDON (Reuters) - LexisNexis, a provider of l...  worldnews  true  \n",
       "21414  MINSK (Reuters) - In the shadow of disused Sov...  worldnews  true  \n",
       "21415  MOSCOW (Reuters) - Vatican Secretary of State ...  worldnews  true  \n",
       "21416  JAKARTA (Reuters) - Indonesia will buy 11 Sukh...  worldnews  true  \n",
       "\n",
       "[44898 rows x 4 columns]"
      ]
     },
     "execution_count": 4,
     "metadata": {},
     "output_type": "execute_result"
    }
   ],
   "source": [
    "data = pd.concat([fake_news_data, true_news_data], axis=0)\n",
    "data.drop([\"date\"], axis=1, inplace=True)\n",
    "\n",
    "data"
   ]
  },
  {
   "cell_type": "markdown",
   "id": "b58a8b75",
   "metadata": {},
   "source": [
    "# 3. Clean Data"
   ]
  },
  {
   "cell_type": "markdown",
   "id": "fa48101d",
   "metadata": {},
   "source": [
    "## 3.1. Handle Missing Values"
   ]
  },
  {
   "cell_type": "markdown",
   "id": "29be41af",
   "metadata": {},
   "source": [
    "### 3.1.1. Check Missing Values"
   ]
  },
  {
   "cell_type": "code",
   "execution_count": 5,
   "id": "80b0af49",
   "metadata": {},
   "outputs": [
    {
     "name": "stdout",
     "output_type": "stream",
     "text": [
      "<class 'pandas.core.frame.DataFrame'>\n",
      "Int64Index: 44898 entries, 0 to 21416\n",
      "Data columns (total 4 columns):\n",
      " #   Column   Non-Null Count  Dtype \n",
      "---  ------   --------------  ----- \n",
      " 0   title    44898 non-null  object\n",
      " 1   text     44898 non-null  object\n",
      " 2   subject  44898 non-null  object\n",
      " 3   class    44898 non-null  object\n",
      "dtypes: object(4)\n",
      "memory usage: 1.7+ MB\n"
     ]
    }
   ],
   "source": [
    "data.info()"
   ]
  },
  {
   "cell_type": "markdown",
   "id": "f5126ea1",
   "metadata": {},
   "source": [
    "### 3.1.2. Remove Missing Values"
   ]
  },
  {
   "cell_type": "code",
   "execution_count": 6,
   "id": "355cd2cf",
   "metadata": {},
   "outputs": [],
   "source": [
    "# no NaN to remove\n",
    "# data.dropna(axis=0, inplace=True)"
   ]
  },
  {
   "cell_type": "markdown",
   "id": "54165943",
   "metadata": {},
   "source": [
    "## ### 3.2. Handle Outliers"
   ]
  },
  {
   "cell_type": "markdown",
   "id": "854a52a2",
   "metadata": {},
   "source": [
    "# 4. Split Dataset into Training & Test Sets"
   ]
  },
  {
   "cell_type": "code",
   "execution_count": 7,
   "id": "733d3098",
   "metadata": {},
   "outputs": [],
   "source": [
    "target_name = \"class\"\n",
    "feature_name = list(data.columns.drop(target_name))"
   ]
  },
  {
   "cell_type": "code",
   "execution_count": 8,
   "id": "bd4560f7",
   "metadata": {},
   "outputs": [],
   "source": [
    "X = data[feature_name]\n",
    "y = data[target_name]"
   ]
  },
  {
   "cell_type": "code",
   "execution_count": 9,
   "id": "96ac87d3",
   "metadata": {},
   "outputs": [],
   "source": [
    "X_train, X_test, y_train, y_test = train_test_split(X, y, test_size=0.20, shuffle=True)"
   ]
  },
  {
   "cell_type": "code",
   "execution_count": 10,
   "id": "4c37ddc0-d64e-4cb9-aa82-f9bfa113fced",
   "metadata": {},
   "outputs": [
    {
     "data": {
      "text/plain": [
       "['title', 'text', 'subject']"
      ]
     },
     "execution_count": 10,
     "metadata": {},
     "output_type": "execute_result"
    }
   ],
   "source": [
    "feature_name"
   ]
  },
  {
   "cell_type": "markdown",
   "id": "1d9bf84e",
   "metadata": {},
   "source": [
    "# 5. Data Preparation"
   ]
  },
  {
   "cell_type": "markdown",
   "id": "49c4e40b",
   "metadata": {},
   "source": [
    "## 5.1. Count Vectorization"
   ]
  },
  {
   "cell_type": "markdown",
   "id": "314cf37d-44e2-4212-94fc-07928e4dd302",
   "metadata": {},
   "source": [
    "### 5.1.1. title"
   ]
  },
  {
   "cell_type": "markdown",
   "id": "a854b9ed-2695-4435-9593-8cd5a40244ae",
   "metadata": {},
   "source": [
    "#### 5.1.1.1. Training Set"
   ]
  },
  {
   "cell_type": "code",
   "execution_count": 11,
   "id": "1f2084b7-a2e2-48c1-b787-e660bc9ae16d",
   "metadata": {},
   "outputs": [],
   "source": [
    "corpus_train = X_train[\"title\"].tolist()\n",
    "title_vectorizer = CountVectorizer(max_features=1000)\n",
    "title_vectorizer.fit(corpus_train)\n",
    "title_cnt_vec_train = title_vectorizer.transform(corpus_train).toarray()"
   ]
  },
  {
   "cell_type": "code",
   "execution_count": 12,
   "id": "66fbc3e1-2586-428e-baf8-472e1bb690c6",
   "metadata": {},
   "outputs": [],
   "source": [
    "title_cnt_vec_feature_name = [\n",
    "    \"cnt_title_\" + feature for feature in title_vectorizer.get_feature_names()\n",
    "]"
   ]
  },
  {
   "cell_type": "code",
   "execution_count": 13,
   "id": "3fa7d92b-cc54-41a8-8381-b369d258e881",
   "metadata": {},
   "outputs": [],
   "source": [
    "X_train[title_cnt_vec_feature_name] = title_cnt_vec_train\n",
    "X_train.drop(\"title\", axis=1, inplace=True)"
   ]
  },
  {
   "cell_type": "markdown",
   "id": "57141819-ddf0-4364-abcf-44a481ba0890",
   "metadata": {},
   "source": [
    "#### 5.1.1.2. Test Set"
   ]
  },
  {
   "cell_type": "code",
   "execution_count": 14,
   "id": "18124e32-ec47-4944-8f4e-71ea2b67c22d",
   "metadata": {},
   "outputs": [],
   "source": [
    "corpus_test = X_test[\"title\"].tolist()\n",
    "title_cnt_vec_test = title_vectorizer.transform(corpus_test).toarray()"
   ]
  },
  {
   "cell_type": "code",
   "execution_count": 15,
   "id": "692b4aa3-f4c0-4217-9406-d31ffce742b9",
   "metadata": {},
   "outputs": [],
   "source": [
    "X_test[title_cnt_vec_feature_name] = title_cnt_vec_test\n",
    "X_test.drop(\"title\", axis=1, inplace=True)"
   ]
  },
  {
   "cell_type": "markdown",
   "id": "162932ba-e68c-4ad6-88ca-8165f38ba400",
   "metadata": {},
   "source": [
    "### 5.1.2. text"
   ]
  },
  {
   "cell_type": "markdown",
   "id": "8d6ee8ec-9bd5-486c-97b1-a3ebd7c72838",
   "metadata": {},
   "source": [
    "#### 5.1.2.1. Training Set"
   ]
  },
  {
   "cell_type": "code",
   "execution_count": 16,
   "id": "cbbb562c-04a3-4deb-8a0f-ac7a6a4e089b",
   "metadata": {},
   "outputs": [],
   "source": [
    "corpus_train = X_train[\"text\"].tolist()\n",
    "text_vectorizer = CountVectorizer(max_features=1000)\n",
    "text_vectorizer.fit(corpus_train)\n",
    "text_cnt_vec_train = text_vectorizer.transform(corpus_train).toarray()"
   ]
  },
  {
   "cell_type": "code",
   "execution_count": 17,
   "id": "908c3579-ceac-40eb-aa22-88ceca8981c0",
   "metadata": {},
   "outputs": [],
   "source": [
    "text_cnt_vec_feature_name = [\n",
    "    \"cnt_text_\" + feature for feature in text_vectorizer.get_feature_names()\n",
    "]"
   ]
  },
  {
   "cell_type": "code",
   "execution_count": 18,
   "id": "c84abb54-fa67-46c6-b982-fde73904b971",
   "metadata": {},
   "outputs": [],
   "source": [
    "X_train[text_cnt_vec_feature_name] = text_cnt_vec_train\n",
    "X_train.drop(\"text\", axis=1, inplace=True)"
   ]
  },
  {
   "cell_type": "markdown",
   "id": "21e508c1-3629-4b7b-bd33-1f3a2e039ea1",
   "metadata": {},
   "source": [
    "#### 5.1.2.2. Test Set"
   ]
  },
  {
   "cell_type": "code",
   "execution_count": 19,
   "id": "d605afbc-8595-4795-a400-e046cb12a753",
   "metadata": {},
   "outputs": [],
   "source": [
    "corpus_test = X_test[\"text\"].tolist()\n",
    "text_cnt_vec_test = text_vectorizer.transform(corpus_test).toarray()"
   ]
  },
  {
   "cell_type": "code",
   "execution_count": 20,
   "id": "cdcf2645-ac33-41fc-9ac8-b64f2166218d",
   "metadata": {},
   "outputs": [],
   "source": [
    "X_test[text_cnt_vec_feature_name] = text_cnt_vec_test\n",
    "X_test.drop(\"text\", axis=1, inplace=True)"
   ]
  },
  {
   "cell_type": "markdown",
   "id": "83bb53b0-e44f-4541-84d5-8a1cdc499a2a",
   "metadata": {},
   "source": [
    "## ===== Ordinal Encoding & One Hot Encoding ====="
   ]
  },
  {
   "cell_type": "code",
   "execution_count": 21,
   "id": "29ce0ab4-8a47-4344-b1f1-8091b1b1aecc",
   "metadata": {},
   "outputs": [],
   "source": [
    "numerical_feature = []\n",
    "categorical_feature = [\"subject\"]\n",
    "numerical_feature.extend(title_cnt_vec_feature_name)\n",
    "numerical_feature.extend(text_cnt_vec_feature_name)"
   ]
  },
  {
   "cell_type": "code",
   "execution_count": 22,
   "id": "c6c44f7d-2ce5-49ae-af2f-fb643edd002d",
   "metadata": {},
   "outputs": [
    {
     "name": "stdout",
     "output_type": "stream",
     "text": [
      "subject : ['Government News' 'Middle-east' 'News' 'US_News' 'left-news' 'politics'\n",
      " 'politicsNews' 'worldnews']\n"
     ]
    }
   ],
   "source": [
    "for feature in categorical_feature:\n",
    "    print(feature, \":\", np.unique(X_train[feature]))"
   ]
  },
  {
   "cell_type": "code",
   "execution_count": 23,
   "id": "a1d7db2e-608a-4ce6-8631-a147af9f23f1",
   "metadata": {},
   "outputs": [],
   "source": [
    "ordinal_feature = []\n",
    "nominal_feature = list(categorical_feature)"
   ]
  },
  {
   "cell_type": "markdown",
   "id": "5dac1fcd-770a-4281-b049-f1273c804a4b",
   "metadata": {},
   "source": [
    "## ## 5.2. Ordinal Encoding"
   ]
  },
  {
   "cell_type": "markdown",
   "id": "e6ffcf67-e879-46c4-86fb-ebe930336c0c",
   "metadata": {},
   "source": [
    "## 5.3. One Hot Encoding"
   ]
  },
  {
   "cell_type": "markdown",
   "id": "103cb030-a82a-4565-aa6f-f77b24a51a06",
   "metadata": {},
   "source": [
    "### 5.3.1. Training Set"
   ]
  },
  {
   "cell_type": "code",
   "execution_count": 24,
   "id": "02f73cee-7ccd-4c47-8e2b-9a46af73ee69",
   "metadata": {},
   "outputs": [
    {
     "data": {
      "text/plain": [
       "OneHotEncoder(handle_unknown='ignore', sparse=False)"
      ]
     },
     "execution_count": 24,
     "metadata": {},
     "output_type": "execute_result"
    }
   ],
   "source": [
    "one_hot_encoder = OneHotEncoder(sparse=False, handle_unknown=\"ignore\")\n",
    "one_hot_encoder.fit(X_train[nominal_feature])"
   ]
  },
  {
   "cell_type": "code",
   "execution_count": 25,
   "id": "4fc39ca2-550e-4b4f-a4c8-99cf7b740f30",
   "metadata": {},
   "outputs": [],
   "source": [
    "one_hot_feature = []\n",
    "for i, feature in enumerate(nominal_feature):\n",
    "    for cate in one_hot_encoder.categories_[i]:\n",
    "        one_hot_feature_name = str(feature) + \"_\" + str(cate)\n",
    "        one_hot_feature.append(one_hot_feature_name)"
   ]
  },
  {
   "cell_type": "code",
   "execution_count": 26,
   "id": "9ccfa834-4d7e-4f7b-8899-2e970286ed99",
   "metadata": {},
   "outputs": [],
   "source": [
    "X_train[one_hot_feature] = one_hot_encoder.transform(X_train[nominal_feature])\n",
    "X_train.drop(nominal_feature, axis=1, inplace=True)"
   ]
  },
  {
   "cell_type": "markdown",
   "id": "33bb1f1b-6f58-41e0-b939-fd85af9b3300",
   "metadata": {},
   "source": [
    "### 5.3.2. Test Set"
   ]
  },
  {
   "cell_type": "code",
   "execution_count": 27,
   "id": "c777b6b1-121e-4975-b84d-5978e9b3d68c",
   "metadata": {},
   "outputs": [],
   "source": [
    "X_test[one_hot_feature] = one_hot_encoder.transform(X_test[nominal_feature])\n",
    "X_test.drop(nominal_feature, axis=1, inplace=True)"
   ]
  },
  {
   "cell_type": "markdown",
   "id": "622a960f-43d9-44e3-bd83-d942f51e25a1",
   "metadata": {},
   "source": [
    "## 5.4. Feature Scaling"
   ]
  },
  {
   "cell_type": "markdown",
   "id": "0106780c-21c0-4ecb-a668-77d5a1ecbf6a",
   "metadata": {},
   "source": [
    "### 5.4.1. Training Set"
   ]
  },
  {
   "cell_type": "code",
   "execution_count": 28,
   "id": "cd9d675d-22ba-48bc-b755-82d749fe8506",
   "metadata": {},
   "outputs": [],
   "source": [
    "scaler = StandardScaler()\n",
    "X_train_scaled = scaler.fit_transform(X_train)"
   ]
  },
  {
   "cell_type": "markdown",
   "id": "bd1f592c-51d7-4565-88e9-a0af3c518044",
   "metadata": {},
   "source": [
    "### 5.4.2. Test Set"
   ]
  },
  {
   "cell_type": "code",
   "execution_count": 29,
   "id": "02305036-87c6-4367-bac8-b04be3c63ae4",
   "metadata": {},
   "outputs": [],
   "source": [
    "X_test_scaled = scaler.transform(X_test)"
   ]
  },
  {
   "cell_type": "markdown",
   "id": "1db2a1e5-629d-4bf3-ba6f-2d236b33affd",
   "metadata": {},
   "source": [
    "# 6. Model Creation"
   ]
  },
  {
   "cell_type": "markdown",
   "id": "7685a38d",
   "metadata": {},
   "source": [
    "## 6.1. Setting Parameters"
   ]
  },
  {
   "cell_type": "code",
   "execution_count": 30,
   "id": "230b06c5",
   "metadata": {},
   "outputs": [],
   "source": [
    "clf = LogisticRegression()"
   ]
  },
  {
   "cell_type": "markdown",
   "id": "d1e34297",
   "metadata": {},
   "source": [
    "## 6.2. Train Model"
   ]
  },
  {
   "cell_type": "code",
   "execution_count": 31,
   "id": "19eaa4f8",
   "metadata": {},
   "outputs": [
    {
     "data": {
      "text/plain": [
       "LogisticRegression()"
      ]
     },
     "execution_count": 31,
     "metadata": {},
     "output_type": "execute_result"
    }
   ],
   "source": [
    "clf.fit(X_train_scaled, y_train)"
   ]
  },
  {
   "cell_type": "markdown",
   "id": "74cfbae1",
   "metadata": {},
   "source": [
    "## 6.3. Model's Weight & Bias"
   ]
  },
  {
   "cell_type": "code",
   "execution_count": 32,
   "id": "f9863c11",
   "metadata": {},
   "outputs": [
    {
     "data": {
      "text/plain": [
       "array([[-0.02787905, -0.05306417, -0.03081547, ..., -1.82328391,\n",
       "         2.28416527,  1.88330824]])"
      ]
     },
     "execution_count": 32,
     "metadata": {},
     "output_type": "execute_result"
    }
   ],
   "source": [
    "clf.coef_"
   ]
  },
  {
   "cell_type": "code",
   "execution_count": 33,
   "id": "4a9fbc09",
   "metadata": {},
   "outputs": [
    {
     "data": {
      "text/plain": [
       "array([-1.32538133])"
      ]
     },
     "execution_count": 33,
     "metadata": {},
     "output_type": "execute_result"
    }
   ],
   "source": [
    "clf.intercept_"
   ]
  },
  {
   "cell_type": "markdown",
   "id": "9229aea3-f794-4798-974e-98cf46bffef1",
   "metadata": {},
   "source": [
    "# 7. Prediction"
   ]
  },
  {
   "cell_type": "markdown",
   "id": "4f5ee8a4-6955-4fbd-b956-277f6b403a56",
   "metadata": {},
   "source": [
    "## 7.1. Training Set"
   ]
  },
  {
   "cell_type": "code",
   "execution_count": 34,
   "id": "38b18f09-b55d-4d10-8dc3-0e14e35f9590",
   "metadata": {},
   "outputs": [],
   "source": [
    "y_pred_train = clf.predict(X_train_scaled)"
   ]
  },
  {
   "cell_type": "markdown",
   "id": "93fcee80-a724-47e3-8706-2dd075466401",
   "metadata": {},
   "source": [
    "## 7.2. Test Set"
   ]
  },
  {
   "cell_type": "code",
   "execution_count": 35,
   "id": "655cc726-a742-40cc-9f44-214a92e48729",
   "metadata": {},
   "outputs": [],
   "source": [
    "y_pred_test = clf.predict(X_test_scaled)"
   ]
  },
  {
   "cell_type": "markdown",
   "id": "799690b6-734f-460d-9d34-b73aa6640502",
   "metadata": {},
   "source": [
    "# 8. Model Evaluation"
   ]
  },
  {
   "cell_type": "markdown",
   "id": "5e69e498-3729-480e-a7b0-3150fee92660",
   "metadata": {},
   "source": [
    "## 8.1. Training Set"
   ]
  },
  {
   "cell_type": "markdown",
   "id": "dae14cc4-af14-4ee8-83ef-55449ae83a23",
   "metadata": {},
   "source": [
    "### 8.1.1. Confusion Matrix"
   ]
  },
  {
   "cell_type": "code",
   "execution_count": 36,
   "id": "981e1e89-905d-4455-9694-db7160768a1a",
   "metadata": {},
   "outputs": [
    {
     "data": {
      "text/plain": [
       "<sklearn.metrics._plot.confusion_matrix.ConfusionMatrixDisplay at 0x12746bf40>"
      ]
     },
     "execution_count": 36,
     "metadata": {},
     "output_type": "execute_result"
    },
    {
     "data": {
      "image/png": "[encoded data removed]",
      "text/plain": [
       "<Figure size 432x288 with 2 Axes>"
      ]
     },
     "metadata": {
      "needs_background": "light"
     },
     "output_type": "display_data"
    }
   ],
   "source": [
    "plot_confusion_matrix(clf, X_train_scaled, y_train)"
   ]
  },
  {
   "cell_type": "markdown",
   "id": "6f764db7-9c45-497b-bb57-6beaf6a7b241",
   "metadata": {},
   "source": [
    "### 8.1.2. Scoring"
   ]
  },
  {
   "cell_type": "code",
   "execution_count": 37,
   "id": "fc8f0d1f-c369-4e5d-b5e4-621148ef4ee4",
   "metadata": {},
   "outputs": [],
   "source": [
    "report = classification_report(y_train, y_pred_train, output_dict=True)"
   ]
  },
  {
   "cell_type": "code",
   "execution_count": 38,
   "id": "a8f76929-253c-41bc-b5e1-c186e8901331",
   "metadata": {},
   "outputs": [
    {
     "name": "stdout",
     "output_type": "stream",
     "text": [
      "accuracy = 1.0\n"
     ]
    }
   ],
   "source": [
    "print('accuracy =', report['accuracy'])"
   ]
  },
  {
   "cell_type": "code",
   "execution_count": 39,
   "id": "88e34845-6056-4b78-a4ab-25d6f6fe0371",
   "metadata": {},
   "outputs": [
    {
     "data": {
      "text/plain": [
       "{'precision': 1.0, 'recall': 1.0, 'f1-score': 1.0, 'support': 17184}"
      ]
     },
     "execution_count": 39,
     "metadata": {},
     "output_type": "execute_result"
    }
   ],
   "source": [
    "report['true']"
   ]
  },
  {
   "cell_type": "code",
   "execution_count": 40,
   "id": "a7189227-a2d5-4981-9c67-c75203ec231a",
   "metadata": {},
   "outputs": [
    {
     "data": {
      "text/plain": [
       "{'precision': 1.0, 'recall': 1.0, 'f1-score': 1.0, 'support': 18734}"
      ]
     },
     "execution_count": 40,
     "metadata": {},
     "output_type": "execute_result"
    }
   ],
   "source": [
    "report['fake']"
   ]
  },
  {
   "cell_type": "markdown",
   "id": "e6a0f046-110c-4c99-ba59-a6383d84f3c2",
   "metadata": {},
   "source": [
    "## 8.2. Test Set"
   ]
  },
  {
   "cell_type": "markdown",
   "id": "686c6e61-de74-46a7-8f08-1a381997767f",
   "metadata": {},
   "source": [
    "### 8.2.1. Confusion Matrix"
   ]
  },
  {
   "cell_type": "code",
   "execution_count": 41,
   "id": "3ec765a0-d225-42b3-bfa2-a6b73a2bce9c",
   "metadata": {},
   "outputs": [
    {
     "data": {
      "text/plain": [
       "<sklearn.metrics._plot.confusion_matrix.ConfusionMatrixDisplay at 0x127929fd0>"
      ]
     },
     "execution_count": 41,
     "metadata": {},
     "output_type": "execute_result"
    },
    {
     "data": {
      "image/png": "[encoded data removed]",
      "text/plain": [
       "<Figure size 432x288 with 2 Axes>"
      ]
     },
     "metadata": {
      "needs_background": "light"
     },
     "output_type": "display_data"
    }
   ],
   "source": [
    "plot_confusion_matrix(clf, X_test_scaled, y_test)"
   ]
  },
  {
   "cell_type": "markdown",
   "id": "8d6db99b-8101-443a-a03b-bdc05d941194",
   "metadata": {},
   "source": [
    "### 8.2.2. Scoring"
   ]
  },
  {
   "cell_type": "code",
   "execution_count": 42,
   "id": "ec2bb26f-01fd-427a-b285-92658cdf15b3",
   "metadata": {},
   "outputs": [],
   "source": [
    "report = classification_report(y_test, y_pred_test, output_dict=True)"
   ]
  },
  {
   "cell_type": "code",
   "execution_count": 43,
   "id": "a348b33b-e3f7-41ff-b5a8-e124a97301b9",
   "metadata": {},
   "outputs": [
    {
     "name": "stdout",
     "output_type": "stream",
     "text": [
      "accuracy = 0.9994432071269488\n"
     ]
    }
   ],
   "source": [
    "print('accuracy =', report['accuracy'])"
   ]
  },
  {
   "cell_type": "code",
   "execution_count": 44,
   "id": "19441115-efc2-4ab1-8af6-2e1f2e39e9b5",
   "metadata": {},
   "outputs": [
    {
     "data": {
      "text/plain": [
       "{'precision': 0.9997635933806147,\n",
       " 'recall': 0.9990550437042287,\n",
       " 'f1-score': 0.99940919295758,\n",
       " 'support': 4233}"
      ]
     },
     "execution_count": 44,
     "metadata": {},
     "output_type": "execute_result"
    }
   ],
   "source": [
    "report['true']"
   ]
  },
  {
   "cell_type": "code",
   "execution_count": 45,
   "id": "2c7cc194-b6b3-4c79-83b4-c85cb9d1d518",
   "metadata": {},
   "outputs": [
    {
     "data": {
      "text/plain": [
       "{'precision': 0.9991578947368421,\n",
       " 'recall': 0.9997893406361913,\n",
       " 'f1-score': 0.999473517953038,\n",
       " 'support': 4747}"
      ]
     },
     "execution_count": 45,
     "metadata": {},
     "output_type": "execute_result"
    }
   ],
   "source": [
    "report['fake']"
   ]
  },
  {
   "cell_type": "markdown",
   "id": "0652f368",
   "metadata": {},
   "source": [
    "# 9. Save Model"
   ]
  },
  {
   "cell_type": "code",
   "execution_count": 46,
   "id": "6cfaa562-faa3-4dfd-ae78-18311dc0493e",
   "metadata": {},
   "outputs": [],
   "source": [
    "import pickle"
   ]
  },
  {
   "cell_type": "code",
   "execution_count": 47,
   "id": "77b64b68-e00d-4016-acf7-b4889f52d6e8",
   "metadata": {},
   "outputs": [],
   "source": [
    "pickle.dump((clf, \n",
    "             title_vectorizer, \n",
    "             text_vectorizer, \n",
    "             one_hot_encoder, \n",
    "             scaler, \n",
    "             feature_name, \n",
    "             numerical_feature, \n",
    "             ordinal_feature, \n",
    "             nominal_feature), \n",
    "             open('fake_news_model.pickle', 'wb'))"
   ]
  },
  {
   "cell_type": "code",
   "execution_count": null,
   "id": "ce936722",
   "metadata": {},
   "outputs": [],
   "source": []
  }
 ],
 "metadata": {
  "kernelspec": {
   "display_name": "Python 3",
   "language": "python",
   "name": "python3"
  },
  "language_info": {
   "codemirror_mode": {
    "name": "ipython",
    "version": 3
   },
   "file_extension": ".py",
   "mimetype": "text/x-python",
   "name": "python",
   "nbconvert_exporter": "python",
   "pygments_lexer": "ipython3",
   "version": "3.8.8"
  }
 },
 "nbformat": 4,
 "nbformat_minor": 5
}
