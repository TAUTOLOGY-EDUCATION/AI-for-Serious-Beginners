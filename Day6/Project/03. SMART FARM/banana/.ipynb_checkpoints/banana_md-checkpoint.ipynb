{
 "cells": [
  {
   "cell_type": "code",
   "execution_count": 1,
   "id": "5ea59e85",
   "metadata": {},
   "outputs": [],
   "source": [
    "import numpy as np\n",
    "import pandas as pd\n",
    "import pickle"
   ]
  },
  {
   "cell_type": "code",
   "execution_count": 2,
   "id": "32b38bdc",
   "metadata": {},
   "outputs": [],
   "source": [
    "saved_model = pickle.load(open('banana_model.pickle', 'rb'))"
   ]
  },
  {
   "cell_type": "code",
   "execution_count": 3,
   "id": "04a67d89",
   "metadata": {},
   "outputs": [],
   "source": [
    "reg = saved_model[0]\n",
    "ordinal_encoder = saved_model[1]\n",
    "one_hot_encoder = saved_model[2]\n",
    "scaler = saved_model[3]\n",
    "feature_name = saved_model[4]\n",
    "numerical_feature = saved_model[5]\n",
    "ordinal_feature = saved_model[6]\n",
    "nominal_feature = saved_model[7]"
   ]
  },
  {
   "cell_type": "code",
   "execution_count": 4,
   "id": "c45836ba",
   "metadata": {},
   "outputs": [
    {
     "data": {
      "text/plain": [
       "['SOIL TYPE', 'REGION', 'TEMPERATURE', 'WEATHER CONDITION']"
      ]
     },
     "execution_count": 4,
     "metadata": {},
     "output_type": "execute_result"
    }
   ],
   "source": [
    "feature_name"
   ]
  },
  {
   "cell_type": "code",
   "execution_count": 5,
   "id": "e36b7327",
   "metadata": {},
   "outputs": [],
   "source": [
    "SOIL_TYPE = 'HUMID'\n",
    "REGION = 'DESERT'\n",
    "TEMPERATURE = '30-40'\n",
    "WEATHER_CONDITION = 'NORMAL'"
   ]
  },
  {
   "cell_type": "code",
   "execution_count": 6,
   "id": "7ac5c33b",
   "metadata": {},
   "outputs": [
    {
     "data": {
      "text/html": [
       "<div>\n",
       "<style scoped>\n",
       "    .dataframe tbody tr th:only-of-type {\n",
       "        vertical-align: middle;\n",
       "    }\n",
       "\n",
       "    .dataframe tbody tr th {\n",
       "        vertical-align: top;\n",
       "    }\n",
       "\n",
       "    .dataframe thead th {\n",
       "        text-align: right;\n",
       "    }\n",
       "</style>\n",
       "<table border=\"1\" class=\"dataframe\">\n",
       "  <thead>\n",
       "    <tr style=\"text-align: right;\">\n",
       "      <th></th>\n",
       "      <th>SOIL TYPE</th>\n",
       "      <th>REGION</th>\n",
       "      <th>TEMPERATURE</th>\n",
       "      <th>WEATHER CONDITION</th>\n",
       "    </tr>\n",
       "  </thead>\n",
       "  <tbody>\n",
       "    <tr>\n",
       "      <th>0</th>\n",
       "      <td>HUMID</td>\n",
       "      <td>DESERT</td>\n",
       "      <td>30-40</td>\n",
       "      <td>NORMAL</td>\n",
       "    </tr>\n",
       "  </tbody>\n",
       "</table>\n",
       "</div>"
      ],
      "text/plain": [
       "  SOIL TYPE  REGION TEMPERATURE WEATHER CONDITION\n",
       "0     HUMID  DESERT       30-40            NORMAL"
      ]
     },
     "execution_count": 6,
     "metadata": {},
     "output_type": "execute_result"
    }
   ],
   "source": [
    "incoming_data = pd.DataFrame(np.array([[SOIL_TYPE, REGION, TEMPERATURE, WEATHER_CONDITION]]), \n",
    "                             columns=feature_name)\n",
    "\n",
    "incoming_data"
   ]
  },
  {
   "cell_type": "code",
   "execution_count": 7,
   "id": "4eec6d3c",
   "metadata": {},
   "outputs": [
    {
     "name": "stdout",
     "output_type": "stream",
     "text": [
      "numerical_feature : []\n",
      "ordinal_feature : ['SOIL TYPE', 'REGION', 'TEMPERATURE']\n",
      "nominal_feature : ['WEATHER CONDITION']\n"
     ]
    }
   ],
   "source": [
    "print('numerical_feature :', numerical_feature)\n",
    "print('ordinal_feature :', ordinal_feature)\n",
    "print('nominal_feature :', nominal_feature)"
   ]
  },
  {
   "cell_type": "markdown",
   "id": "29093dae",
   "metadata": {},
   "source": [
    "### Ordinal Encoding"
   ]
  },
  {
   "cell_type": "code",
   "execution_count": 8,
   "id": "c9ece8ac",
   "metadata": {},
   "outputs": [],
   "source": [
    "incoming_data[ordinal_feature] = ordinal_encoder.transform(incoming_data[ordinal_feature])"
   ]
  },
  {
   "cell_type": "markdown",
   "id": "9a5703d5",
   "metadata": {},
   "source": [
    "### One Hot Encoding"
   ]
  },
  {
   "cell_type": "code",
   "execution_count": 9,
   "id": "16dfbba5",
   "metadata": {},
   "outputs": [
    {
     "data": {
      "text/plain": [
       "array([[0.5       , 0.        , 0.66666667, 1.        , 0.        ,\n",
       "        0.        , 0.        ]])"
      ]
     },
     "execution_count": 9,
     "metadata": {},
     "output_type": "execute_result"
    }
   ],
   "source": [
    "one_hot_feature = one_hot_encoder.categories_[0]\n",
    "\n",
    "incoming_data[one_hot_feature] = one_hot_encoder.transform(incoming_data[nominal_feature])\n",
    "incoming_data.drop(nominal_feature, axis=1, inplace=True)\n",
    "\n",
    "incoming_data_scaled = scaler.transform(incoming_data)\n",
    "\n",
    "incoming_data_scaled"
   ]
  },
  {
   "cell_type": "code",
   "execution_count": 10,
   "id": "f493b1a3",
   "metadata": {
    "scrolled": true
   },
   "outputs": [
    {
     "data": {
      "text/plain": [
       "array([[0.5       , 0.        , 0.66666667, 1.        , 0.        ,\n",
       "        0.        , 0.        ]])"
      ]
     },
     "execution_count": 10,
     "metadata": {},
     "output_type": "execute_result"
    }
   ],
   "source": [
    "incoming_data_scaled"
   ]
  },
  {
   "cell_type": "markdown",
   "id": "c8aa5422",
   "metadata": {},
   "source": [
    "### Prediction"
   ]
  },
  {
   "cell_type": "code",
   "execution_count": 11,
   "id": "056871dc",
   "metadata": {},
   "outputs": [],
   "source": [
    "predicted_target = reg.predict(incoming_data_scaled)"
   ]
  },
  {
   "cell_type": "code",
   "execution_count": 12,
   "id": "cc377073",
   "metadata": {},
   "outputs": [
    {
     "data": {
      "text/plain": [
       "array([8.80050247])"
      ]
     },
     "execution_count": 12,
     "metadata": {},
     "output_type": "execute_result"
    }
   ],
   "source": [
    "predicted_target"
   ]
  }
 ],
 "metadata": {
  "kernelspec": {
   "display_name": "Python 3",
   "language": "python",
   "name": "python3"
  },
  "language_info": {
   "codemirror_mode": {
    "name": "ipython",
    "version": 3
   },
   "file_extension": ".py",
   "mimetype": "text/x-python",
   "name": "python",
   "nbconvert_exporter": "python",
   "pygments_lexer": "ipython3",
   "version": "3.8.8"
  }
 },
 "nbformat": 4,
 "nbformat_minor": 5
}
