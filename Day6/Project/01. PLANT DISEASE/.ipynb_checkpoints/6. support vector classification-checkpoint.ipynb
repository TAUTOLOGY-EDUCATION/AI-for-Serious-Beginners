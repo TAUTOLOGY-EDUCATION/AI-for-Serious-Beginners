{
 "cells": [
  {
   "cell_type": "markdown",
   "id": "57654bb6",
   "metadata": {},
   "source": [
    "# 1. Import Libraries"
   ]
  },
  {
   "cell_type": "code",
   "execution_count": 1,
   "id": "79965b90",
   "metadata": {},
   "outputs": [],
   "source": [
    "# !pip install opencv-python"
   ]
  },
  {
   "cell_type": "code",
   "execution_count": 2,
   "id": "2f51eef5",
   "metadata": {},
   "outputs": [],
   "source": [
    "import numpy as np\n",
    "import pandas as pd\n",
    "import matplotlib.pyplot as plt\n",
    "\n",
    "from glob import glob\n",
    "from PIL import Image\n",
    "import cv2\n",
    "from tqdm.auto import tqdm\n",
    "from sklearn.model_selection import train_test_split\n",
    "from sklearn.preprocessing import (\n",
    "    OrdinalEncoder, \n",
    "    OneHotEncoder, \n",
    "    StandardScaler, \n",
    "    MinMaxScaler\n",
    ")\n",
    "from sklearn.svm import SVC\n",
    "from sklearn.metrics import plot_confusion_matrix, classification_report\n",
    "\n",
    "import warnings\n",
    "warnings.filterwarnings('ignore')\n",
    "\n",
    "np.random.seed(12345)"
   ]
  },
  {
   "cell_type": "markdown",
   "id": "6707b8de",
   "metadata": {},
   "source": [
    "# 2. Read Data"
   ]
  },
  {
   "cell_type": "code",
   "execution_count": 3,
   "id": "d0ccccc3",
   "metadata": {},
   "outputs": [],
   "source": [
    "classes = ['angular_leaf_spot', 'bean_rust', 'healthy']"
   ]
  },
  {
   "cell_type": "code",
   "execution_count": 4,
   "id": "c8d0d00a",
   "metadata": {},
   "outputs": [
    {
     "data": {
      "application/vnd.jupyter.widget-view+json": {
       "model_id": "5fbbd2736b444b07a08dfa7bb7d0956a",
       "version_major": 2,
       "version_minor": 0
      },
      "text/plain": [
       "  0%|          | 0/3 [00:00<?, ?it/s]"
      ]
     },
     "metadata": {},
     "output_type": "display_data"
    },
    {
     "data": {
      "application/vnd.jupyter.widget-view+json": {
       "model_id": "f4e588034e6e48e2b60c22cfc4e321f9",
       "version_major": 2,
       "version_minor": 0
      },
      "text/plain": [
       "  0%|          | 0/200 [00:00<?, ?it/s]"
      ]
     },
     "metadata": {},
     "output_type": "display_data"
    },
    {
     "data": {
      "application/vnd.jupyter.widget-view+json": {
       "model_id": "ebad9d0dfd9c45f3be62e6f6f0595161",
       "version_major": 2,
       "version_minor": 0
      },
      "text/plain": [
       "  0%|          | 0/336 [00:00<?, ?it/s]"
      ]
     },
     "metadata": {},
     "output_type": "display_data"
    },
    {
     "data": {
      "application/vnd.jupyter.widget-view+json": {
       "model_id": "c8fee1730c59412f9c6d86491bcca9f1",
       "version_major": 2,
       "version_minor": 0
      },
      "text/plain": [
       "  0%|          | 0/337 [00:00<?, ?it/s]"
      ]
     },
     "metadata": {},
     "output_type": "display_data"
    }
   ],
   "source": [
    "X = np.empty([0, 32*32*3])\n",
    "y = np.empty([0, 1])\n",
    "\n",
    "for _class in tqdm(classes):\n",
    "    img_path = glob('dataset/' + _class + '/*')\n",
    "    for path in tqdm(img_path):\n",
    "        img = Image.open(path)\n",
    "        img = img.resize([32, 32])\n",
    "        img = np.array(img)\n",
    "        if img.shape[2] == 4:\n",
    "            img = cv2.cvtColor(img, cv2.COLOR_BGRA2BGR)\n",
    "        img = img.reshape(1, -1)\n",
    "        X = np.vstack([X, img])\n",
    "        if _class == 'healthy':\n",
    "            y = np.vstack([y, 'healthy'])\n",
    "        else:\n",
    "            y = np.vstack([y, 'unhealthy'])"
   ]
  },
  {
   "cell_type": "markdown",
   "id": "aa424a64",
   "metadata": {},
   "source": [
    "# ### 3. Clean Data"
   ]
  },
  {
   "cell_type": "markdown",
   "id": "50cdff68",
   "metadata": {},
   "source": [
    "# 4. Split Dataset into Training & Test Sets"
   ]
  },
  {
   "cell_type": "code",
   "execution_count": 5,
   "id": "afb0b2a8",
   "metadata": {},
   "outputs": [],
   "source": [
    "X_train, X_test, y_train, y_test = train_test_split(X, y, test_size=0.20, shuffle=True)"
   ]
  },
  {
   "cell_type": "markdown",
   "id": "ed13b65f",
   "metadata": {},
   "source": [
    "# 5. Data Preparation"
   ]
  },
  {
   "cell_type": "markdown",
   "id": "7e7af4f1",
   "metadata": {},
   "source": [
    "## ### 5.1. Ordinal Encoding"
   ]
  },
  {
   "cell_type": "markdown",
   "id": "a25e32e6",
   "metadata": {},
   "source": [
    "## ### 5.2. One Hot Encoding"
   ]
  },
  {
   "cell_type": "markdown",
   "id": "6aeaeb0a",
   "metadata": {},
   "source": [
    "## 5.3. Feature Scaling"
   ]
  },
  {
   "cell_type": "markdown",
   "id": "6bd90e8d",
   "metadata": {},
   "source": [
    "### 5.3.1. Training Set"
   ]
  },
  {
   "cell_type": "code",
   "execution_count": 6,
   "id": "bd4efdd2",
   "metadata": {},
   "outputs": [],
   "source": [
    "scaler = MinMaxScaler()\n",
    "X_train_scaled = scaler.fit_transform(X_train)"
   ]
  },
  {
   "cell_type": "markdown",
   "id": "f370ec47",
   "metadata": {},
   "source": [
    "### 5.3.2. Test Set"
   ]
  },
  {
   "cell_type": "code",
   "execution_count": 7,
   "id": "72df8ec8",
   "metadata": {},
   "outputs": [],
   "source": [
    "X_test_scaled = scaler.transform(X_test)"
   ]
  },
  {
   "cell_type": "markdown",
   "id": "f77fb5ee",
   "metadata": {},
   "source": [
    "# 6. Model Creation"
   ]
  },
  {
   "cell_type": "markdown",
   "id": "e81df55a",
   "metadata": {},
   "source": [
    "## 6.1. Setting Parameters"
   ]
  },
  {
   "cell_type": "code",
   "execution_count": 8,
   "id": "fd1486a3",
   "metadata": {},
   "outputs": [],
   "source": [
    "clf = SVC()"
   ]
  },
  {
   "cell_type": "markdown",
   "id": "4cb08aa4",
   "metadata": {},
   "source": [
    "## 6.2. Train Model"
   ]
  },
  {
   "cell_type": "code",
   "execution_count": 9,
   "id": "8aa8df52",
   "metadata": {},
   "outputs": [
    {
     "data": {
      "text/plain": [
       "SVC()"
      ]
     },
     "execution_count": 9,
     "metadata": {},
     "output_type": "execute_result"
    }
   ],
   "source": [
    "clf.fit(X_train_scaled, y_train)"
   ]
  },
  {
   "cell_type": "markdown",
   "id": "7f33bb7b",
   "metadata": {},
   "source": [
    "## 6.3. Model's Weight & Bias"
   ]
  },
  {
   "cell_type": "code",
   "execution_count": 10,
   "id": "ff6657d5",
   "metadata": {},
   "outputs": [
    {
     "data": {
      "text/plain": [
       "array([[-0.58644646, -1.        , -0.12114572, -1.        , -1.        ,\n",
       "        -0.50595981, -1.        , -1.        , -1.        , -1.        ,\n",
       "        -1.        , -1.        , -0.36768308, -1.        , -1.        ,\n",
       "        -0.49111132, -0.8992981 , -1.        , -1.        , -1.        ,\n",
       "        -0.89074658, -0.33756227, -0.76454979, -0.78302583, -0.5939367 ,\n",
       "        -0.74887915, -1.        , -1.        , -0.50513546, -1.        ,\n",
       "        -1.        , -1.        , -1.        , -0.42335095, -0.43893437,\n",
       "        -1.        , -0.50033611, -0.62062689, -1.        , -0.33775617,\n",
       "        -1.        , -0.28175372, -0.9585888 , -1.        , -0.16454332,\n",
       "        -0.87816497, -1.        , -0.25768577, -1.        , -1.        ,\n",
       "        -1.        , -0.23997317, -1.        , -1.        , -0.26714629,\n",
       "        -1.        , -0.01311138, -0.76120924, -1.        , -0.67638334,\n",
       "        -0.51600486, -1.        , -0.39230079, -0.48596424, -1.        ,\n",
       "        -0.97798083, -1.        , -1.        , -1.        , -0.78540754,\n",
       "        -1.        , -1.        , -0.66862049, -1.        , -0.60131755,\n",
       "        -1.        , -1.        , -0.75610981, -1.        , -0.74007866,\n",
       "        -1.        , -0.98702101, -0.07628165, -1.        , -0.81800581,\n",
       "        -0.91025119, -1.        , -1.        , -0.76594154, -1.        ,\n",
       "        -1.        , -0.97065323, -1.        , -1.        , -1.        ,\n",
       "        -0.31105913, -1.        , -1.        , -1.        , -1.        ,\n",
       "        -0.02559057, -1.        , -1.        , -0.79610837, -1.        ,\n",
       "        -1.        , -1.        , -1.        , -0.23930723, -1.        ,\n",
       "        -0.78868966, -1.        , -1.        , -1.        , -1.        ,\n",
       "        -0.11522133, -0.11943052, -1.        , -0.65286054, -1.        ,\n",
       "        -0.19064283, -1.        , -1.        , -1.        , -1.        ,\n",
       "        -1.        , -1.        , -1.        , -1.        , -1.        ,\n",
       "        -0.42592469, -0.37398547, -1.        , -0.88662749, -1.        ,\n",
       "        -0.67052419, -1.        , -1.        , -1.        , -1.        ,\n",
       "        -1.        , -1.        , -0.97764192, -0.82908962, -0.24621172,\n",
       "        -0.19957819, -0.35332822, -0.09795674, -0.81271808, -1.        ,\n",
       "        -0.47146621, -1.        , -0.62258032, -1.        , -1.        ,\n",
       "        -0.31034773, -0.99495628, -1.        , -0.51142599, -1.        ,\n",
       "        -0.43181698, -0.10746702, -0.15581184, -0.91944066, -1.        ,\n",
       "        -1.        , -1.        , -1.        , -1.        , -1.        ,\n",
       "        -1.        , -1.        , -1.        , -1.        , -0.87892609,\n",
       "        -0.23186574, -1.        , -1.        , -1.        , -1.        ,\n",
       "        -0.845111  , -1.        , -0.91832085, -1.        , -0.49343438,\n",
       "        -0.15325388, -1.        , -1.        , -1.        , -1.        ,\n",
       "        -0.14774491, -0.44212426, -0.63184499, -1.        , -1.        ,\n",
       "        -1.        , -1.        , -0.41240351, -1.        , -1.        ,\n",
       "        -0.32009141,  1.        ,  0.24075158,  0.44598461,  0.30421454,\n",
       "         1.        ,  0.72576677,  0.80800315,  0.90810049,  0.9567605 ,\n",
       "         0.41046909,  1.        ,  0.07419239,  0.50698681,  1.        ,\n",
       "         0.87751982,  0.41003518,  1.        ,  0.43483796,  0.89064743,\n",
       "         0.34358336,  0.23179094,  0.61424704,  1.        ,  1.        ,\n",
       "         1.        ,  0.27193194,  0.74151881,  0.37954529,  1.        ,\n",
       "         0.66327554,  0.52019743,  1.        ,  0.62372594,  0.04962222,\n",
       "         0.45381969,  0.4004683 ,  0.43051977,  0.56876572,  1.        ,\n",
       "         0.17305787,  0.9102381 ,  0.59867332,  0.23021322,  0.20774135,\n",
       "         0.9349289 ,  1.        ,  0.86346041,  1.        ,  0.22266994,\n",
       "         0.21306001,  1.        ,  1.        ,  1.        ,  0.16949895,\n",
       "         0.10682285,  0.9718538 ,  1.        ,  0.58352936,  0.25009414,\n",
       "         0.47112517,  0.75615464,  1.        ,  0.33105897,  0.12148053,\n",
       "         0.05341667,  0.04587212,  0.96315457,  0.7671453 ,  0.59429784,\n",
       "         0.33136747,  0.86862092,  0.32826411,  1.        ,  0.47959299,\n",
       "         0.13065978,  0.46211435,  1.        ,  0.64072277,  0.5808855 ,\n",
       "         0.4563479 ,  1.        ,  0.50047159,  0.53707368,  0.2661184 ,\n",
       "         1.        ,  0.74181588,  0.76426643,  1.        ,  0.11054562,\n",
       "         1.        ,  0.96008907,  0.59524615,  0.62418396,  1.        ,\n",
       "         0.83803974,  1.        ,  0.06799267,  0.57744569,  0.60395936,\n",
       "         0.87308823,  1.        ,  0.13991976,  0.13798987,  1.        ,\n",
       "         0.42349482,  1.        ,  0.77367774,  0.21844446,  0.33415755,\n",
       "         0.9058807 ,  1.        ,  0.86726813,  0.49317724,  1.        ,\n",
       "         1.        ,  0.54401093,  0.93871721,  1.        ,  1.        ,\n",
       "         0.43577396,  0.05028086,  0.59837564,  0.75193022,  0.56756255,\n",
       "         1.        ,  0.27220914,  0.48951458,  0.74382117,  1.        ,\n",
       "         1.        ,  0.83804442,  0.45914211,  0.20229184,  1.        ,\n",
       "         1.        ,  1.        ,  0.07718444,  1.        ,  0.09065785,\n",
       "         0.22530066,  0.08318064,  1.        ,  0.04207787,  0.98783655,\n",
       "         1.        ,  0.15236664,  1.        ,  1.        ,  0.29624357,\n",
       "         0.63123823,  1.        ,  0.37035487,  0.3412982 ,  0.29914481,\n",
       "         0.70470613,  0.41605153,  0.88294079,  0.02270343,  0.10117003,\n",
       "         0.50699842,  0.51235869,  0.87746454,  1.        ,  0.54529994,\n",
       "         0.55629267,  0.24835932,  0.92855183,  0.14705184,  1.        ,\n",
       "         1.        ,  1.        ,  0.39874732,  0.48833964,  1.        ,\n",
       "         1.        ,  1.        ,  1.        ,  1.        ,  0.80789163,\n",
       "         0.93193694,  0.98707104,  0.26616635,  0.89886859,  0.02594735,\n",
       "         1.        ,  0.88201944,  1.        ,  0.39345793,  1.        ,\n",
       "         1.        ,  1.        ,  1.        ,  0.27368478,  0.93479667,\n",
       "         1.        ,  1.        ,  0.03061298,  0.1510815 ,  1.        ,\n",
       "         0.85156617,  1.        ,  1.        ,  0.35981307,  1.        ,\n",
       "         0.16287857,  0.35987041,  0.0855664 ,  0.6881735 ,  1.        ,\n",
       "         0.06352774,  0.49036768,  1.        ,  0.41809119,  1.        ,\n",
       "         0.642519  ,  0.94087697,  1.        ,  0.70124754,  0.21137993,\n",
       "         1.        ,  1.        ,  0.62410201,  1.        ,  0.94339367,\n",
       "         0.37162353,  0.35777489,  0.87098376,  0.853731  ,  0.08358857,\n",
       "         0.92456527,  0.65694373,  0.18129856,  0.306447  ,  0.23539176,\n",
       "         0.16446395,  1.        ,  0.37037632,  1.        ,  1.        ,\n",
       "         0.08052073,  0.06729166,  1.        ,  0.13848631,  0.09298279,\n",
       "         1.        ,  0.63195284,  0.37438078,  1.        ,  0.80485404,\n",
       "         1.        ]])"
      ]
     },
     "execution_count": 10,
     "metadata": {},
     "output_type": "execute_result"
    }
   ],
   "source": [
    "clf.dual_coef_"
   ]
  },
  {
   "cell_type": "code",
   "execution_count": 11,
   "id": "3890d9b6",
   "metadata": {
    "scrolled": false
   },
   "outputs": [
    {
     "data": {
      "text/plain": [
       "array([-0.2160276])"
      ]
     },
     "execution_count": 11,
     "metadata": {},
     "output_type": "execute_result"
    }
   ],
   "source": [
    "clf.intercept_"
   ]
  },
  {
   "cell_type": "markdown",
   "id": "982f5065",
   "metadata": {},
   "source": [
    "# 7. Prediction"
   ]
  },
  {
   "cell_type": "markdown",
   "id": "3371e2e7",
   "metadata": {},
   "source": [
    "## 7.1. Training Set"
   ]
  },
  {
   "cell_type": "code",
   "execution_count": 12,
   "id": "1fcaad0d",
   "metadata": {},
   "outputs": [],
   "source": [
    "y_pred_train = clf.predict(X_train_scaled)"
   ]
  },
  {
   "cell_type": "markdown",
   "id": "95a112f5",
   "metadata": {},
   "source": [
    "## 7.2. Test Set"
   ]
  },
  {
   "cell_type": "code",
   "execution_count": 13,
   "id": "7158701f",
   "metadata": {},
   "outputs": [],
   "source": [
    "y_pred_test = clf.predict(X_test_scaled)"
   ]
  },
  {
   "cell_type": "markdown",
   "id": "72a16acb",
   "metadata": {},
   "source": [
    "# 8. Model Evaluation"
   ]
  },
  {
   "cell_type": "markdown",
   "id": "7f9d943a",
   "metadata": {},
   "source": [
    "## 8.1. Training Set"
   ]
  },
  {
   "cell_type": "markdown",
   "id": "55f96f40",
   "metadata": {},
   "source": [
    "### 8.1.1. Confusion Matrix"
   ]
  },
  {
   "cell_type": "code",
   "execution_count": 14,
   "id": "8eb5f70b",
   "metadata": {},
   "outputs": [
    {
     "data": {
      "image/png": "[encoded data removed]",
      "text/plain": [
       "<Figure size 432x432 with 2 Axes>"
      ]
     },
     "metadata": {
      "needs_background": "light"
     },
     "output_type": "display_data"
    }
   ],
   "source": [
    "fig, ax = plt.subplots(figsize=(6, 6))\n",
    "plot_confusion_matrix(clf, X_train_scaled, y_train, ax=ax)\n",
    "plt.xticks(rotation=90)\n",
    "plt.show()"
   ]
  },
  {
   "cell_type": "markdown",
   "id": "6fb54b57",
   "metadata": {},
   "source": [
    "### 8.1.2. Scoring"
   ]
  },
  {
   "cell_type": "code",
   "execution_count": 15,
   "id": "527a7b37",
   "metadata": {},
   "outputs": [],
   "source": [
    "report = classification_report(y_train, y_pred_train, output_dict=True)"
   ]
  },
  {
   "cell_type": "code",
   "execution_count": 16,
   "id": "dfa3133a",
   "metadata": {},
   "outputs": [
    {
     "name": "stdout",
     "output_type": "stream",
     "text": [
      "accuracy = 0.9699140401146131\n"
     ]
    }
   ],
   "source": [
    "print('accuracy =', report['accuracy'])"
   ]
  },
  {
   "cell_type": "code",
   "execution_count": 17,
   "id": "042c261e",
   "metadata": {},
   "outputs": [
    {
     "data": {
      "text/html": [
       "<div>\n",
       "<style scoped>\n",
       "    .dataframe tbody tr th:only-of-type {\n",
       "        vertical-align: middle;\n",
       "    }\n",
       "\n",
       "    .dataframe tbody tr th {\n",
       "        vertical-align: top;\n",
       "    }\n",
       "\n",
       "    .dataframe thead th {\n",
       "        text-align: right;\n",
       "    }\n",
       "</style>\n",
       "<table border=\"1\" class=\"dataframe\">\n",
       "  <thead>\n",
       "    <tr style=\"text-align: right;\">\n",
       "      <th></th>\n",
       "      <th>precision</th>\n",
       "      <th>recall</th>\n",
       "      <th>f1-score</th>\n",
       "      <th>support</th>\n",
       "    </tr>\n",
       "  </thead>\n",
       "  <tbody>\n",
       "    <tr>\n",
       "      <th>healthy</th>\n",
       "      <td>0.970370</td>\n",
       "      <td>0.952727</td>\n",
       "      <td>0.961468</td>\n",
       "      <td>275.000000</td>\n",
       "    </tr>\n",
       "    <tr>\n",
       "      <th>unhealthy</th>\n",
       "      <td>0.969626</td>\n",
       "      <td>0.981087</td>\n",
       "      <td>0.975323</td>\n",
       "      <td>423.000000</td>\n",
       "    </tr>\n",
       "    <tr>\n",
       "      <th>accuracy</th>\n",
       "      <td>0.969914</td>\n",
       "      <td>0.969914</td>\n",
       "      <td>0.969914</td>\n",
       "      <td>0.969914</td>\n",
       "    </tr>\n",
       "    <tr>\n",
       "      <th>macro avg</th>\n",
       "      <td>0.969998</td>\n",
       "      <td>0.966907</td>\n",
       "      <td>0.968396</td>\n",
       "      <td>698.000000</td>\n",
       "    </tr>\n",
       "    <tr>\n",
       "      <th>weighted avg</th>\n",
       "      <td>0.969919</td>\n",
       "      <td>0.969914</td>\n",
       "      <td>0.969864</td>\n",
       "      <td>698.000000</td>\n",
       "    </tr>\n",
       "  </tbody>\n",
       "</table>\n",
       "</div>"
      ],
      "text/plain": [
       "              precision    recall  f1-score     support\n",
       "healthy        0.970370  0.952727  0.961468  275.000000\n",
       "unhealthy      0.969626  0.981087  0.975323  423.000000\n",
       "accuracy       0.969914  0.969914  0.969914    0.969914\n",
       "macro avg      0.969998  0.966907  0.968396  698.000000\n",
       "weighted avg   0.969919  0.969914  0.969864  698.000000"
      ]
     },
     "execution_count": 17,
     "metadata": {},
     "output_type": "execute_result"
    }
   ],
   "source": [
    "pd.DataFrame.from_dict(report).T"
   ]
  },
  {
   "cell_type": "markdown",
   "id": "9533f763",
   "metadata": {},
   "source": [
    "## 8.2. Test Set"
   ]
  },
  {
   "cell_type": "markdown",
   "id": "ef10b301",
   "metadata": {},
   "source": [
    "### 8.2.1. Confusion Matrix"
   ]
  },
  {
   "cell_type": "code",
   "execution_count": 18,
   "id": "aa27890a",
   "metadata": {},
   "outputs": [
    {
     "data": {
      "image/png": "[encoded data removed]",
      "text/plain": [
       "<Figure size 432x432 with 2 Axes>"
      ]
     },
     "metadata": {
      "needs_background": "light"
     },
     "output_type": "display_data"
    }
   ],
   "source": [
    "fig, ax = plt.subplots(figsize=(6, 6))\n",
    "plot_confusion_matrix(clf, X_test_scaled, y_test, ax=ax)\n",
    "plt.xticks(rotation=90)\n",
    "plt.show()"
   ]
  },
  {
   "cell_type": "markdown",
   "id": "cefece92",
   "metadata": {},
   "source": [
    "### 8.2.2. Scoring"
   ]
  },
  {
   "cell_type": "code",
   "execution_count": 19,
   "id": "9f72a11f",
   "metadata": {},
   "outputs": [],
   "source": [
    "report = classification_report(y_test, y_pred_test, output_dict=True)"
   ]
  },
  {
   "cell_type": "code",
   "execution_count": 20,
   "id": "d11d9541",
   "metadata": {},
   "outputs": [
    {
     "name": "stdout",
     "output_type": "stream",
     "text": [
      "accuracy = 0.8285714285714286\n"
     ]
    }
   ],
   "source": [
    "print('accuracy =', report['accuracy'])"
   ]
  },
  {
   "cell_type": "code",
   "execution_count": 21,
   "id": "a60bb854",
   "metadata": {},
   "outputs": [
    {
     "data": {
      "text/html": [
       "<div>\n",
       "<style scoped>\n",
       "    .dataframe tbody tr th:only-of-type {\n",
       "        vertical-align: middle;\n",
       "    }\n",
       "\n",
       "    .dataframe tbody tr th {\n",
       "        vertical-align: top;\n",
       "    }\n",
       "\n",
       "    .dataframe thead th {\n",
       "        text-align: right;\n",
       "    }\n",
       "</style>\n",
       "<table border=\"1\" class=\"dataframe\">\n",
       "  <thead>\n",
       "    <tr style=\"text-align: right;\">\n",
       "      <th></th>\n",
       "      <th>precision</th>\n",
       "      <th>recall</th>\n",
       "      <th>f1-score</th>\n",
       "      <th>support</th>\n",
       "    </tr>\n",
       "  </thead>\n",
       "  <tbody>\n",
       "    <tr>\n",
       "      <th>healthy</th>\n",
       "      <td>0.750000</td>\n",
       "      <td>0.774194</td>\n",
       "      <td>0.761905</td>\n",
       "      <td>62.000000</td>\n",
       "    </tr>\n",
       "    <tr>\n",
       "      <th>unhealthy</th>\n",
       "      <td>0.873874</td>\n",
       "      <td>0.858407</td>\n",
       "      <td>0.866071</td>\n",
       "      <td>113.000000</td>\n",
       "    </tr>\n",
       "    <tr>\n",
       "      <th>accuracy</th>\n",
       "      <td>0.828571</td>\n",
       "      <td>0.828571</td>\n",
       "      <td>0.828571</td>\n",
       "      <td>0.828571</td>\n",
       "    </tr>\n",
       "    <tr>\n",
       "      <th>macro avg</th>\n",
       "      <td>0.811937</td>\n",
       "      <td>0.816300</td>\n",
       "      <td>0.813988</td>\n",
       "      <td>175.000000</td>\n",
       "    </tr>\n",
       "    <tr>\n",
       "      <th>weighted avg</th>\n",
       "      <td>0.829987</td>\n",
       "      <td>0.828571</td>\n",
       "      <td>0.829167</td>\n",
       "      <td>175.000000</td>\n",
       "    </tr>\n",
       "  </tbody>\n",
       "</table>\n",
       "</div>"
      ],
      "text/plain": [
       "              precision    recall  f1-score     support\n",
       "healthy        0.750000  0.774194  0.761905   62.000000\n",
       "unhealthy      0.873874  0.858407  0.866071  113.000000\n",
       "accuracy       0.828571  0.828571  0.828571    0.828571\n",
       "macro avg      0.811937  0.816300  0.813988  175.000000\n",
       "weighted avg   0.829987  0.828571  0.829167  175.000000"
      ]
     },
     "execution_count": 21,
     "metadata": {},
     "output_type": "execute_result"
    }
   ],
   "source": [
    "pd.DataFrame.from_dict(report).T"
   ]
  },
  {
   "cell_type": "markdown",
   "id": "6b1cb541",
   "metadata": {},
   "source": [
    "# 9. Save Model"
   ]
  },
  {
   "cell_type": "code",
   "execution_count": 22,
   "id": "0291e4e9",
   "metadata": {},
   "outputs": [],
   "source": [
    "import pickle"
   ]
  },
  {
   "cell_type": "code",
   "execution_count": 23,
   "id": "2bf44e70",
   "metadata": {},
   "outputs": [],
   "source": [
    "pickle.dump((clf, \n",
    "             scaler),  open('support_vector_classification_model.pickle', 'wb'))"
   ]
  },
  {
   "cell_type": "code",
   "execution_count": null,
   "id": "a088c2b0",
   "metadata": {},
   "outputs": [],
   "source": []
  }
 ],
 "metadata": {
  "kernelspec": {
   "display_name": "Python 3",
   "language": "python",
   "name": "python3"
  },
  "language_info": {
   "codemirror_mode": {
    "name": "ipython",
    "version": 3
   },
   "file_extension": ".py",
   "mimetype": "text/x-python",
   "name": "python",
   "nbconvert_exporter": "python",
   "pygments_lexer": "ipython3",
   "version": "3.8.8"
  }
 },
 "nbformat": 4,
 "nbformat_minor": 5
}
