{
 "cells": [
  {
   "cell_type": "markdown",
   "id": "57654bb6",
   "metadata": {},
   "source": [
    "# 1. Import Libraries"
   ]
  },
  {
   "cell_type": "code",
   "execution_count": 1,
   "id": "e6436e8d",
   "metadata": {},
   "outputs": [],
   "source": [
    "# !pip install opencv-python"
   ]
  },
  {
   "cell_type": "code",
   "execution_count": 2,
   "id": "2f51eef5",
   "metadata": {},
   "outputs": [],
   "source": [
    "import numpy as np\n",
    "import pandas as pd\n",
    "import matplotlib.pyplot as plt\n",
    "\n",
    "from glob import glob\n",
    "from PIL import Image\n",
    "import cv2\n",
    "from tqdm.auto import tqdm\n",
    "from sklearn.model_selection import train_test_split\n",
    "from sklearn.preprocessing import (\n",
    "    OrdinalEncoder, \n",
    "    OneHotEncoder, \n",
    "    StandardScaler, \n",
    "    MinMaxScaler\n",
    ")\n",
    "from sklearn.neural_network import MLPClassifier\n",
    "from sklearn.metrics import plot_confusion_matrix, classification_report\n",
    "\n",
    "import warnings\n",
    "warnings.filterwarnings('ignore')\n",
    "\n",
    "np.random.seed(12345)"
   ]
  },
  {
   "cell_type": "markdown",
   "id": "6707b8de",
   "metadata": {},
   "source": [
    "# 2. Read Data"
   ]
  },
  {
   "cell_type": "code",
   "execution_count": 3,
   "id": "d0ccccc3",
   "metadata": {},
   "outputs": [],
   "source": [
    "classes = ['angular_leaf_spot', 'bean_rust', 'healthy']"
   ]
  },
  {
   "cell_type": "code",
   "execution_count": 4,
   "id": "c8d0d00a",
   "metadata": {},
   "outputs": [
    {
     "data": {
      "application/vnd.jupyter.widget-view+json": {
       "model_id": "06c573959d6f405880fad0ea4777a05a",
       "version_major": 2,
       "version_minor": 0
      },
      "text/plain": [
       "  0%|          | 0/3 [00:00<?, ?it/s]"
      ]
     },
     "metadata": {},
     "output_type": "display_data"
    },
    {
     "data": {
      "application/vnd.jupyter.widget-view+json": {
       "model_id": "60f13ec2e0cd470ba72f56f1d2f904b0",
       "version_major": 2,
       "version_minor": 0
      },
      "text/plain": [
       "  0%|          | 0/200 [00:00<?, ?it/s]"
      ]
     },
     "metadata": {},
     "output_type": "display_data"
    },
    {
     "data": {
      "application/vnd.jupyter.widget-view+json": {
       "model_id": "d8daca2905fa47158f6debf081d6145b",
       "version_major": 2,
       "version_minor": 0
      },
      "text/plain": [
       "  0%|          | 0/336 [00:00<?, ?it/s]"
      ]
     },
     "metadata": {},
     "output_type": "display_data"
    },
    {
     "data": {
      "application/vnd.jupyter.widget-view+json": {
       "model_id": "95fa03cb88ac4f95a6f07883fbeb12ae",
       "version_major": 2,
       "version_minor": 0
      },
      "text/plain": [
       "  0%|          | 0/337 [00:00<?, ?it/s]"
      ]
     },
     "metadata": {},
     "output_type": "display_data"
    }
   ],
   "source": [
    "X = np.empty([0, 32*32*3])\n",
    "y = np.empty([0, 1])\n",
    "\n",
    "for _class in tqdm(classes):\n",
    "    img_path = glob('dataset/' + _class + '/*')\n",
    "    for path in tqdm(img_path):\n",
    "        img = Image.open(path)\n",
    "        img = img.resize([32, 32])\n",
    "        img = np.array(img)\n",
    "        if img.shape[2] == 4:\n",
    "            img = cv2.cvtColor(img, cv2.COLOR_BGRA2BGR)\n",
    "        img = img.reshape(1, -1)\n",
    "        X = np.vstack([X, img])\n",
    "        if _class == 'healthy':\n",
    "            y = np.vstack([y, 'healthy'])\n",
    "        else:\n",
    "            y = np.vstack([y, 'unhealthy'])"
   ]
  },
  {
   "cell_type": "markdown",
   "id": "aa424a64",
   "metadata": {},
   "source": [
    "# ### 3. Clean Data"
   ]
  },
  {
   "cell_type": "markdown",
   "id": "50cdff68",
   "metadata": {},
   "source": [
    "# 4. Split Dataset into Training & Test Sets"
   ]
  },
  {
   "cell_type": "code",
   "execution_count": 5,
   "id": "fb10810a",
   "metadata": {},
   "outputs": [],
   "source": [
    "X_train, X_test, y_train, y_test = train_test_split(X, y, test_size=0.20, shuffle=True)"
   ]
  },
  {
   "cell_type": "markdown",
   "id": "ed13b65f",
   "metadata": {},
   "source": [
    "# 5. Data Preparation"
   ]
  },
  {
   "cell_type": "markdown",
   "id": "7e7af4f1",
   "metadata": {},
   "source": [
    "## ### 5.1. Ordinal Encoding"
   ]
  },
  {
   "cell_type": "markdown",
   "id": "a25e32e6",
   "metadata": {},
   "source": [
    "## ### 5.2. One Hot Encoding"
   ]
  },
  {
   "cell_type": "markdown",
   "id": "6aeaeb0a",
   "metadata": {},
   "source": [
    "## 5.3. Feature Scaling"
   ]
  },
  {
   "cell_type": "markdown",
   "id": "6bd90e8d",
   "metadata": {},
   "source": [
    "### 5.3.1. Training Set"
   ]
  },
  {
   "cell_type": "code",
   "execution_count": 6,
   "id": "bd4efdd2",
   "metadata": {},
   "outputs": [],
   "source": [
    "scaler = MinMaxScaler()\n",
    "X_train_scaled = scaler.fit_transform(X_train)"
   ]
  },
  {
   "cell_type": "markdown",
   "id": "f370ec47",
   "metadata": {},
   "source": [
    "### 5.3.2. Test Set"
   ]
  },
  {
   "cell_type": "code",
   "execution_count": 7,
   "id": "72df8ec8",
   "metadata": {},
   "outputs": [],
   "source": [
    "X_test_scaled = scaler.transform(X_test)"
   ]
  },
  {
   "cell_type": "markdown",
   "id": "f77fb5ee",
   "metadata": {},
   "source": [
    "# 6. Model Creation"
   ]
  },
  {
   "cell_type": "markdown",
   "id": "e81df55a",
   "metadata": {},
   "source": [
    "## 6.1. Setting Parameters"
   ]
  },
  {
   "cell_type": "code",
   "execution_count": 8,
   "id": "fd1486a3",
   "metadata": {},
   "outputs": [],
   "source": [
    "clf = MLPClassifier(\n",
    "    hidden_layer_sizes=(30, 10),\n",
    "    activation='relu',\n",
    "    learning_rate_init=0.5,\n",
    "    max_iter=1000,\n",
    "    alpha=0,\n",
    "    solver='sgd',\n",
    "    momentum=0\n",
    ")"
   ]
  },
  {
   "cell_type": "markdown",
   "id": "4cb08aa4",
   "metadata": {},
   "source": [
    "## 6.2. Train Model"
   ]
  },
  {
   "cell_type": "code",
   "execution_count": 9,
   "id": "8aa8df52",
   "metadata": {},
   "outputs": [
    {
     "data": {
      "text/plain": [
       "MLPClassifier(alpha=0, hidden_layer_sizes=(30, 10), learning_rate_init=0.5,\n",
       "              max_iter=1000, momentum=0, solver='sgd')"
      ]
     },
     "execution_count": 9,
     "metadata": {},
     "output_type": "execute_result"
    }
   ],
   "source": [
    "clf.fit(X_train_scaled, y_train)"
   ]
  },
  {
   "cell_type": "markdown",
   "id": "7f33bb7b",
   "metadata": {},
   "source": [
    "## 6.3. Model's Weight & Bias"
   ]
  },
  {
   "cell_type": "code",
   "execution_count": 10,
   "id": "ff6657d5",
   "metadata": {},
   "outputs": [
    {
     "data": {
      "text/plain": [
       "[array([[ 0.00579584, -0.03010274, -0.02275931, ..., -0.04839043,\n",
       "          0.02563593,  0.03236296],\n",
       "        [-0.03848369, -0.03765255, -0.02108763, ...,  0.02576828,\n",
       "          0.00095109,  0.00374532],\n",
       "        [-0.0051669 , -0.04508046, -0.0206548 , ...,  0.01011631,\n",
       "         -0.00852296, -0.03986695],\n",
       "        ...,\n",
       "        [-0.00838841, -0.02828169,  0.02791394, ..., -0.04033094,\n",
       "          0.0074205 , -0.03654772],\n",
       "        [-0.04325987,  0.03316566, -0.01933379, ..., -0.04167889,\n",
       "         -0.02770233,  0.03017788],\n",
       "        [ 0.02338282, -0.02186901,  0.00883035, ..., -0.03758897,\n",
       "          0.04280051,  0.02939785]]),\n",
       " array([[ 2.98874905e-01,  1.35133845e-01, -1.25726719e-01,\n",
       "          3.39577296e-01,  5.41343550e-02,  6.05263533e-02,\n",
       "         -1.91992557e-01,  1.53355731e-01, -1.08305209e-02,\n",
       "          1.50212445e-01],\n",
       "        [-2.67838602e-01, -1.73495017e+00, -2.13122816e-01,\n",
       "         -2.94494151e-01,  6.41031572e-01,  9.38811998e-01,\n",
       "          7.56768380e-01, -3.18543875e-01, -1.27675978e+00,\n",
       "          1.93200792e-01],\n",
       "        [-2.98675676e-01, -8.49985404e-02, -6.58981691e-02,\n",
       "          3.27750673e-01,  2.41328550e-01, -3.57618105e-02,\n",
       "         -1.97906586e-01, -3.24967672e-03,  1.87668957e-01,\n",
       "          1.89864711e-01],\n",
       "        [-2.98282130e-01, -3.48741636e-02,  2.15364843e-02,\n",
       "          1.09858106e-01, -1.05302886e-01, -1.82494475e-01,\n",
       "         -1.52770309e-01,  1.99346025e-01, -3.50554117e-01,\n",
       "         -2.55755368e-01],\n",
       "        [ 3.57991001e-01,  8.20019153e-04,  3.18894686e-01,\n",
       "         -2.99792468e-01, -1.74786119e-01, -2.95054941e-01,\n",
       "          1.97787636e-02, -1.06993676e-01, -3.07446091e-01,\n",
       "         -2.02947248e-01],\n",
       "        [ 1.72173638e-03,  3.19884762e-01, -6.69734098e-01,\n",
       "         -3.75919213e-01, -6.72475459e-01, -1.80577370e-01,\n",
       "          1.88458571e-01, -7.33623164e-01,  6.29090696e-02,\n",
       "         -3.03684039e-01],\n",
       "        [-3.28989724e-01,  6.12154523e-01, -5.41614559e-01,\n",
       "         -1.68514088e-01, -1.07415933e-01,  3.02990412e-01,\n",
       "          9.99151435e-02, -2.22017605e-01, -4.04753736e-02,\n",
       "         -3.42609812e-01],\n",
       "        [ 3.24354301e-01, -1.75066935e-01, -1.82231090e-01,\n",
       "          1.69114282e-01, -1.07639053e-01, -4.62995241e-02,\n",
       "         -6.31087294e-02,  2.98938482e-01,  2.99102030e-01,\n",
       "          3.79609416e-01],\n",
       "        [-1.11570362e-01,  1.68539675e-01, -1.86301707e-01,\n",
       "         -2.82681679e-01,  1.74821824e-01,  7.89948614e-02,\n",
       "          9.25683025e-02, -1.83606157e-01,  3.04768933e-01,\n",
       "         -2.62620175e-01],\n",
       "        [-9.87804816e-02,  2.68363720e-01,  1.52837576e-01,\n",
       "          1.84260911e-01, -3.52696241e-01, -7.85773327e-02,\n",
       "         -1.55084256e-02,  3.87936112e-01,  1.49786718e-01,\n",
       "         -3.31787535e-01],\n",
       "        [-2.58149631e-01, -3.26601739e-01, -3.18301821e-01,\n",
       "          1.57700341e-01, -1.75084496e-01, -2.36949438e-01,\n",
       "          5.80024344e-02,  3.06222971e-01, -7.91806161e-03,\n",
       "         -3.68847983e-01],\n",
       "        [ 3.88673774e-02,  3.00283233e-01, -2.42798178e-02,\n",
       "          2.21939094e-01, -6.21942416e-02, -2.68879862e-01,\n",
       "          3.16884285e-01,  1.71836585e-01,  3.83875129e-01,\n",
       "         -3.50091546e-01],\n",
       "        [-6.90907391e-02,  1.89722526e-01,  1.65684218e-01,\n",
       "          1.39260647e-01,  5.64803568e-02,  3.41449405e-02,\n",
       "         -2.24844519e-01, -1.10376204e-01,  5.77248328e-02,\n",
       "         -1.42851310e-01],\n",
       "        [-1.80467983e-01,  1.65475684e-01, -1.71729395e-01,\n",
       "         -2.58489596e-02, -1.41835591e-01, -5.99656431e-02,\n",
       "         -1.03610583e-01,  4.38705226e-03, -2.53772112e-02,\n",
       "          3.09465629e-01],\n",
       "        [-2.81870683e-01,  8.60099927e-02,  7.69373612e-02,\n",
       "         -1.48332392e-01, -2.07017962e-01, -2.18499812e-01,\n",
       "         -1.43491358e-01, -2.02765510e-01, -1.59828513e-01,\n",
       "         -1.42732489e-01],\n",
       "        [ 2.28633568e-02,  1.56303614e-01,  2.87509130e-02,\n",
       "          1.82752577e-01,  2.63610464e-01, -3.50846648e-01,\n",
       "          1.77021947e-01, -1.09533051e-01,  8.50134624e-02,\n",
       "         -1.38774128e-01],\n",
       "        [ 9.10293413e-03, -3.75748523e-01, -2.83452426e-01,\n",
       "          3.12479236e-01, -2.89053189e-02, -3.32719347e-01,\n",
       "         -1.61489099e-01, -1.61435004e-01, -3.60472158e-01,\n",
       "          8.71680576e-02],\n",
       "        [ 6.44477868e-02,  1.21620963e-01, -2.49513804e-01,\n",
       "          5.31470388e-02, -2.14981042e-01, -1.16355761e-01,\n",
       "          2.65278655e-01,  2.90319073e-01, -2.37646446e-01,\n",
       "         -4.29866509e-02],\n",
       "        [-1.39619543e-01,  5.18643863e-01,  1.17781248e-01,\n",
       "         -3.63218035e-01,  1.08198606e-01, -2.89185353e-01,\n",
       "         -3.76118565e-03, -4.93440585e-02, -1.23496672e-02,\n",
       "         -3.29922253e-02],\n",
       "        [ 3.78054078e-01,  6.18632745e-02,  2.22707005e-02,\n",
       "         -3.22670047e-02,  1.66139626e-01, -3.35782348e-01,\n",
       "          1.05364098e-01, -6.83396520e-02,  4.77863991e-02,\n",
       "         -2.93250245e-01],\n",
       "        [-3.75767841e-01,  2.82686802e-01, -3.05330542e-01,\n",
       "          1.43690928e-01,  2.59633277e-01, -2.77025308e-01,\n",
       "         -3.02093735e-01, -3.23779895e-01, -4.43592732e-02,\n",
       "          1.17008307e-01],\n",
       "        [ 1.77552130e-01,  3.73564543e-01,  1.36436499e-01,\n",
       "         -3.14456782e-01,  6.18414891e-02, -3.58404471e-01,\n",
       "          1.10131146e-01,  2.55039226e-01,  2.87759027e-01,\n",
       "          7.52060199e-02],\n",
       "        [-1.24796361e-02,  2.62002284e-01, -1.96091412e-01,\n",
       "         -2.95226777e-01, -6.88020101e-01,  2.95121585e-01,\n",
       "          1.55970597e-01, -3.25016054e-02, -2.52547383e-01,\n",
       "         -3.28328724e-01],\n",
       "        [-2.48108477e-02, -3.05179947e-01,  2.06660461e-01,\n",
       "          1.03877398e-01, -8.18634714e-02, -2.38396899e-01,\n",
       "          2.10835493e-01,  2.04784197e-01, -2.09558399e-01,\n",
       "         -1.88665957e-01],\n",
       "        [ 7.34060286e-03,  3.34438428e-01, -1.31814753e-01,\n",
       "          2.38215673e-01, -2.97477959e-01, -3.56261192e-01,\n",
       "         -3.23443147e-01,  4.40288007e-02,  2.93384624e-01,\n",
       "         -3.27071813e-01],\n",
       "        [ 4.36158757e-02,  9.51138640e-01, -6.16285392e-01,\n",
       "         -1.24482838e-01, -8.74868894e-01, -1.78981175e-01,\n",
       "         -1.70417936e-01, -4.51314908e-01, -2.30768422e-01,\n",
       "         -2.67428057e-01],\n",
       "        [-1.15112674e-01, -6.75446746e+00, -3.96217805e-01,\n",
       "         -2.88296417e-01, -8.84062759e-01, -1.06588112e-01,\n",
       "         -2.09518458e-01, -4.50507326e-01,  1.25580307e+00,\n",
       "         -1.11829496e-01],\n",
       "        [-3.02357286e-01,  3.61647914e-01, -5.44196537e-01,\n",
       "         -9.69757437e-02, -1.08655580e-01,  8.79561240e-02,\n",
       "          2.14887286e-01, -4.12736563e-01,  1.15574374e-01,\n",
       "         -2.41653059e-01],\n",
       "        [-3.19032726e-01,  2.02844672e-01, -3.19810006e-01,\n",
       "         -1.29929068e-01, -3.86195745e-01, -2.27640434e-01,\n",
       "         -2.39415317e-01, -3.08376313e-01,  1.43451805e-01,\n",
       "          2.85561951e-01],\n",
       "        [ 3.62857936e-01, -8.61749565e-03, -2.85346752e-02,\n",
       "          1.14540278e-02, -3.02389605e-01, -5.48555116e-02,\n",
       "         -1.51728347e-01,  2.42544130e-01, -2.14312755e-02,\n",
       "         -2.51503111e-01]]),\n",
       " array([[ 0.04485496],\n",
       "        [ 2.10204487],\n",
       "        [-1.05245807],\n",
       "        [-0.53860574],\n",
       "        [-0.44779   ],\n",
       "        [-0.61645037],\n",
       "        [-0.70895364],\n",
       "        [-0.48269607],\n",
       "        [ 0.48891162],\n",
       "        [-0.03866043]])]"
      ]
     },
     "execution_count": 10,
     "metadata": {},
     "output_type": "execute_result"
    }
   ],
   "source": [
    "clf.coefs_"
   ]
  },
  {
   "cell_type": "code",
   "execution_count": 11,
   "id": "3890d9b6",
   "metadata": {
    "scrolled": false
   },
   "outputs": [
    {
     "data": {
      "text/plain": [
       "[array([-0.02123337,  0.01361221,  0.02365231, -0.031993  , -0.03937169,\n",
       "        -0.03597081, -0.02679281,  0.00772975,  0.01170667,  0.00691054,\n",
       "         0.00977784,  0.0059247 , -0.01761827, -0.0476067 , -0.02935448,\n",
       "         0.02452156, -0.01840088,  0.02104505, -0.07007843, -0.02387794,\n",
       "        -0.0113126 ,  0.03956283, -0.09048969, -0.03937688,  0.00235535,\n",
       "        -0.05301852, -0.04804052, -0.01010153, -0.00648697, -0.00953527]),\n",
       " array([ 0.26388784, -0.55225903, -0.33061334, -0.00543293, -0.00111802,\n",
       "        -0.03119534, -0.08799698, -0.01449965,  0.35588112,  0.29445365]),\n",
       " array([0.25851656])]"
      ]
     },
     "execution_count": 11,
     "metadata": {},
     "output_type": "execute_result"
    }
   ],
   "source": [
    "clf.intercepts_"
   ]
  },
  {
   "cell_type": "markdown",
   "id": "982f5065",
   "metadata": {},
   "source": [
    "# 7. Prediction"
   ]
  },
  {
   "cell_type": "markdown",
   "id": "3371e2e7",
   "metadata": {},
   "source": [
    "## 7.1. Training Set"
   ]
  },
  {
   "cell_type": "code",
   "execution_count": 12,
   "id": "1fcaad0d",
   "metadata": {},
   "outputs": [],
   "source": [
    "y_pred_train = clf.predict(X_train_scaled)"
   ]
  },
  {
   "cell_type": "markdown",
   "id": "95a112f5",
   "metadata": {},
   "source": [
    "## 7.2. Test Set"
   ]
  },
  {
   "cell_type": "code",
   "execution_count": 13,
   "id": "7158701f",
   "metadata": {},
   "outputs": [],
   "source": [
    "y_pred_test = clf.predict(X_test_scaled)"
   ]
  },
  {
   "cell_type": "markdown",
   "id": "72a16acb",
   "metadata": {},
   "source": [
    "# 8. Model Evaluation"
   ]
  },
  {
   "cell_type": "markdown",
   "id": "7f9d943a",
   "metadata": {},
   "source": [
    "## 8.1. Training Set"
   ]
  },
  {
   "cell_type": "markdown",
   "id": "55f96f40",
   "metadata": {},
   "source": [
    "### 8.1.1. Confusion Matrix"
   ]
  },
  {
   "cell_type": "code",
   "execution_count": 14,
   "id": "8eb5f70b",
   "metadata": {},
   "outputs": [
    {
     "data": {
      "image/png": "[encoded data removed]",
      "text/plain": [
       "<Figure size 432x432 with 2 Axes>"
      ]
     },
     "metadata": {
      "needs_background": "light"
     },
     "output_type": "display_data"
    }
   ],
   "source": [
    "fig, ax = plt.subplots(figsize=(6, 6))\n",
    "plot_confusion_matrix(clf, X_train_scaled, y_train, ax=ax)\n",
    "plt.xticks(rotation=90)\n",
    "plt.show()"
   ]
  },
  {
   "cell_type": "markdown",
   "id": "6fb54b57",
   "metadata": {},
   "source": [
    "### 8.1.2. Scoring"
   ]
  },
  {
   "cell_type": "code",
   "execution_count": 15,
   "id": "527a7b37",
   "metadata": {},
   "outputs": [],
   "source": [
    "report = classification_report(y_train, y_pred_train, output_dict=True)"
   ]
  },
  {
   "cell_type": "code",
   "execution_count": 16,
   "id": "dfa3133a",
   "metadata": {},
   "outputs": [
    {
     "name": "stdout",
     "output_type": "stream",
     "text": [
      "accuracy = 0.6060171919770774\n"
     ]
    }
   ],
   "source": [
    "print('accuracy =', report['accuracy'])"
   ]
  },
  {
   "cell_type": "code",
   "execution_count": 17,
   "id": "042c261e",
   "metadata": {},
   "outputs": [
    {
     "data": {
      "text/html": [
       "<div>\n",
       "<style scoped>\n",
       "    .dataframe tbody tr th:only-of-type {\n",
       "        vertical-align: middle;\n",
       "    }\n",
       "\n",
       "    .dataframe tbody tr th {\n",
       "        vertical-align: top;\n",
       "    }\n",
       "\n",
       "    .dataframe thead th {\n",
       "        text-align: right;\n",
       "    }\n",
       "</style>\n",
       "<table border=\"1\" class=\"dataframe\">\n",
       "  <thead>\n",
       "    <tr style=\"text-align: right;\">\n",
       "      <th></th>\n",
       "      <th>precision</th>\n",
       "      <th>recall</th>\n",
       "      <th>f1-score</th>\n",
       "      <th>support</th>\n",
       "    </tr>\n",
       "  </thead>\n",
       "  <tbody>\n",
       "    <tr>\n",
       "      <th>healthy</th>\n",
       "      <td>0.000000</td>\n",
       "      <td>0.000000</td>\n",
       "      <td>0.000000</td>\n",
       "      <td>275.000000</td>\n",
       "    </tr>\n",
       "    <tr>\n",
       "      <th>unhealthy</th>\n",
       "      <td>0.606017</td>\n",
       "      <td>1.000000</td>\n",
       "      <td>0.754683</td>\n",
       "      <td>423.000000</td>\n",
       "    </tr>\n",
       "    <tr>\n",
       "      <th>accuracy</th>\n",
       "      <td>0.606017</td>\n",
       "      <td>0.606017</td>\n",
       "      <td>0.606017</td>\n",
       "      <td>0.606017</td>\n",
       "    </tr>\n",
       "    <tr>\n",
       "      <th>macro avg</th>\n",
       "      <td>0.303009</td>\n",
       "      <td>0.500000</td>\n",
       "      <td>0.377342</td>\n",
       "      <td>698.000000</td>\n",
       "    </tr>\n",
       "    <tr>\n",
       "      <th>weighted avg</th>\n",
       "      <td>0.367257</td>\n",
       "      <td>0.606017</td>\n",
       "      <td>0.457351</td>\n",
       "      <td>698.000000</td>\n",
       "    </tr>\n",
       "  </tbody>\n",
       "</table>\n",
       "</div>"
      ],
      "text/plain": [
       "              precision    recall  f1-score     support\n",
       "healthy        0.000000  0.000000  0.000000  275.000000\n",
       "unhealthy      0.606017  1.000000  0.754683  423.000000\n",
       "accuracy       0.606017  0.606017  0.606017    0.606017\n",
       "macro avg      0.303009  0.500000  0.377342  698.000000\n",
       "weighted avg   0.367257  0.606017  0.457351  698.000000"
      ]
     },
     "execution_count": 17,
     "metadata": {},
     "output_type": "execute_result"
    }
   ],
   "source": [
    "pd.DataFrame.from_dict(report).T"
   ]
  },
  {
   "cell_type": "markdown",
   "id": "9533f763",
   "metadata": {},
   "source": [
    "## 8.2. Test Set"
   ]
  },
  {
   "cell_type": "markdown",
   "id": "ef10b301",
   "metadata": {},
   "source": [
    "### 8.2.1. Confusion Matrix"
   ]
  },
  {
   "cell_type": "code",
   "execution_count": 18,
   "id": "aa27890a",
   "metadata": {},
   "outputs": [
    {
     "data": {
      "image/png": "[encoded data removed]",
      "text/plain": [
       "<Figure size 432x432 with 2 Axes>"
      ]
     },
     "metadata": {
      "needs_background": "light"
     },
     "output_type": "display_data"
    }
   ],
   "source": [
    "fig, ax = plt.subplots(figsize=(6, 6))\n",
    "plot_confusion_matrix(clf, X_test_scaled, y_test, ax=ax)\n",
    "plt.xticks(rotation=90)\n",
    "plt.show()"
   ]
  },
  {
   "cell_type": "markdown",
   "id": "cefece92",
   "metadata": {},
   "source": [
    "### 8.2.2. Scoring"
   ]
  },
  {
   "cell_type": "code",
   "execution_count": 19,
   "id": "9f72a11f",
   "metadata": {},
   "outputs": [],
   "source": [
    "report = classification_report(y_test, y_pred_test, output_dict=True)"
   ]
  },
  {
   "cell_type": "code",
   "execution_count": 20,
   "id": "d11d9541",
   "metadata": {},
   "outputs": [
    {
     "name": "stdout",
     "output_type": "stream",
     "text": [
      "accuracy = 0.6457142857142857\n"
     ]
    }
   ],
   "source": [
    "print('accuracy =', report['accuracy'])"
   ]
  },
  {
   "cell_type": "code",
   "execution_count": 21,
   "id": "a60bb854",
   "metadata": {},
   "outputs": [
    {
     "data": {
      "text/html": [
       "<div>\n",
       "<style scoped>\n",
       "    .dataframe tbody tr th:only-of-type {\n",
       "        vertical-align: middle;\n",
       "    }\n",
       "\n",
       "    .dataframe tbody tr th {\n",
       "        vertical-align: top;\n",
       "    }\n",
       "\n",
       "    .dataframe thead th {\n",
       "        text-align: right;\n",
       "    }\n",
       "</style>\n",
       "<table border=\"1\" class=\"dataframe\">\n",
       "  <thead>\n",
       "    <tr style=\"text-align: right;\">\n",
       "      <th></th>\n",
       "      <th>precision</th>\n",
       "      <th>recall</th>\n",
       "      <th>f1-score</th>\n",
       "      <th>support</th>\n",
       "    </tr>\n",
       "  </thead>\n",
       "  <tbody>\n",
       "    <tr>\n",
       "      <th>healthy</th>\n",
       "      <td>0.000000</td>\n",
       "      <td>0.000000</td>\n",
       "      <td>0.000000</td>\n",
       "      <td>62.000000</td>\n",
       "    </tr>\n",
       "    <tr>\n",
       "      <th>unhealthy</th>\n",
       "      <td>0.645714</td>\n",
       "      <td>1.000000</td>\n",
       "      <td>0.784722</td>\n",
       "      <td>113.000000</td>\n",
       "    </tr>\n",
       "    <tr>\n",
       "      <th>accuracy</th>\n",
       "      <td>0.645714</td>\n",
       "      <td>0.645714</td>\n",
       "      <td>0.645714</td>\n",
       "      <td>0.645714</td>\n",
       "    </tr>\n",
       "    <tr>\n",
       "      <th>macro avg</th>\n",
       "      <td>0.322857</td>\n",
       "      <td>0.500000</td>\n",
       "      <td>0.392361</td>\n",
       "      <td>175.000000</td>\n",
       "    </tr>\n",
       "    <tr>\n",
       "      <th>weighted avg</th>\n",
       "      <td>0.416947</td>\n",
       "      <td>0.645714</td>\n",
       "      <td>0.506706</td>\n",
       "      <td>175.000000</td>\n",
       "    </tr>\n",
       "  </tbody>\n",
       "</table>\n",
       "</div>"
      ],
      "text/plain": [
       "              precision    recall  f1-score     support\n",
       "healthy        0.000000  0.000000  0.000000   62.000000\n",
       "unhealthy      0.645714  1.000000  0.784722  113.000000\n",
       "accuracy       0.645714  0.645714  0.645714    0.645714\n",
       "macro avg      0.322857  0.500000  0.392361  175.000000\n",
       "weighted avg   0.416947  0.645714  0.506706  175.000000"
      ]
     },
     "execution_count": 21,
     "metadata": {},
     "output_type": "execute_result"
    }
   ],
   "source": [
    "pd.DataFrame.from_dict(report).T"
   ]
  },
  {
   "cell_type": "markdown",
   "id": "6b1cb541",
   "metadata": {},
   "source": [
    "# 9. Save Model"
   ]
  },
  {
   "cell_type": "code",
   "execution_count": 22,
   "id": "0291e4e9",
   "metadata": {},
   "outputs": [],
   "source": [
    "import pickle"
   ]
  },
  {
   "cell_type": "code",
   "execution_count": 23,
   "id": "2bf44e70",
   "metadata": {},
   "outputs": [],
   "source": [
    "pickle.dump((clf, \n",
    "             scaler),  open('deep_learning_classification_model.pickle', 'wb'))"
   ]
  },
  {
   "cell_type": "code",
   "execution_count": null,
   "id": "a088c2b0",
   "metadata": {},
   "outputs": [],
   "source": []
  }
 ],
 "metadata": {
  "kernelspec": {
   "display_name": "Python 3",
   "language": "python",
   "name": "python3"
  },
  "language_info": {
   "codemirror_mode": {
    "name": "ipython",
    "version": 3
   },
   "file_extension": ".py",
   "mimetype": "text/x-python",
   "name": "python",
   "nbconvert_exporter": "python",
   "pygments_lexer": "ipython3",
   "version": "3.8.8"
  }
 },
 "nbformat": 4,
 "nbformat_minor": 5
}
