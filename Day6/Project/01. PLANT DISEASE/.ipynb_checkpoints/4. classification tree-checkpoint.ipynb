{
 "cells": [
  {
   "cell_type": "markdown",
   "id": "57654bb6",
   "metadata": {},
   "source": [
    "# 1. Import Libraries"
   ]
  },
  {
   "cell_type": "code",
   "execution_count": 1,
   "id": "c552c7d7",
   "metadata": {},
   "outputs": [],
   "source": [
    "# !pip install opencv-python"
   ]
  },
  {
   "cell_type": "code",
   "execution_count": 2,
   "id": "2f51eef5",
   "metadata": {},
   "outputs": [],
   "source": [
    "import numpy as np\n",
    "import pandas as pd\n",
    "import matplotlib.pyplot as plt\n",
    "\n",
    "from glob import glob\n",
    "from PIL import Image\n",
    "import cv2\n",
    "from tqdm.auto import tqdm\n",
    "from sklearn.model_selection import train_test_split\n",
    "from sklearn.preprocessing import (\n",
    "    OrdinalEncoder, \n",
    "    OneHotEncoder, \n",
    "    StandardScaler, \n",
    "    MinMaxScaler\n",
    ")\n",
    "from sklearn.tree import DecisionTreeClassifier\n",
    "from sklearn.tree import export_text\n",
    "from sklearn.metrics import plot_confusion_matrix, classification_report\n",
    "\n",
    "import warnings\n",
    "warnings.filterwarnings('ignore')\n",
    "\n",
    "np.random.seed(12345)"
   ]
  },
  {
   "cell_type": "markdown",
   "id": "6707b8de",
   "metadata": {},
   "source": [
    "# 2. Read Data"
   ]
  },
  {
   "cell_type": "code",
   "execution_count": 3,
   "id": "d0ccccc3",
   "metadata": {},
   "outputs": [],
   "source": [
    "classes = ['angular_leaf_spot', 'bean_rust', 'healthy']"
   ]
  },
  {
   "cell_type": "code",
   "execution_count": 4,
   "id": "c8d0d00a",
   "metadata": {},
   "outputs": [
    {
     "data": {
      "application/vnd.jupyter.widget-view+json": {
       "model_id": "dba4f86aff8c4ec996d73f3d3afcd174",
       "version_major": 2,
       "version_minor": 0
      },
      "text/plain": [
       "  0%|          | 0/3 [00:00<?, ?it/s]"
      ]
     },
     "metadata": {},
     "output_type": "display_data"
    },
    {
     "data": {
      "application/vnd.jupyter.widget-view+json": {
       "model_id": "73ff7893b1ab4dbd9ec75c6bbe74ee3b",
       "version_major": 2,
       "version_minor": 0
      },
      "text/plain": [
       "  0%|          | 0/200 [00:00<?, ?it/s]"
      ]
     },
     "metadata": {},
     "output_type": "display_data"
    },
    {
     "data": {
      "application/vnd.jupyter.widget-view+json": {
       "model_id": "bcd9005e31234d9796977aecaa84f685",
       "version_major": 2,
       "version_minor": 0
      },
      "text/plain": [
       "  0%|          | 0/336 [00:00<?, ?it/s]"
      ]
     },
     "metadata": {},
     "output_type": "display_data"
    },
    {
     "data": {
      "application/vnd.jupyter.widget-view+json": {
       "model_id": "038dccffc79f44a3b0abb353c104cade",
       "version_major": 2,
       "version_minor": 0
      },
      "text/plain": [
       "  0%|          | 0/337 [00:00<?, ?it/s]"
      ]
     },
     "metadata": {},
     "output_type": "display_data"
    }
   ],
   "source": [
    "X = np.empty([0, 32*32*3])\n",
    "y = np.empty([0, 1])\n",
    "\n",
    "for _class in tqdm(classes):\n",
    "    img_path = glob('dataset/' + _class + '/*')\n",
    "    for path in tqdm(img_path):\n",
    "        img = Image.open(path)\n",
    "        img = img.resize([32, 32])\n",
    "        img = np.array(img)\n",
    "        if img.shape[2] == 4:\n",
    "            img = cv2.cvtColor(img, cv2.COLOR_BGRA2BGR)\n",
    "        img = img.reshape(1, -1)\n",
    "        X = np.vstack([X, img])\n",
    "        if _class == 'healthy':\n",
    "            y = np.vstack([y, 'healthy'])\n",
    "        else:\n",
    "            y = np.vstack([y, 'unhealthy'])"
   ]
  },
  {
   "cell_type": "markdown",
   "id": "aa424a64",
   "metadata": {},
   "source": [
    "# ### 3. Clean Data"
   ]
  },
  {
   "cell_type": "markdown",
   "id": "50cdff68",
   "metadata": {},
   "source": [
    "# 4. Split Dataset into Training & Test Sets"
   ]
  },
  {
   "cell_type": "code",
   "execution_count": 5,
   "id": "f0fb4ed9",
   "metadata": {},
   "outputs": [],
   "source": [
    "X_train, X_test, y_train, y_test = train_test_split(X, y, test_size=0.20, shuffle=True)"
   ]
  },
  {
   "cell_type": "markdown",
   "id": "ed13b65f",
   "metadata": {},
   "source": [
    "# 5. Data Preparation"
   ]
  },
  {
   "cell_type": "markdown",
   "id": "7e7af4f1",
   "metadata": {},
   "source": [
    "## ### 5.1. Ordinal Encoding"
   ]
  },
  {
   "cell_type": "markdown",
   "id": "a25e32e6",
   "metadata": {},
   "source": [
    "## ### 5.2. One Hot Encoding"
   ]
  },
  {
   "cell_type": "markdown",
   "id": "0496a49f",
   "metadata": {},
   "source": [
    "## ### 5.3. Feature Scaling"
   ]
  },
  {
   "cell_type": "markdown",
   "id": "f77fb5ee",
   "metadata": {},
   "source": [
    "# 6. Model Creation"
   ]
  },
  {
   "cell_type": "markdown",
   "id": "e81df55a",
   "metadata": {},
   "source": [
    "## 6.1. Setting Parameters"
   ]
  },
  {
   "cell_type": "code",
   "execution_count": 6,
   "id": "fd1486a3",
   "metadata": {},
   "outputs": [],
   "source": [
    "clf = DecisionTreeClassifier(max_depth=3)"
   ]
  },
  {
   "cell_type": "markdown",
   "id": "4cb08aa4",
   "metadata": {},
   "source": [
    "## 6.2. Train Model"
   ]
  },
  {
   "cell_type": "code",
   "execution_count": 7,
   "id": "8aa8df52",
   "metadata": {},
   "outputs": [
    {
     "data": {
      "text/plain": [
       "DecisionTreeClassifier(max_depth=3)"
      ]
     },
     "execution_count": 7,
     "metadata": {},
     "output_type": "execute_result"
    }
   ],
   "source": [
    "clf.fit(X_train, y_train)"
   ]
  },
  {
   "cell_type": "markdown",
   "id": "982f5065",
   "metadata": {},
   "source": [
    "# 7. Prediction"
   ]
  },
  {
   "cell_type": "markdown",
   "id": "3371e2e7",
   "metadata": {},
   "source": [
    "## 7.1. Training Set"
   ]
  },
  {
   "cell_type": "code",
   "execution_count": 8,
   "id": "1fcaad0d",
   "metadata": {},
   "outputs": [],
   "source": [
    "y_pred_train = clf.predict(X_train)"
   ]
  },
  {
   "cell_type": "markdown",
   "id": "95a112f5",
   "metadata": {},
   "source": [
    "## 7.2. Test Set"
   ]
  },
  {
   "cell_type": "code",
   "execution_count": 9,
   "id": "7158701f",
   "metadata": {},
   "outputs": [],
   "source": [
    "y_pred_test = clf.predict(X_test)"
   ]
  },
  {
   "cell_type": "markdown",
   "id": "72a16acb",
   "metadata": {},
   "source": [
    "# 8. Model Evaluation"
   ]
  },
  {
   "cell_type": "markdown",
   "id": "7f9d943a",
   "metadata": {},
   "source": [
    "## 8.1. Training Set"
   ]
  },
  {
   "cell_type": "markdown",
   "id": "55f96f40",
   "metadata": {},
   "source": [
    "### 8.1.1. Confusion Matrix"
   ]
  },
  {
   "cell_type": "code",
   "execution_count": 10,
   "id": "8eb5f70b",
   "metadata": {},
   "outputs": [
    {
     "data": {
      "image/png": "[encoded data removed]",
      "text/plain": [
       "<Figure size 432x432 with 2 Axes>"
      ]
     },
     "metadata": {
      "needs_background": "light"
     },
     "output_type": "display_data"
    }
   ],
   "source": [
    "fig, ax = plt.subplots(figsize=(6, 6))\n",
    "plot_confusion_matrix(clf, X_train, y_train, ax=ax)\n",
    "plt.xticks(rotation=90)\n",
    "plt.show()"
   ]
  },
  {
   "cell_type": "markdown",
   "id": "6fb54b57",
   "metadata": {},
   "source": [
    "### 8.1.2. Scoring"
   ]
  },
  {
   "cell_type": "code",
   "execution_count": 11,
   "id": "527a7b37",
   "metadata": {},
   "outputs": [],
   "source": [
    "report = classification_report(y_train, y_pred_train, output_dict=True)"
   ]
  },
  {
   "cell_type": "code",
   "execution_count": 12,
   "id": "dfa3133a",
   "metadata": {},
   "outputs": [
    {
     "name": "stdout",
     "output_type": "stream",
     "text": [
      "accuracy = 0.8037249283667621\n"
     ]
    }
   ],
   "source": [
    "print('accuracy =', report['accuracy'])"
   ]
  },
  {
   "cell_type": "code",
   "execution_count": 13,
   "id": "042c261e",
   "metadata": {},
   "outputs": [
    {
     "data": {
      "text/html": [
       "<div>\n",
       "<style scoped>\n",
       "    .dataframe tbody tr th:only-of-type {\n",
       "        vertical-align: middle;\n",
       "    }\n",
       "\n",
       "    .dataframe tbody tr th {\n",
       "        vertical-align: top;\n",
       "    }\n",
       "\n",
       "    .dataframe thead th {\n",
       "        text-align: right;\n",
       "    }\n",
       "</style>\n",
       "<table border=\"1\" class=\"dataframe\">\n",
       "  <thead>\n",
       "    <tr style=\"text-align: right;\">\n",
       "      <th></th>\n",
       "      <th>precision</th>\n",
       "      <th>recall</th>\n",
       "      <th>f1-score</th>\n",
       "      <th>support</th>\n",
       "    </tr>\n",
       "  </thead>\n",
       "  <tbody>\n",
       "    <tr>\n",
       "      <th>healthy</th>\n",
       "      <td>0.721154</td>\n",
       "      <td>0.818182</td>\n",
       "      <td>0.766610</td>\n",
       "      <td>275.000000</td>\n",
       "    </tr>\n",
       "    <tr>\n",
       "      <th>unhealthy</th>\n",
       "      <td>0.870466</td>\n",
       "      <td>0.794326</td>\n",
       "      <td>0.830655</td>\n",
       "      <td>423.000000</td>\n",
       "    </tr>\n",
       "    <tr>\n",
       "      <th>accuracy</th>\n",
       "      <td>0.803725</td>\n",
       "      <td>0.803725</td>\n",
       "      <td>0.803725</td>\n",
       "      <td>0.803725</td>\n",
       "    </tr>\n",
       "    <tr>\n",
       "      <th>macro avg</th>\n",
       "      <td>0.795810</td>\n",
       "      <td>0.806254</td>\n",
       "      <td>0.798633</td>\n",
       "      <td>698.000000</td>\n",
       "    </tr>\n",
       "    <tr>\n",
       "      <th>weighted avg</th>\n",
       "      <td>0.811640</td>\n",
       "      <td>0.803725</td>\n",
       "      <td>0.805422</td>\n",
       "      <td>698.000000</td>\n",
       "    </tr>\n",
       "  </tbody>\n",
       "</table>\n",
       "</div>"
      ],
      "text/plain": [
       "              precision    recall  f1-score     support\n",
       "healthy        0.721154  0.818182  0.766610  275.000000\n",
       "unhealthy      0.870466  0.794326  0.830655  423.000000\n",
       "accuracy       0.803725  0.803725  0.803725    0.803725\n",
       "macro avg      0.795810  0.806254  0.798633  698.000000\n",
       "weighted avg   0.811640  0.803725  0.805422  698.000000"
      ]
     },
     "execution_count": 13,
     "metadata": {},
     "output_type": "execute_result"
    }
   ],
   "source": [
    "pd.DataFrame.from_dict(report).T"
   ]
  },
  {
   "cell_type": "markdown",
   "id": "9533f763",
   "metadata": {},
   "source": [
    "## 8.2. Test Set"
   ]
  },
  {
   "cell_type": "markdown",
   "id": "ef10b301",
   "metadata": {},
   "source": [
    "### 8.2.1. Confusion Matrix"
   ]
  },
  {
   "cell_type": "code",
   "execution_count": 14,
   "id": "aa27890a",
   "metadata": {},
   "outputs": [
    {
     "data": {
      "image/png": "[encoded data removed]",
      "text/plain": [
       "<Figure size 432x432 with 2 Axes>"
      ]
     },
     "metadata": {
      "needs_background": "light"
     },
     "output_type": "display_data"
    }
   ],
   "source": [
    "fig, ax = plt.subplots(figsize=(6, 6))\n",
    "plot_confusion_matrix(clf, X_test, y_test, ax=ax)\n",
    "plt.xticks(rotation=90)\n",
    "plt.show()"
   ]
  },
  {
   "cell_type": "markdown",
   "id": "cefece92",
   "metadata": {},
   "source": [
    "### 8.2.2. Scoring"
   ]
  },
  {
   "cell_type": "code",
   "execution_count": 15,
   "id": "9f72a11f",
   "metadata": {},
   "outputs": [],
   "source": [
    "report = classification_report(y_test, y_pred_test, output_dict=True)"
   ]
  },
  {
   "cell_type": "code",
   "execution_count": 16,
   "id": "d11d9541",
   "metadata": {},
   "outputs": [
    {
     "name": "stdout",
     "output_type": "stream",
     "text": [
      "accuracy = 0.64\n"
     ]
    }
   ],
   "source": [
    "print('accuracy =', report['accuracy'])"
   ]
  },
  {
   "cell_type": "code",
   "execution_count": 17,
   "id": "a60bb854",
   "metadata": {},
   "outputs": [
    {
     "data": {
      "text/html": [
       "<div>\n",
       "<style scoped>\n",
       "    .dataframe tbody tr th:only-of-type {\n",
       "        vertical-align: middle;\n",
       "    }\n",
       "\n",
       "    .dataframe tbody tr th {\n",
       "        vertical-align: top;\n",
       "    }\n",
       "\n",
       "    .dataframe thead th {\n",
       "        text-align: right;\n",
       "    }\n",
       "</style>\n",
       "<table border=\"1\" class=\"dataframe\">\n",
       "  <thead>\n",
       "    <tr style=\"text-align: right;\">\n",
       "      <th></th>\n",
       "      <th>precision</th>\n",
       "      <th>recall</th>\n",
       "      <th>f1-score</th>\n",
       "      <th>support</th>\n",
       "    </tr>\n",
       "  </thead>\n",
       "  <tbody>\n",
       "    <tr>\n",
       "      <th>healthy</th>\n",
       "      <td>0.494253</td>\n",
       "      <td>0.693548</td>\n",
       "      <td>0.577181</td>\n",
       "      <td>62.00</td>\n",
       "    </tr>\n",
       "    <tr>\n",
       "      <th>unhealthy</th>\n",
       "      <td>0.784091</td>\n",
       "      <td>0.610619</td>\n",
       "      <td>0.686567</td>\n",
       "      <td>113.00</td>\n",
       "    </tr>\n",
       "    <tr>\n",
       "      <th>accuracy</th>\n",
       "      <td>0.640000</td>\n",
       "      <td>0.640000</td>\n",
       "      <td>0.640000</td>\n",
       "      <td>0.64</td>\n",
       "    </tr>\n",
       "    <tr>\n",
       "      <th>macro avg</th>\n",
       "      <td>0.639172</td>\n",
       "      <td>0.652084</td>\n",
       "      <td>0.631874</td>\n",
       "      <td>175.00</td>\n",
       "    </tr>\n",
       "    <tr>\n",
       "      <th>weighted avg</th>\n",
       "      <td>0.681405</td>\n",
       "      <td>0.640000</td>\n",
       "      <td>0.647813</td>\n",
       "      <td>175.00</td>\n",
       "    </tr>\n",
       "  </tbody>\n",
       "</table>\n",
       "</div>"
      ],
      "text/plain": [
       "              precision    recall  f1-score  support\n",
       "healthy        0.494253  0.693548  0.577181    62.00\n",
       "unhealthy      0.784091  0.610619  0.686567   113.00\n",
       "accuracy       0.640000  0.640000  0.640000     0.64\n",
       "macro avg      0.639172  0.652084  0.631874   175.00\n",
       "weighted avg   0.681405  0.640000  0.647813   175.00"
      ]
     },
     "execution_count": 17,
     "metadata": {},
     "output_type": "execute_result"
    }
   ],
   "source": [
    "pd.DataFrame.from_dict(report).T"
   ]
  },
  {
   "cell_type": "markdown",
   "id": "6b1cb541",
   "metadata": {},
   "source": [
    "# 9. Save Model"
   ]
  },
  {
   "cell_type": "code",
   "execution_count": 18,
   "id": "0291e4e9",
   "metadata": {},
   "outputs": [],
   "source": [
    "import pickle"
   ]
  },
  {
   "cell_type": "code",
   "execution_count": 19,
   "id": "2bf44e70",
   "metadata": {},
   "outputs": [],
   "source": [
    "pickle.dump((clf),  open('classification_tree_model.pickle', 'wb'))"
   ]
  },
  {
   "cell_type": "code",
   "execution_count": null,
   "id": "a088c2b0",
   "metadata": {},
   "outputs": [],
   "source": []
  }
 ],
 "metadata": {
  "kernelspec": {
   "display_name": "Python 3",
   "language": "python",
   "name": "python3"
  },
  "language_info": {
   "codemirror_mode": {
    "name": "ipython",
    "version": 3
   },
   "file_extension": ".py",
   "mimetype": "text/x-python",
   "name": "python",
   "nbconvert_exporter": "python",
   "pygments_lexer": "ipython3",
   "version": "3.8.8"
  }
 },
 "nbformat": 4,
 "nbformat_minor": 5
}
