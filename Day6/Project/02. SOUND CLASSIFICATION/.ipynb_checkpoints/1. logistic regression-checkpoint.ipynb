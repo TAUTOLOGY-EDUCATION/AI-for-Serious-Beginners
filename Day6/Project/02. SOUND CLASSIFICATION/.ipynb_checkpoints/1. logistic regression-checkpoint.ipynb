{
 "cells": [
  {
   "cell_type": "markdown",
   "id": "57654bb6",
   "metadata": {},
   "source": [
    "# 1. Import Libraries"
   ]
  },
  {
   "cell_type": "code",
   "execution_count": 1,
   "id": "8fed3130",
   "metadata": {},
   "outputs": [],
   "source": [
    "# !pip install opencv-python"
   ]
  },
  {
   "cell_type": "code",
   "execution_count": 2,
   "id": "2f51eef5",
   "metadata": {},
   "outputs": [],
   "source": [
    "import numpy as np\n",
    "import pandas as pd\n",
    "import matplotlib.pyplot as plt\n",
    "\n",
    "from glob import glob\n",
    "import librosa\n",
    "import cv2\n",
    "from tqdm.auto import tqdm\n",
    "from sklearn.model_selection import train_test_split\n",
    "from sklearn.preprocessing import (\n",
    "    OrdinalEncoder, \n",
    "    OneHotEncoder, \n",
    "    StandardScaler, \n",
    "    MinMaxScaler\n",
    ")\n",
    "from sklearn.linear_model import LogisticRegression\n",
    "from sklearn.metrics import plot_confusion_matrix, classification_report\n",
    "\n",
    "import warnings\n",
    "warnings.filterwarnings('ignore')\n",
    "\n",
    "np.random.seed(12345)"
   ]
  },
  {
   "cell_type": "markdown",
   "id": "6707b8de",
   "metadata": {},
   "source": [
    "# 2. Read Data"
   ]
  },
  {
   "cell_type": "code",
   "execution_count": 3,
   "id": "fdc8e1e6",
   "metadata": {},
   "outputs": [],
   "source": [
    "def get_img(voice_data, sampling_data, mode):\n",
    "    if mode == 'spec':\n",
    "        stft = np.abs(librosa.core.spectrum.stft(voice_data))\n",
    "        return librosa.amplitude_to_db(stft, ref=np.max)\n",
    "    elif mode == 'mel':\n",
    "        stft = np.abs(librosa.feature.melspectrogram(voice_data))\n",
    "        return librosa.amplitude_to_db(stft, ref=np.max)\n",
    "    elif mode == 'chrom':\n",
    "        stft = np.abs(librosa.core.spectrum.stft(voice_data))\n",
    "        return librosa.feature.chroma_stft(S=stft, sr=sampling_rate)"
   ]
  },
  {
   "cell_type": "code",
   "execution_count": 4,
   "id": "d0ccccc3",
   "metadata": {},
   "outputs": [],
   "source": [
    "classes = ['cat', 'dog']"
   ]
  },
  {
   "cell_type": "code",
   "execution_count": 5,
   "id": "c8d0d00a",
   "metadata": {},
   "outputs": [
    {
     "data": {
      "application/vnd.jupyter.widget-view+json": {
       "model_id": "b098a624744b48baa7d0ecaefb634e0c",
       "version_major": 2,
       "version_minor": 0
      },
      "text/plain": [
       "  0%|          | 0/2 [00:00<?, ?it/s]"
      ]
     },
     "metadata": {},
     "output_type": "display_data"
    },
    {
     "data": {
      "application/vnd.jupyter.widget-view+json": {
       "model_id": "2e8661f339f0459f9ee309838608d1ea",
       "version_major": 2,
       "version_minor": 0
      },
      "text/plain": [
       "  0%|          | 0/164 [00:00<?, ?it/s]"
      ]
     },
     "metadata": {},
     "output_type": "display_data"
    },
    {
     "data": {
      "application/vnd.jupyter.widget-view+json": {
       "model_id": "72e5f2baed444bb4b4afa99fd5ac28b4",
       "version_major": 2,
       "version_minor": 0
      },
      "text/plain": [
       "  0%|          | 0/113 [00:00<?, ?it/s]"
      ]
     },
     "metadata": {},
     "output_type": "display_data"
    }
   ],
   "source": [
    "mode = 'mel'\n",
    "\n",
    "width = 256\n",
    "height = 32\n",
    "\n",
    "X = np.empty([0, width*height])\n",
    "y = np.empty([0, 1])\n",
    "\n",
    "for _class in tqdm(classes):\n",
    "    sound_path = glob('dataset/' + _class + '/*')\n",
    "    for path in tqdm(sound_path):\n",
    "        voice_data, sampling_rate = librosa.load(path)\n",
    "        img = get_img(voice_data, sampling_rate, mode)\n",
    "        img = cv2.resize(img, dsize=(width, height))\n",
    "        img = img.reshape(1, -1)\n",
    "        X = np.vstack([X, img])\n",
    "        y = np.vstack([y, _class])"
   ]
  },
  {
   "cell_type": "markdown",
   "id": "aa424a64",
   "metadata": {},
   "source": [
    "# ### 3. Clean Data"
   ]
  },
  {
   "cell_type": "markdown",
   "id": "50cdff68",
   "metadata": {},
   "source": [
    "# 4. Split Dataset into Training & Test Sets"
   ]
  },
  {
   "cell_type": "code",
   "execution_count": 6,
   "id": "b2f226c6",
   "metadata": {},
   "outputs": [],
   "source": [
    "X_train, X_test, y_train, y_test = train_test_split(X, y, test_size=0.20, shuffle=True)"
   ]
  },
  {
   "cell_type": "markdown",
   "id": "ed13b65f",
   "metadata": {},
   "source": [
    "# 5. Data Preparation"
   ]
  },
  {
   "cell_type": "markdown",
   "id": "7e7af4f1",
   "metadata": {},
   "source": [
    "## ### 5.1. Ordinal Encoding"
   ]
  },
  {
   "cell_type": "markdown",
   "id": "a25e32e6",
   "metadata": {},
   "source": [
    "## ### 5.2. One Hot Encoding"
   ]
  },
  {
   "cell_type": "markdown",
   "id": "6aeaeb0a",
   "metadata": {},
   "source": [
    "## 5.3. Feature Scaling"
   ]
  },
  {
   "cell_type": "markdown",
   "id": "6bd90e8d",
   "metadata": {},
   "source": [
    "### 5.3.1. Training Set"
   ]
  },
  {
   "cell_type": "code",
   "execution_count": 7,
   "id": "bd4efdd2",
   "metadata": {},
   "outputs": [],
   "source": [
    "scaler = MinMaxScaler()\n",
    "X_train_scaled = scaler.fit_transform(X_train)"
   ]
  },
  {
   "cell_type": "markdown",
   "id": "f370ec47",
   "metadata": {},
   "source": [
    "### 5.3.2. Test Set"
   ]
  },
  {
   "cell_type": "code",
   "execution_count": 8,
   "id": "72df8ec8",
   "metadata": {},
   "outputs": [],
   "source": [
    "X_test_scaled = scaler.transform(X_test)"
   ]
  },
  {
   "cell_type": "markdown",
   "id": "f77fb5ee",
   "metadata": {},
   "source": [
    "# 6. Model Creation"
   ]
  },
  {
   "cell_type": "markdown",
   "id": "e81df55a",
   "metadata": {},
   "source": [
    "## 6.1. Setting Parameters"
   ]
  },
  {
   "cell_type": "code",
   "execution_count": 9,
   "id": "fd1486a3",
   "metadata": {},
   "outputs": [],
   "source": [
    "clf = LogisticRegression()"
   ]
  },
  {
   "cell_type": "markdown",
   "id": "4cb08aa4",
   "metadata": {},
   "source": [
    "## 6.2. Train Model"
   ]
  },
  {
   "cell_type": "code",
   "execution_count": 10,
   "id": "8aa8df52",
   "metadata": {},
   "outputs": [
    {
     "data": {
      "text/plain": [
       "LogisticRegression()"
      ]
     },
     "execution_count": 10,
     "metadata": {},
     "output_type": "execute_result"
    }
   ],
   "source": [
    "clf.fit(X_train_scaled, y_train)"
   ]
  },
  {
   "cell_type": "markdown",
   "id": "7f33bb7b",
   "metadata": {},
   "source": [
    "## 6.3. Model's Weight & Bias"
   ]
  },
  {
   "cell_type": "code",
   "execution_count": 11,
   "id": "ff6657d5",
   "metadata": {},
   "outputs": [
    {
     "data": {
      "text/plain": [
       "array([[-0.00748799, -0.08200963, -0.07525286, ...,  0.00479395,\n",
       "         0.00479395,  0.00479395]])"
      ]
     },
     "execution_count": 11,
     "metadata": {},
     "output_type": "execute_result"
    }
   ],
   "source": [
    "clf.coef_"
   ]
  },
  {
   "cell_type": "code",
   "execution_count": 12,
   "id": "3890d9b6",
   "metadata": {
    "scrolled": false
   },
   "outputs": [
    {
     "data": {
      "text/plain": [
       "array([-4.30541427])"
      ]
     },
     "execution_count": 12,
     "metadata": {},
     "output_type": "execute_result"
    }
   ],
   "source": [
    "clf.intercept_"
   ]
  },
  {
   "cell_type": "markdown",
   "id": "982f5065",
   "metadata": {},
   "source": [
    "# 7. Prediction"
   ]
  },
  {
   "cell_type": "markdown",
   "id": "3371e2e7",
   "metadata": {},
   "source": [
    "## 7.1. Training Set"
   ]
  },
  {
   "cell_type": "code",
   "execution_count": 13,
   "id": "1fcaad0d",
   "metadata": {},
   "outputs": [],
   "source": [
    "y_pred_train = clf.predict(X_train_scaled)"
   ]
  },
  {
   "cell_type": "markdown",
   "id": "95a112f5",
   "metadata": {},
   "source": [
    "## 7.2. Test Set"
   ]
  },
  {
   "cell_type": "code",
   "execution_count": 14,
   "id": "7158701f",
   "metadata": {},
   "outputs": [],
   "source": [
    "y_pred_test = clf.predict(X_test_scaled)"
   ]
  },
  {
   "cell_type": "markdown",
   "id": "72a16acb",
   "metadata": {},
   "source": [
    "# 8. Model Evaluation"
   ]
  },
  {
   "cell_type": "markdown",
   "id": "7f9d943a",
   "metadata": {},
   "source": [
    "## 8.1. Training Set"
   ]
  },
  {
   "cell_type": "markdown",
   "id": "55f96f40",
   "metadata": {},
   "source": [
    "### 8.1.1. Confusion Matrix"
   ]
  },
  {
   "cell_type": "code",
   "execution_count": 15,
   "id": "8eb5f70b",
   "metadata": {},
   "outputs": [
    {
     "data": {
      "image/png": "[encoded data removed]",
      "text/plain": [
       "<Figure size 432x432 with 2 Axes>"
      ]
     },
     "metadata": {
      "needs_background": "light"
     },
     "output_type": "display_data"
    }
   ],
   "source": [
    "fig, ax = plt.subplots(figsize=(6, 6))\n",
    "plot_confusion_matrix(clf, X_train_scaled, y_train, ax=ax)\n",
    "plt.xticks(rotation=90)\n",
    "plt.show()"
   ]
  },
  {
   "cell_type": "markdown",
   "id": "6fb54b57",
   "metadata": {},
   "source": [
    "### 8.1.2. Scoring"
   ]
  },
  {
   "cell_type": "code",
   "execution_count": 16,
   "id": "527a7b37",
   "metadata": {},
   "outputs": [],
   "source": [
    "report = classification_report(y_train, y_pred_train, output_dict=True)"
   ]
  },
  {
   "cell_type": "code",
   "execution_count": 17,
   "id": "dfa3133a",
   "metadata": {},
   "outputs": [
    {
     "name": "stdout",
     "output_type": "stream",
     "text": [
      "accuracy = 1.0\n"
     ]
    }
   ],
   "source": [
    "print('accuracy =', report['accuracy'])"
   ]
  },
  {
   "cell_type": "code",
   "execution_count": 18,
   "id": "042c261e",
   "metadata": {},
   "outputs": [
    {
     "data": {
      "text/html": [
       "<div>\n",
       "<style scoped>\n",
       "    .dataframe tbody tr th:only-of-type {\n",
       "        vertical-align: middle;\n",
       "    }\n",
       "\n",
       "    .dataframe tbody tr th {\n",
       "        vertical-align: top;\n",
       "    }\n",
       "\n",
       "    .dataframe thead th {\n",
       "        text-align: right;\n",
       "    }\n",
       "</style>\n",
       "<table border=\"1\" class=\"dataframe\">\n",
       "  <thead>\n",
       "    <tr style=\"text-align: right;\">\n",
       "      <th></th>\n",
       "      <th>precision</th>\n",
       "      <th>recall</th>\n",
       "      <th>f1-score</th>\n",
       "      <th>support</th>\n",
       "    </tr>\n",
       "  </thead>\n",
       "  <tbody>\n",
       "    <tr>\n",
       "      <th>cat</th>\n",
       "      <td>1.0</td>\n",
       "      <td>1.0</td>\n",
       "      <td>1.0</td>\n",
       "      <td>129.0</td>\n",
       "    </tr>\n",
       "    <tr>\n",
       "      <th>dog</th>\n",
       "      <td>1.0</td>\n",
       "      <td>1.0</td>\n",
       "      <td>1.0</td>\n",
       "      <td>92.0</td>\n",
       "    </tr>\n",
       "    <tr>\n",
       "      <th>accuracy</th>\n",
       "      <td>1.0</td>\n",
       "      <td>1.0</td>\n",
       "      <td>1.0</td>\n",
       "      <td>1.0</td>\n",
       "    </tr>\n",
       "    <tr>\n",
       "      <th>macro avg</th>\n",
       "      <td>1.0</td>\n",
       "      <td>1.0</td>\n",
       "      <td>1.0</td>\n",
       "      <td>221.0</td>\n",
       "    </tr>\n",
       "    <tr>\n",
       "      <th>weighted avg</th>\n",
       "      <td>1.0</td>\n",
       "      <td>1.0</td>\n",
       "      <td>1.0</td>\n",
       "      <td>221.0</td>\n",
       "    </tr>\n",
       "  </tbody>\n",
       "</table>\n",
       "</div>"
      ],
      "text/plain": [
       "              precision  recall  f1-score  support\n",
       "cat                 1.0     1.0       1.0    129.0\n",
       "dog                 1.0     1.0       1.0     92.0\n",
       "accuracy            1.0     1.0       1.0      1.0\n",
       "macro avg           1.0     1.0       1.0    221.0\n",
       "weighted avg        1.0     1.0       1.0    221.0"
      ]
     },
     "execution_count": 18,
     "metadata": {},
     "output_type": "execute_result"
    }
   ],
   "source": [
    "pd.DataFrame.from_dict(report).T"
   ]
  },
  {
   "cell_type": "markdown",
   "id": "9533f763",
   "metadata": {},
   "source": [
    "## 8.2. Test Set"
   ]
  },
  {
   "cell_type": "markdown",
   "id": "ef10b301",
   "metadata": {},
   "source": [
    "### 8.2.1. Confusion Matrix"
   ]
  },
  {
   "cell_type": "code",
   "execution_count": 19,
   "id": "aa27890a",
   "metadata": {},
   "outputs": [
    {
     "data": {
      "image/png": "[encoded data removed]",
      "text/plain": [
       "<Figure size 432x432 with 2 Axes>"
      ]
     },
     "metadata": {
      "needs_background": "light"
     },
     "output_type": "display_data"
    }
   ],
   "source": [
    "fig, ax = plt.subplots(figsize=(6, 6))\n",
    "plot_confusion_matrix(clf, X_test_scaled, y_test, ax=ax)\n",
    "plt.xticks(rotation=90)\n",
    "plt.show()"
   ]
  },
  {
   "cell_type": "markdown",
   "id": "cefece92",
   "metadata": {},
   "source": [
    "### 8.2.2. Scoring"
   ]
  },
  {
   "cell_type": "code",
   "execution_count": 20,
   "id": "9f72a11f",
   "metadata": {},
   "outputs": [],
   "source": [
    "report = classification_report(y_test, y_pred_test, output_dict=True)"
   ]
  },
  {
   "cell_type": "code",
   "execution_count": 21,
   "id": "d11d9541",
   "metadata": {},
   "outputs": [
    {
     "name": "stdout",
     "output_type": "stream",
     "text": [
      "accuracy = 0.8035714285714286\n"
     ]
    }
   ],
   "source": [
    "print('accuracy =', report['accuracy'])"
   ]
  },
  {
   "cell_type": "code",
   "execution_count": 22,
   "id": "a60bb854",
   "metadata": {},
   "outputs": [
    {
     "data": {
      "text/html": [
       "<div>\n",
       "<style scoped>\n",
       "    .dataframe tbody tr th:only-of-type {\n",
       "        vertical-align: middle;\n",
       "    }\n",
       "\n",
       "    .dataframe tbody tr th {\n",
       "        vertical-align: top;\n",
       "    }\n",
       "\n",
       "    .dataframe thead th {\n",
       "        text-align: right;\n",
       "    }\n",
       "</style>\n",
       "<table border=\"1\" class=\"dataframe\">\n",
       "  <thead>\n",
       "    <tr style=\"text-align: right;\">\n",
       "      <th></th>\n",
       "      <th>precision</th>\n",
       "      <th>recall</th>\n",
       "      <th>f1-score</th>\n",
       "      <th>support</th>\n",
       "    </tr>\n",
       "  </thead>\n",
       "  <tbody>\n",
       "    <tr>\n",
       "      <th>cat</th>\n",
       "      <td>0.815789</td>\n",
       "      <td>0.885714</td>\n",
       "      <td>0.849315</td>\n",
       "      <td>35.000000</td>\n",
       "    </tr>\n",
       "    <tr>\n",
       "      <th>dog</th>\n",
       "      <td>0.777778</td>\n",
       "      <td>0.666667</td>\n",
       "      <td>0.717949</td>\n",
       "      <td>21.000000</td>\n",
       "    </tr>\n",
       "    <tr>\n",
       "      <th>accuracy</th>\n",
       "      <td>0.803571</td>\n",
       "      <td>0.803571</td>\n",
       "      <td>0.803571</td>\n",
       "      <td>0.803571</td>\n",
       "    </tr>\n",
       "    <tr>\n",
       "      <th>macro avg</th>\n",
       "      <td>0.796784</td>\n",
       "      <td>0.776190</td>\n",
       "      <td>0.783632</td>\n",
       "      <td>56.000000</td>\n",
       "    </tr>\n",
       "    <tr>\n",
       "      <th>weighted avg</th>\n",
       "      <td>0.801535</td>\n",
       "      <td>0.803571</td>\n",
       "      <td>0.800053</td>\n",
       "      <td>56.000000</td>\n",
       "    </tr>\n",
       "  </tbody>\n",
       "</table>\n",
       "</div>"
      ],
      "text/plain": [
       "              precision    recall  f1-score    support\n",
       "cat            0.815789  0.885714  0.849315  35.000000\n",
       "dog            0.777778  0.666667  0.717949  21.000000\n",
       "accuracy       0.803571  0.803571  0.803571   0.803571\n",
       "macro avg      0.796784  0.776190  0.783632  56.000000\n",
       "weighted avg   0.801535  0.803571  0.800053  56.000000"
      ]
     },
     "execution_count": 22,
     "metadata": {},
     "output_type": "execute_result"
    }
   ],
   "source": [
    "pd.DataFrame.from_dict(report).T"
   ]
  },
  {
   "cell_type": "markdown",
   "id": "6b1cb541",
   "metadata": {},
   "source": [
    "# 9. Save Model"
   ]
  },
  {
   "cell_type": "code",
   "execution_count": 23,
   "id": "0291e4e9",
   "metadata": {},
   "outputs": [],
   "source": [
    "import pickle"
   ]
  },
  {
   "cell_type": "code",
   "execution_count": 24,
   "id": "2bf44e70",
   "metadata": {},
   "outputs": [],
   "source": [
    "pickle.dump((clf, \n",
    "             scaler),  open('logistic_regression_model.pickle', 'wb'))"
   ]
  },
  {
   "cell_type": "code",
   "execution_count": null,
   "id": "a088c2b0",
   "metadata": {},
   "outputs": [],
   "source": []
  }
 ],
 "metadata": {
  "kernelspec": {
   "display_name": "Python 3",
   "language": "python",
   "name": "python3"
  },
  "language_info": {
   "codemirror_mode": {
    "name": "ipython",
    "version": 3
   },
   "file_extension": ".py",
   "mimetype": "text/x-python",
   "name": "python",
   "nbconvert_exporter": "python",
   "pygments_lexer": "ipython3",
   "version": "3.8.8"
  }
 },
 "nbformat": 4,
 "nbformat_minor": 5
}
