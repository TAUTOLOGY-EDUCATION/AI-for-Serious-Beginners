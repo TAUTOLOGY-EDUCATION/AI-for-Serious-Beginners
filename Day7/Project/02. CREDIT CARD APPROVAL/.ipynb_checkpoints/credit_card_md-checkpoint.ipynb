{
 "cells": [
  {
   "cell_type": "code",
   "execution_count": 1,
   "id": "a8478d19",
   "metadata": {},
   "outputs": [],
   "source": [
    "import numpy as np\n",
    "import pandas as pd\n",
    "import pickle"
   ]
  },
  {
   "cell_type": "code",
   "execution_count": 2,
   "id": "b9603b3b",
   "metadata": {},
   "outputs": [],
   "source": [
    "saved_model = pickle.load(open('credit_card_model.pickle', 'rb'))"
   ]
  },
  {
   "cell_type": "code",
   "execution_count": 3,
   "id": "e3fc9f7c",
   "metadata": {},
   "outputs": [],
   "source": [
    "reg = saved_model[0]\n",
    "one_hot_encoder = saved_model[1]\n",
    "scaler = saved_model[2]\n",
    "feature_name = saved_model[3]\n",
    "numerical_feature = saved_model[4]\n",
    "ordinal_feature = saved_model[5]\n",
    "nominal_feature = saved_model[6]"
   ]
  },
  {
   "cell_type": "code",
   "execution_count": 4,
   "id": "175d2d8a",
   "metadata": {},
   "outputs": [
    {
     "data": {
      "text/plain": [
       "['CODE_GENDER',\n",
       " 'FLAG_OWN_CAR',\n",
       " 'FLAG_OWN_REALTY',\n",
       " 'CNT_CHILDREN',\n",
       " 'AMT_INCOME_TOTAL',\n",
       " 'NAME_EDUCATION_TYPE',\n",
       " 'NAME_FAMILY_STATUS',\n",
       " 'NAME_HOUSING_TYPE',\n",
       " 'DAYS_BIRTH',\n",
       " 'DAYS_EMPLOYED',\n",
       " 'FLAG_MOBIL',\n",
       " 'FLAG_WORK_PHONE',\n",
       " 'FLAG_PHONE',\n",
       " 'FLAG_EMAIL',\n",
       " 'JOB',\n",
       " 'BEGIN_MONTHS',\n",
       " 'STATUS']"
      ]
     },
     "execution_count": 4,
     "metadata": {},
     "output_type": "execute_result"
    }
   ],
   "source": [
    "feature_name"
   ]
  },
  {
   "cell_type": "code",
   "execution_count": 5,
   "id": "7c6825e6",
   "metadata": {},
   "outputs": [],
   "source": [
    "CODE_GENDER = 'F'\n",
    "FLAG_OWN_CAR = 'Y'\n",
    "FLAG_OWN_REALTY = 'N'\n",
    "CNT_CHILDREN = '2+ children'\n",
    "AMT_INCOME_TOTAL = 270000\n",
    "NAME_EDUCATION_TYPE = 'Secondary / secondary special'\n",
    "NAME_FAMILY_STATUS = 'Married'\n",
    "NAME_HOUSING_TYPE = 'With parents'\n",
    "DAYS_BIRTH = -13258\n",
    "DAYS_EMPLOYED = -2300\n",
    "FLAG_MOBIL = 1\n",
    "FLAG_WORK_PHONE = 0\n",
    "FLAG_PHONE = 0\n",
    "FLAG_EMAIL = 0\n",
    "JOB = 'Managers'\n",
    "BEGIN_MONTHS = -6\n",
    "STATUS = 'C'"
   ]
  },
  {
   "cell_type": "code",
   "execution_count": 6,
   "id": "d65ea0e2",
   "metadata": {},
   "outputs": [
    {
     "data": {
      "text/html": [
       "<div>\n",
       "<style scoped>\n",
       "    .dataframe tbody tr th:only-of-type {\n",
       "        vertical-align: middle;\n",
       "    }\n",
       "\n",
       "    .dataframe tbody tr th {\n",
       "        vertical-align: top;\n",
       "    }\n",
       "\n",
       "    .dataframe thead th {\n",
       "        text-align: right;\n",
       "    }\n",
       "</style>\n",
       "<table border=\"1\" class=\"dataframe\">\n",
       "  <thead>\n",
       "    <tr style=\"text-align: right;\">\n",
       "      <th></th>\n",
       "      <th>CODE_GENDER</th>\n",
       "      <th>FLAG_OWN_CAR</th>\n",
       "      <th>FLAG_OWN_REALTY</th>\n",
       "      <th>CNT_CHILDREN</th>\n",
       "      <th>AMT_INCOME_TOTAL</th>\n",
       "      <th>NAME_EDUCATION_TYPE</th>\n",
       "      <th>NAME_FAMILY_STATUS</th>\n",
       "      <th>NAME_HOUSING_TYPE</th>\n",
       "      <th>DAYS_BIRTH</th>\n",
       "      <th>DAYS_EMPLOYED</th>\n",
       "      <th>FLAG_MOBIL</th>\n",
       "      <th>FLAG_WORK_PHONE</th>\n",
       "      <th>FLAG_PHONE</th>\n",
       "      <th>FLAG_EMAIL</th>\n",
       "      <th>JOB</th>\n",
       "      <th>BEGIN_MONTHS</th>\n",
       "      <th>STATUS</th>\n",
       "    </tr>\n",
       "  </thead>\n",
       "  <tbody>\n",
       "    <tr>\n",
       "      <th>0</th>\n",
       "      <td>F</td>\n",
       "      <td>Y</td>\n",
       "      <td>N</td>\n",
       "      <td>2+ children</td>\n",
       "      <td>270000</td>\n",
       "      <td>Secondary / secondary special</td>\n",
       "      <td>Married</td>\n",
       "      <td>With parents</td>\n",
       "      <td>-13258</td>\n",
       "      <td>-2300</td>\n",
       "      <td>1</td>\n",
       "      <td>0</td>\n",
       "      <td>0</td>\n",
       "      <td>0</td>\n",
       "      <td>Managers</td>\n",
       "      <td>-6</td>\n",
       "      <td>C</td>\n",
       "    </tr>\n",
       "  </tbody>\n",
       "</table>\n",
       "</div>"
      ],
      "text/plain": [
       "  CODE_GENDER FLAG_OWN_CAR FLAG_OWN_REALTY CNT_CHILDREN AMT_INCOME_TOTAL  \\\n",
       "0           F            Y               N  2+ children           270000   \n",
       "\n",
       "             NAME_EDUCATION_TYPE NAME_FAMILY_STATUS NAME_HOUSING_TYPE  \\\n",
       "0  Secondary / secondary special            Married      With parents   \n",
       "\n",
       "  DAYS_BIRTH DAYS_EMPLOYED FLAG_MOBIL FLAG_WORK_PHONE FLAG_PHONE FLAG_EMAIL  \\\n",
       "0     -13258         -2300          1               0          0          0   \n",
       "\n",
       "        JOB BEGIN_MONTHS STATUS  \n",
       "0  Managers           -6      C  "
      ]
     },
     "execution_count": 6,
     "metadata": {},
     "output_type": "execute_result"
    }
   ],
   "source": [
    "incoming_data = pd.DataFrame(np.array([[CODE_GENDER, FLAG_OWN_CAR, FLAG_OWN_REALTY, \n",
    "                                        CNT_CHILDREN, AMT_INCOME_TOTAL, NAME_EDUCATION_TYPE, \n",
    "                                        NAME_FAMILY_STATUS, NAME_HOUSING_TYPE, DAYS_BIRTH, \n",
    "                                        DAYS_EMPLOYED, FLAG_MOBIL, FLAG_WORK_PHONE, \n",
    "                                        FLAG_PHONE, FLAG_EMAIL, JOB, BEGIN_MONTHS, STATUS]]), \n",
    "                             columns=feature_name)\n",
    "\n",
    "incoming_data"
   ]
  },
  {
   "cell_type": "code",
   "execution_count": 7,
   "id": "01676150",
   "metadata": {},
   "outputs": [
    {
     "name": "stdout",
     "output_type": "stream",
     "text": [
      "numerical_feature : ['AMT_INCOME_TOTAL', 'DAYS_BIRTH', 'DAYS_EMPLOYED', 'FLAG_MOBIL', 'FLAG_WORK_PHONE', 'FLAG_PHONE', 'FLAG_EMAIL', 'BEGIN_MONTHS']\n",
      "ordinal_feature : []\n",
      "nominal_feature : ['CODE_GENDER', 'FLAG_OWN_CAR', 'FLAG_OWN_REALTY', 'CNT_CHILDREN', 'NAME_EDUCATION_TYPE', 'NAME_FAMILY_STATUS', 'NAME_HOUSING_TYPE', 'JOB', 'STATUS']\n"
     ]
    }
   ],
   "source": [
    "print('numerical_feature :', numerical_feature)\n",
    "print('ordinal_feature :', ordinal_feature)\n",
    "print('nominal_feature :', nominal_feature)"
   ]
  },
  {
   "cell_type": "markdown",
   "id": "ee3f53f1",
   "metadata": {},
   "source": [
    "### One Hot Encoding"
   ]
  },
  {
   "cell_type": "code",
   "execution_count": 8,
   "id": "e285dcd9",
   "metadata": {},
   "outputs": [],
   "source": [
    "one_hot_feature = []\n",
    "for i, feature in enumerate(nominal_feature):\n",
    "    for cate in one_hot_encoder.categories_[i]:\n",
    "        one_hot_feature_name = str(feature) + '_' + str(cate)\n",
    "        one_hot_feature.append(one_hot_feature_name)\n",
    "\n",
    "incoming_data[one_hot_feature] = one_hot_encoder.transform(incoming_data[nominal_feature])\n",
    "incoming_data.drop(nominal_feature, axis=1, inplace=True)"
   ]
  },
  {
   "cell_type": "code",
   "execution_count": 9,
   "id": "9a949188",
   "metadata": {},
   "outputs": [
    {
     "data": {
      "text/html": [
       "<div>\n",
       "<style scoped>\n",
       "    .dataframe tbody tr th:only-of-type {\n",
       "        vertical-align: middle;\n",
       "    }\n",
       "\n",
       "    .dataframe tbody tr th {\n",
       "        vertical-align: top;\n",
       "    }\n",
       "\n",
       "    .dataframe thead th {\n",
       "        text-align: right;\n",
       "    }\n",
       "</style>\n",
       "<table border=\"1\" class=\"dataframe\">\n",
       "  <thead>\n",
       "    <tr style=\"text-align: right;\">\n",
       "      <th></th>\n",
       "      <th>AMT_INCOME_TOTAL</th>\n",
       "      <th>DAYS_BIRTH</th>\n",
       "      <th>DAYS_EMPLOYED</th>\n",
       "      <th>FLAG_MOBIL</th>\n",
       "      <th>FLAG_WORK_PHONE</th>\n",
       "      <th>FLAG_PHONE</th>\n",
       "      <th>FLAG_EMAIL</th>\n",
       "      <th>BEGIN_MONTHS</th>\n",
       "      <th>CODE_GENDER_F</th>\n",
       "      <th>CODE_GENDER_M</th>\n",
       "      <th>...</th>\n",
       "      <th>JOB_Security staff</th>\n",
       "      <th>JOB_Waiters/barmen staff</th>\n",
       "      <th>STATUS_0</th>\n",
       "      <th>STATUS_1</th>\n",
       "      <th>STATUS_2</th>\n",
       "      <th>STATUS_3</th>\n",
       "      <th>STATUS_4</th>\n",
       "      <th>STATUS_5</th>\n",
       "      <th>STATUS_C</th>\n",
       "      <th>STATUS_X</th>\n",
       "    </tr>\n",
       "  </thead>\n",
       "  <tbody>\n",
       "    <tr>\n",
       "      <th>0</th>\n",
       "      <td>270000</td>\n",
       "      <td>-13258</td>\n",
       "      <td>-2300</td>\n",
       "      <td>1</td>\n",
       "      <td>0</td>\n",
       "      <td>0</td>\n",
       "      <td>0</td>\n",
       "      <td>-6</td>\n",
       "      <td>1.0</td>\n",
       "      <td>0.0</td>\n",
       "      <td>...</td>\n",
       "      <td>0.0</td>\n",
       "      <td>0.0</td>\n",
       "      <td>0.0</td>\n",
       "      <td>0.0</td>\n",
       "      <td>0.0</td>\n",
       "      <td>0.0</td>\n",
       "      <td>0.0</td>\n",
       "      <td>0.0</td>\n",
       "      <td>1.0</td>\n",
       "      <td>0.0</td>\n",
       "    </tr>\n",
       "  </tbody>\n",
       "</table>\n",
       "<p>1 rows × 59 columns</p>\n",
       "</div>"
      ],
      "text/plain": [
       "  AMT_INCOME_TOTAL DAYS_BIRTH DAYS_EMPLOYED FLAG_MOBIL FLAG_WORK_PHONE  \\\n",
       "0           270000     -13258         -2300          1               0   \n",
       "\n",
       "  FLAG_PHONE FLAG_EMAIL BEGIN_MONTHS  CODE_GENDER_F  CODE_GENDER_M  ...  \\\n",
       "0          0          0           -6            1.0            0.0  ...   \n",
       "\n",
       "   JOB_Security staff  JOB_Waiters/barmen staff  STATUS_0  STATUS_1  STATUS_2  \\\n",
       "0                 0.0                       0.0       0.0       0.0       0.0   \n",
       "\n",
       "   STATUS_3  STATUS_4  STATUS_5  STATUS_C  STATUS_X  \n",
       "0       0.0       0.0       0.0       1.0       0.0  \n",
       "\n",
       "[1 rows x 59 columns]"
      ]
     },
     "execution_count": 9,
     "metadata": {},
     "output_type": "execute_result"
    }
   ],
   "source": [
    "incoming_data"
   ]
  },
  {
   "cell_type": "markdown",
   "id": "edd0b8be",
   "metadata": {},
   "source": [
    "### Feature Scaling"
   ]
  },
  {
   "cell_type": "code",
   "execution_count": 10,
   "id": "81722698",
   "metadata": {},
   "outputs": [],
   "source": [
    "incoming_data_scaled = scaler.transform(incoming_data)"
   ]
  },
  {
   "cell_type": "markdown",
   "id": "5a00e4ea",
   "metadata": {},
   "source": [
    "### Prediction"
   ]
  },
  {
   "cell_type": "code",
   "execution_count": 11,
   "id": "3aee73e9",
   "metadata": {},
   "outputs": [],
   "source": [
    "predicted_target = reg.predict(incoming_data_scaled)"
   ]
  },
  {
   "cell_type": "code",
   "execution_count": 12,
   "id": "9c4908b5",
   "metadata": {},
   "outputs": [
    {
     "data": {
      "text/plain": [
       "array([0])"
      ]
     },
     "execution_count": 12,
     "metadata": {},
     "output_type": "execute_result"
    }
   ],
   "source": [
    "predicted_target"
   ]
  }
 ],
 "metadata": {
  "kernelspec": {
   "display_name": "Python 3",
   "language": "python",
   "name": "python3"
  },
  "language_info": {
   "codemirror_mode": {
    "name": "ipython",
    "version": 3
   },
   "file_extension": ".py",
   "mimetype": "text/x-python",
   "name": "python",
   "nbconvert_exporter": "python",
   "pygments_lexer": "ipython3",
   "version": "3.8.8"
  }
 },
 "nbformat": 4,
 "nbformat_minor": 5
}
