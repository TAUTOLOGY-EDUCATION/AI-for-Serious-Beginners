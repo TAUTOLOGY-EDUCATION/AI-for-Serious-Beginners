{
 "cells": [
  {
   "cell_type": "code",
   "execution_count": 1,
   "id": "5ea59e85",
   "metadata": {},
   "outputs": [],
   "source": [
    "import numpy as np\n",
    "import pandas as pd\n",
    "import pickle"
   ]
  },
  {
   "cell_type": "code",
   "execution_count": 2,
   "id": "32b38bdc",
   "metadata": {},
   "outputs": [],
   "source": [
    "saved_model = pickle.load(open('bike_sharing_model.pickle', 'rb'))"
   ]
  },
  {
   "cell_type": "code",
   "execution_count": 3,
   "id": "04a67d89",
   "metadata": {},
   "outputs": [],
   "source": [
    "reg = saved_model[0]\n",
    "one_hot_encoder = saved_model[1]\n",
    "scaler = saved_model[2]\n",
    "feature_name = saved_model[3]\n",
    "numerical_feature = saved_model[4]\n",
    "ordinal_feature = saved_model[5]\n",
    "nominal_feature = saved_model[6]"
   ]
  },
  {
   "cell_type": "code",
   "execution_count": 4,
   "id": "c45836ba",
   "metadata": {},
   "outputs": [
    {
     "data": {
      "text/plain": [
       "['season',\n",
       " 'yr',\n",
       " 'mnth',\n",
       " 'holiday',\n",
       " 'weekday',\n",
       " 'workingday',\n",
       " 'weathersit',\n",
       " 'temp',\n",
       " 'hum',\n",
       " 'windspeed']"
      ]
     },
     "execution_count": 4,
     "metadata": {},
     "output_type": "execute_result"
    }
   ],
   "source": [
    "feature_name"
   ]
  },
  {
   "cell_type": "code",
   "execution_count": 5,
   "id": "e36b7327",
   "metadata": {},
   "outputs": [],
   "source": [
    "season = 'FALL'\n",
    "yr = 2012\n",
    "mnth = 'AUG'\n",
    "holiday = 'NO HOLIDAY'\n",
    "weekday = 'TUE'\n",
    "workingday = 'WORKING DAY'\n",
    "weathersit = 'MISTY'\n",
    "temp = 26.584151\n",
    "hum = 70.3750\n",
    "windspeed = 7.832836"
   ]
  },
  {
   "cell_type": "code",
   "execution_count": 6,
   "id": "7ac5c33b",
   "metadata": {},
   "outputs": [
    {
     "data": {
      "text/html": [
       "<div>\n",
       "<style scoped>\n",
       "    .dataframe tbody tr th:only-of-type {\n",
       "        vertical-align: middle;\n",
       "    }\n",
       "\n",
       "    .dataframe tbody tr th {\n",
       "        vertical-align: top;\n",
       "    }\n",
       "\n",
       "    .dataframe thead th {\n",
       "        text-align: right;\n",
       "    }\n",
       "</style>\n",
       "<table border=\"1\" class=\"dataframe\">\n",
       "  <thead>\n",
       "    <tr style=\"text-align: right;\">\n",
       "      <th></th>\n",
       "      <th>season</th>\n",
       "      <th>yr</th>\n",
       "      <th>mnth</th>\n",
       "      <th>holiday</th>\n",
       "      <th>weekday</th>\n",
       "      <th>workingday</th>\n",
       "      <th>weathersit</th>\n",
       "      <th>temp</th>\n",
       "      <th>hum</th>\n",
       "      <th>windspeed</th>\n",
       "    </tr>\n",
       "  </thead>\n",
       "  <tbody>\n",
       "    <tr>\n",
       "      <th>0</th>\n",
       "      <td>FALL</td>\n",
       "      <td>2012</td>\n",
       "      <td>AUG</td>\n",
       "      <td>NO HOLIDAY</td>\n",
       "      <td>TUE</td>\n",
       "      <td>WORKING DAY</td>\n",
       "      <td>MISTY</td>\n",
       "      <td>26.584151</td>\n",
       "      <td>70.375</td>\n",
       "      <td>7.832836</td>\n",
       "    </tr>\n",
       "  </tbody>\n",
       "</table>\n",
       "</div>"
      ],
      "text/plain": [
       "  season    yr mnth     holiday weekday   workingday weathersit       temp  \\\n",
       "0   FALL  2012  AUG  NO HOLIDAY     TUE  WORKING DAY      MISTY  26.584151   \n",
       "\n",
       "      hum windspeed  \n",
       "0  70.375  7.832836  "
      ]
     },
     "execution_count": 6,
     "metadata": {},
     "output_type": "execute_result"
    }
   ],
   "source": [
    "incoming_data = pd.DataFrame(np.array([[season, yr, mnth, holiday, \n",
    "                                        weekday, workingday, weathersit, \n",
    "                                        temp, hum, windspeed]]), \n",
    "                             columns=feature_name)\n",
    "\n",
    "incoming_data"
   ]
  },
  {
   "cell_type": "code",
   "execution_count": 7,
   "id": "4eec6d3c",
   "metadata": {},
   "outputs": [
    {
     "name": "stdout",
     "output_type": "stream",
     "text": [
      "numerical_feature : ['yr', 'temp', 'hum', 'windspeed']\n",
      "ordinal_feature : []\n",
      "nominal_feature : ['season', 'mnth', 'holiday', 'weekday', 'workingday', 'weathersit']\n"
     ]
    }
   ],
   "source": [
    "print('numerical_feature :', numerical_feature)\n",
    "print('ordinal_feature :', ordinal_feature)\n",
    "print('nominal_feature :', nominal_feature)"
   ]
  },
  {
   "cell_type": "markdown",
   "id": "27a52479",
   "metadata": {},
   "source": [
    "### ### Ordinal Encoding"
   ]
  },
  {
   "cell_type": "markdown",
   "id": "e79c38b2",
   "metadata": {},
   "source": [
    "### One Hot Encoding"
   ]
  },
  {
   "cell_type": "code",
   "execution_count": 8,
   "id": "88d611f4",
   "metadata": {},
   "outputs": [],
   "source": [
    "one_hot_feature = []\n",
    "for i, feature in enumerate(nominal_feature):\n",
    "    for cate in one_hot_encoder.categories_[i]:\n",
    "        one_hot_feature_name = str(feature) + '_' + str(cate)\n",
    "        one_hot_feature.append(one_hot_feature_name)\n",
    "        \n",
    "incoming_data[one_hot_feature] = one_hot_encoder.transform(incoming_data[nominal_feature])\n",
    "incoming_data.drop(nominal_feature, axis=1, inplace=True)\n",
    "\n",
    "incoming_data_scaled = scaler.transform(incoming_data)"
   ]
  },
  {
   "cell_type": "code",
   "execution_count": 9,
   "id": "035b12b8",
   "metadata": {},
   "outputs": [
    {
     "data": {
      "text/plain": [
       "array([[ 1.        ,  1.3514555 ,  0.53941887, -0.96068093,  1.71637582,\n",
       "        -0.58262298, -0.56944099, -0.57471395, -0.30599503,  3.16525954,\n",
       "        -0.30599503, -0.30599503, -0.29584333, -0.2819263 , -0.30263639,\n",
       "        -0.31264095, -0.2819263 , -0.2992528 , -0.31264095, -0.29584333,\n",
       "        -0.15088762,  0.15088762, -0.40416162, -0.40416162, -0.41272349,\n",
       "        -0.40702415, -0.40987803,  2.43975018, -0.40987803, -0.67017275,\n",
       "         0.67017275, -1.31490378,  1.41785376, -0.18831089]])"
      ]
     },
     "execution_count": 9,
     "metadata": {},
     "output_type": "execute_result"
    }
   ],
   "source": [
    "incoming_data_scaled"
   ]
  },
  {
   "cell_type": "markdown",
   "id": "937cb857",
   "metadata": {},
   "source": [
    "### Prediction"
   ]
  },
  {
   "cell_type": "code",
   "execution_count": 10,
   "id": "dc402f2e",
   "metadata": {},
   "outputs": [],
   "source": [
    "predicted_target = reg.predict(incoming_data_scaled)"
   ]
  },
  {
   "cell_type": "code",
   "execution_count": 11,
   "id": "6f199502",
   "metadata": {
    "scrolled": true
   },
   "outputs": [
    {
     "data": {
      "text/plain": [
       "array([7272.99999976])"
      ]
     },
     "execution_count": 11,
     "metadata": {},
     "output_type": "execute_result"
    }
   ],
   "source": [
    "predicted_target"
   ]
  }
 ],
 "metadata": {
  "kernelspec": {
   "display_name": "Python 3",
   "language": "python",
   "name": "python3"
  },
  "language_info": {
   "codemirror_mode": {
    "name": "ipython",
    "version": 3
   },
   "file_extension": ".py",
   "mimetype": "text/x-python",
   "name": "python",
   "nbconvert_exporter": "python",
   "pygments_lexer": "ipython3",
   "version": "3.8.8"
  }
 },
 "nbformat": 4,
 "nbformat_minor": 5
}
